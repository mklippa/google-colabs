{
  "nbformat": 4,
  "nbformat_minor": 0,
  "metadata": {
    "colab": {
      "name": "cracking_the_coding_interview.ipynb",
      "provenance": [],
      "collapsed_sections": [
        "W9xSwkrb0xRg",
        "mTIr8jyE0qPn",
        "ZQ3cYJ510kSX",
        "b6nbGJ_90aeS",
        "TYmCOvtS0Uxu",
        "EC5vx8wfznQl"
      ],
      "toc_visible": true,
      "mount_file_id": "1pFq2yX11n2DLerxJmMWnHXILlyJ7rU5G",
      "authorship_tag": "ABX9TyNFrY7wqevu4SX9kZFPCKXA",
      "include_colab_link": true
    },
    "kernelspec": {
      "name": "python3",
      "display_name": "Python 3"
    }
  },
  "cells": [
    {
      "cell_type": "markdown",
      "metadata": {
        "id": "view-in-github",
        "colab_type": "text"
      },
      "source": [
        "<a href=\"https://colab.research.google.com/gist/mklippa/ce9051c36c3e85c464a5e0972245c01c/cracking_the_coding_interview.ipynb\" target=\"_parent\"><img src=\"https://colab.research.google.com/assets/colab-badge.svg\" alt=\"Open In Colab\"/></a>"
      ]
    },
    {
      "cell_type": "markdown",
      "metadata": {
        "id": "-OILSX_fmEJJ",
        "colab_type": "text"
      },
      "source": [
        "# Chapter 1. Arrays and Strings"
      ]
    },
    {
      "cell_type": "markdown",
      "metadata": {
        "id": "KfYEnzgH1-7D",
        "colab_type": "text"
      },
      "source": [
        "## 1.1 Is Unique\n"
      ]
    },
    {
      "cell_type": "code",
      "metadata": {
        "id": "hv5jzBsCUR6U",
        "colab_type": "code",
        "outputId": "37f13a77-fe44-4973-a091-a8e6109076d4",
        "colab": {
          "base_uri": "https://localhost:8080/",
          "height": 51
        }
      },
      "source": [
        "def isUnique(input):\n",
        "  input = sorted(input)\n",
        "  i = 1\n",
        "  while i < len(input):\n",
        "    if input[i] is input[i-1]:\n",
        "      return False\n",
        "    i += 1\n",
        "  return True\n",
        "\n",
        "print(isUnique('abc'))\n",
        "print(isUnique('abbc'))"
      ],
      "execution_count": 0,
      "outputs": [
        {
          "output_type": "stream",
          "text": [
            "True\n",
            "False\n"
          ],
          "name": "stdout"
        }
      ]
    },
    {
      "cell_type": "markdown",
      "metadata": {
        "id": "j5ieD5IF2CYo",
        "colab_type": "text"
      },
      "source": [
        "## 1.2 Check Permutation\n"
      ]
    },
    {
      "cell_type": "code",
      "metadata": {
        "id": "uge2yldJXtBD",
        "colab_type": "code",
        "outputId": "5a1cc01e-3c64-4a8b-ffac-4bb01c757654",
        "colab": {
          "base_uri": "https://localhost:8080/",
          "height": 34
        }
      },
      "source": [
        "def checkPermutation1(a, b):\n",
        "  return sorted(a) == sorted(b)\n",
        "checkPermutation1('abcd', 'acbd')\n",
        "checkPermutation1('abcd', 'abce')\n",
        "\n",
        "def checkPermutation2(a, b):\n",
        "  charCounter = {}\n",
        "  for ch in a:\n",
        "    if ch in charCounter:\n",
        "      charCounter[ch] += 1\n",
        "    else:\n",
        "      charCounter[ch] = 1\n",
        "  for ch in b:\n",
        "    if ch not in charCounter:\n",
        "      return False\n",
        "    if charCounter[ch] is 0:\n",
        "      return False\n",
        "    charCounter[ch] -= 1\n",
        "  for ch in charCounter:\n",
        "    if charCounter[ch] > 0:\n",
        "      return False\n",
        "  return True\n",
        "checkPermutation2('abcd', 'acbd')\n",
        "checkPermutation2('abcd', 'abce')"
      ],
      "execution_count": 0,
      "outputs": [
        {
          "output_type": "execute_result",
          "data": {
            "text/plain": [
              "False"
            ]
          },
          "metadata": {
            "tags": []
          },
          "execution_count": 14
        }
      ]
    },
    {
      "cell_type": "markdown",
      "metadata": {
        "id": "nS-3xMYf2Imf",
        "colab_type": "text"
      },
      "source": [
        "## 1.3 URLify\n"
      ]
    },
    {
      "cell_type": "code",
      "metadata": {
        "id": "Tzo5_Dr-bU_u",
        "colab_type": "code",
        "outputId": "6bb894f6-965e-4ffe-af85-a7b40444d8a2",
        "colab": {
          "base_uri": "https://localhost:8080/",
          "height": 34
        }
      },
      "source": [
        "def URLify(input, length):\n",
        "  output = list(input)\n",
        "  space = '%20'\n",
        "  spaceIncrement = len(space) - 1;\n",
        "  spaceCount = int((len(output) - length) / spaceIncrement)\n",
        "  i = len(output) - 1\n",
        "  while i >= 0:\n",
        "    j = i - spaceCount * spaceIncrement\n",
        "    if output[j] is ' ':\n",
        "      spaceCount -= 1\n",
        "      output[i] = space[2]\n",
        "      i -= 1\n",
        "      output[i] = space[1]\n",
        "      i -= 1\n",
        "      output[i] = space[0]\n",
        "      i -= 1\n",
        "    else:\n",
        "      output[i] = output[j]\n",
        "      i -= 1\n",
        "  return ''.join(output)\n",
        "URLify('Mr John Smith    ', 13)\n"
      ],
      "execution_count": 0,
      "outputs": [
        {
          "output_type": "execute_result",
          "data": {
            "text/plain": [
              "'Mr%20John%20Smith'"
            ]
          },
          "metadata": {
            "tags": []
          },
          "execution_count": 25
        }
      ]
    },
    {
      "cell_type": "markdown",
      "metadata": {
        "id": "ZBthD11G2OSL",
        "colab_type": "text"
      },
      "source": [
        "## 1.4 Palindrome Permutation\n"
      ]
    },
    {
      "cell_type": "code",
      "metadata": {
        "id": "oc9F_ZVCmQ7W",
        "colab_type": "code",
        "outputId": "89a82c1b-ddc3-40b0-cf32-fd551e0a00e4",
        "colab": {
          "base_uri": "https://localhost:8080/",
          "height": 34
        }
      },
      "source": [
        "def palindromePermutation(input):\n",
        "  \n",
        "  # input preparation\n",
        "  s = [ch for ch in input.lower() if ch >= 'a' and ch <= 'z']\n",
        "  \n",
        "  # count each character in input\n",
        "  charCount = [0] * (ord('z') - ord('a'))\n",
        "  for ch in s:\n",
        "    charCount[index(ch)] += 1\n",
        "  \n",
        "  # check palindrome\n",
        "  unpaired = 0\n",
        "  for count in charCount:\n",
        "    if count % 2 is not 0:\n",
        "      unpaired += 1\n",
        "    if unpaired > 1:\n",
        "      return False\n",
        "  return True\n",
        "\n",
        "def index(ch):\n",
        "  return ord(ch) - ord('a')\n",
        "\n",
        "palindromePermutation('Tact Coa')"
      ],
      "execution_count": 0,
      "outputs": [
        {
          "output_type": "execute_result",
          "data": {
            "text/plain": [
              "True"
            ]
          },
          "metadata": {
            "tags": []
          },
          "execution_count": 36
        }
      ]
    },
    {
      "cell_type": "markdown",
      "metadata": {
        "id": "9yyZWsup2SLu",
        "colab_type": "text"
      },
      "source": [
        "## 1.5 One Way\n"
      ]
    },
    {
      "cell_type": "code",
      "metadata": {
        "id": "MNY9b8j4q1l1",
        "colab_type": "code",
        "outputId": "84f03d6d-2eb4-47db-cd5f-880a3597190b",
        "colab": {
          "base_uri": "https://localhost:8080/",
          "height": 85
        }
      },
      "source": [
        "def oneWay(a, b):\n",
        "  if len(a) - len(b) > 1:\n",
        "    return False\n",
        "  count = i = j = 0\n",
        "  while i < len(a) and j < len(b):\n",
        "    if a[i] is not b[j]:\n",
        "      count += 1\n",
        "      if count > 1:\n",
        "        return False\n",
        "      if i+1 < len(a) and a[i+1] is b[j]:\n",
        "        i += 1\n",
        "      if j+1 < len(b) and a[i] is b[j+1]:\n",
        "        j += 1\n",
        "    i += 1\n",
        "    j += 1\n",
        "  return True\n",
        "\n",
        "print(oneWay('pale', 'ple'))\n",
        "print(oneWay('pales', 'pale'))\n",
        "print(oneWay('pale', 'bale'))\n",
        "print(oneWay('pale', 'bake'))\n"
      ],
      "execution_count": 0,
      "outputs": [
        {
          "output_type": "stream",
          "text": [
            "True\n",
            "True\n",
            "True\n",
            "False\n"
          ],
          "name": "stdout"
        }
      ]
    },
    {
      "cell_type": "markdown",
      "metadata": {
        "id": "djtmZlAA2Wny",
        "colab_type": "text"
      },
      "source": [
        "## 1.6 String Compression\n"
      ]
    },
    {
      "cell_type": "code",
      "metadata": {
        "id": "lbw-Bm-J_Jh9",
        "colab_type": "code",
        "outputId": "b10fbe44-0f0f-413b-c3e0-4035874b4d8a",
        "colab": {
          "base_uri": "https://localhost:8080/",
          "height": 34
        }
      },
      "source": [
        "def stringCompression(s):\n",
        "  rshift = '#' + s[:-1]\n",
        "  result = []\n",
        "  i = 0\n",
        "  while i < len(s):\n",
        "    if s[i] is not rshift[i]:\n",
        "      result.append(s[i])\n",
        "      result.append(1)\n",
        "    else:\n",
        "      result[-1] += 1\n",
        "    i += 1\n",
        "  return s if len(result) >= len(s) else ''.join(map(str,result))\n",
        "\n",
        "stringCompression('aabcccccaaa')"
      ],
      "execution_count": 0,
      "outputs": [
        {
          "output_type": "execute_result",
          "data": {
            "text/plain": [
              "'a2b1c5a3'"
            ]
          },
          "metadata": {
            "tags": []
          },
          "execution_count": 8
        }
      ]
    },
    {
      "cell_type": "markdown",
      "metadata": {
        "id": "gR4j0w-Y2apR",
        "colab_type": "text"
      },
      "source": [
        "## 1.7 Rotate Matrix\n"
      ]
    },
    {
      "cell_type": "code",
      "metadata": {
        "id": "pZjHdVnDCEzI",
        "colab_type": "code",
        "colab": {}
      },
      "source": [
        "def rotateMatrix(matrix):\n",
        "  for i, row in enumerate(matrix):\n",
        "    for j, cell in enumerate(row):\n",
        "      for v, rgba in enumerate(cell):\n",
        "        temp = matrix[i][j][v]\n",
        "        matrix[i][j][v] = matrix[j][i][v]\n",
        "        matrix[j][i][v] = temp"
      ],
      "execution_count": 0,
      "outputs": []
    },
    {
      "cell_type": "markdown",
      "metadata": {
        "id": "sSFvIUo52ZNF",
        "colab_type": "text"
      },
      "source": [
        "## 1.8 Zero Matrix\n"
      ]
    },
    {
      "cell_type": "code",
      "metadata": {
        "id": "16E8QcZVDAu5",
        "colab_type": "code",
        "outputId": "120cecec-4ff0-4da2-e7f4-5b0e287c23fd",
        "colab": {
          "base_uri": "https://localhost:8080/",
          "height": 119
        }
      },
      "source": [
        "def zeroMatrix1(matrix):\n",
        "  zeros = []\n",
        "  for i, row in enumerate(matrix):\n",
        "    for j, v in enumerate(row):\n",
        "      if v is 0:\n",
        "        zeros.append((i, j))\n",
        "  for point in zeros:\n",
        "    i = point[0]\n",
        "    for j in range(len(matrix[i])):\n",
        "      matrix[i][j] = 0\n",
        "    j = point[1]\n",
        "    for i in range(len(matrix)):\n",
        "      matrix[i][j] = 0\n",
        "\n",
        "def zeroMatrix2(matrix):\n",
        "  for i, row in enumerate(matrix):\n",
        "    for j, v in enumerate(row):\n",
        "      if v is 0:\n",
        "        matrix[0][j] = float('inf')\n",
        "        matrix[i][0] = float('inf')\n",
        "  for j, v in enumerate(matrix[0]):\n",
        "    if v == float('inf'):\n",
        "      for i in range(len(matrix)):\n",
        "        matrix[i][j] = 0\n",
        "  for i in range(len(matrix)):\n",
        "    if matrix[i][0] == float('inf'):\n",
        "      for j in range(len(matrix[i])):\n",
        "        matrix[i][j] = 0\n",
        "\n",
        "def display(matrix):\n",
        "  for row in matrix:\n",
        "    print(' '.join(map(str,row)))\n",
        "\n",
        "matrix = [\n",
        "  [1,1,1,1,1,1],\n",
        "  [1,0,1,1,1,1],\n",
        "  [1,1,1,1,1,1],\n",
        "  [1,1,1,1,1,0],\n",
        "  [1,1,1,1,1,1],\n",
        "  [1,1,1,0,1,1],\n",
        "]\n",
        "\n",
        "zeroMatrix2(matrix)\n",
        "display(matrix)\n"
      ],
      "execution_count": 0,
      "outputs": [
        {
          "output_type": "stream",
          "text": [
            "1 0 1 0 1 0\n",
            "0 0 0 0 0 0\n",
            "1 0 1 0 1 0\n",
            "0 0 0 0 0 0\n",
            "1 0 1 0 1 0\n",
            "0 0 0 0 0 0\n"
          ],
          "name": "stdout"
        }
      ]
    },
    {
      "cell_type": "markdown",
      "metadata": {
        "id": "XTlvxmVp2inc",
        "colab_type": "text"
      },
      "source": [
        "## 1.9 String Rotation\n"
      ]
    },
    {
      "cell_type": "code",
      "metadata": {
        "id": "BH1EIzT-GvRJ",
        "colab_type": "code",
        "outputId": "a7f1e18f-7c89-42cf-9f25-797d5f73ea0b",
        "colab": {
          "base_uri": "https://localhost:8080/",
          "height": 34
        }
      },
      "source": [
        "def isSubstring(a, b):\n",
        "  if len(a) > len(b):\n",
        "    return False\n",
        "  table = []\n",
        "  n = 0\n",
        "  for i, c1 in enumerate(a):\n",
        "    table.append([0]*len(b))\n",
        "    for j, c2 in enumerate(b):\n",
        "      if c1 is c2:\n",
        "        table[i][j] += 1\n",
        "      if i > 0 and j > 0:\n",
        "        table[i][j] += table[i-1][j-1]\n",
        "      if table[i][j] > n:\n",
        "        n = table[i][j]\n",
        "  return n is len(a)\n",
        "\n",
        "isSubstring('bot', 'waterbottle')\n",
        "\n",
        "def stringRotation(str1, str2):\n",
        "  return len(str1) is len(str2) and isSubstring(str1, 2*str2)\n",
        "\n",
        "stringRotation('waterbottle', 'erbottlewat')"
      ],
      "execution_count": 0,
      "outputs": [
        {
          "output_type": "execute_result",
          "data": {
            "text/plain": [
              "True"
            ]
          },
          "metadata": {
            "tags": []
          },
          "execution_count": 16
        }
      ]
    },
    {
      "cell_type": "markdown",
      "metadata": {
        "id": "3NAJYFucsmQI",
        "colab_type": "text"
      },
      "source": [
        "# Chapter 2. Linked Lists"
      ]
    },
    {
      "cell_type": "markdown",
      "metadata": {
        "id": "1imX7C8-0-Si",
        "colab_type": "text"
      },
      "source": [
        "## Implementation"
      ]
    },
    {
      "cell_type": "code",
      "metadata": {
        "id": "m11moHHmpS1v",
        "colab_type": "code",
        "colab": {}
      },
      "source": [
        "class Node:\n",
        "  def __init__(self, data):\n",
        "    self.next = None\n",
        "    self.data = data\n",
        "\n",
        "  def __str__(self):\n",
        "    n = self\n",
        "    arr = []\n",
        "    while n is not None:\n",
        "      arr.append(n.data)\n",
        "      n = n.next\n",
        "    return ' → '.join(map(str, arr))\n",
        "\n",
        "  def appendToTail(self, d):\n",
        "    end = Node(d)\n",
        "    node = self\n",
        "    while node.next is not None:\n",
        "      node = node.next\n",
        "    node.next = end\n",
        "\n",
        "  @staticmethod\n",
        "  def deleteNode(head, d):\n",
        "    n = head\n",
        "\n",
        "    if n.data is d:\n",
        "      return head.next\n",
        "\n",
        "    while n.next is not None:\n",
        "      if n.next.data is d:\n",
        "        n.next = n.next.next\n",
        "        return head\n",
        "      n = n.next\n",
        "\n",
        "    return head"
      ],
      "execution_count": 0,
      "outputs": []
    },
    {
      "cell_type": "markdown",
      "metadata": {
        "id": "Oa33_Yq11IWX",
        "colab_type": "text"
      },
      "source": [
        "## 2.1 Remove Dups\n"
      ]
    },
    {
      "cell_type": "code",
      "metadata": {
        "id": "7vPms3kAg9s5",
        "colab_type": "code",
        "outputId": "2f09af58-f735-4067-cd13-bd7309eb773e",
        "colab": {
          "base_uri": "https://localhost:8080/",
          "height": 51
        }
      },
      "source": [
        "head = Node(1)\n",
        "head.appendToTail(2)\n",
        "head.appendToTail(3)\n",
        "head.appendToTail(1)\n",
        "head.appendToTail(3)\n",
        "head.appendToTail(4)\n",
        "head.appendToTail(2)\n",
        "print(head)\n",
        "\n",
        "def removeDups(head):\n",
        "  p1 = p2 = head\n",
        "  while p1.next is not None:\n",
        "    while p2.next is not None:\n",
        "      if p2.next.data is p1.data:\n",
        "        p2.next = p2.next.next\n",
        "      else:\n",
        "        p2 = p2.next\n",
        "    p1 = p1.next\n",
        "    p2 = p1\n",
        "\n",
        "removeDups(head)\n",
        "print(head)"
      ],
      "execution_count": 0,
      "outputs": [
        {
          "output_type": "stream",
          "text": [
            "1 → 2 → 3 → 1 → 3 → 4 → 2\n",
            "1 → 2 → 3 → 4\n"
          ],
          "name": "stdout"
        }
      ]
    },
    {
      "cell_type": "markdown",
      "metadata": {
        "id": "sbyQUw481M2K",
        "colab_type": "text"
      },
      "source": [
        "## 2.2 Return Kth to Last\n"
      ]
    },
    {
      "cell_type": "code",
      "metadata": {
        "id": "DSF5q3p6jChD",
        "colab_type": "code",
        "outputId": "782aa8f9-84e6-4f68-b44b-3c1631bea23f",
        "colab": {
          "base_uri": "https://localhost:8080/",
          "height": 34
        }
      },
      "source": [
        "def kElementToLast(head, k):\n",
        "  p1 = p2 = head\n",
        "  n = 0\n",
        "  while p1.next is not None:\n",
        "    p1 = p1.next\n",
        "    n += 1\n",
        "    if n >= k:\n",
        "      p2 = p2.next\n",
        "  return p2 if n >= k else None\n",
        "\n",
        "head = Node(1)\n",
        "head.appendToTail(2)\n",
        "head.appendToTail(3)\n",
        "head.appendToTail(1)\n",
        "head.appendToTail(3)\n",
        "head.appendToTail(4)\n",
        "head.appendToTail(2)\n",
        "print(kElementToLast(head, 3))\n"
      ],
      "execution_count": 0,
      "outputs": [
        {
          "output_type": "stream",
          "text": [
            "3 → 4 → 2\n"
          ],
          "name": "stdout"
        }
      ]
    },
    {
      "cell_type": "markdown",
      "metadata": {
        "id": "X1uSzHAK1QJT",
        "colab_type": "text"
      },
      "source": [
        "## 2.3 Delete Middle Node\n"
      ]
    },
    {
      "cell_type": "code",
      "metadata": {
        "id": "96ttRjAthQ-W",
        "colab_type": "code",
        "outputId": "b09fdda4-9560-4011-8eca-b7e29d13e0cb",
        "colab": {
          "base_uri": "https://localhost:8080/",
          "height": 68
        }
      },
      "source": [
        "head = Node(1)\n",
        "head.appendToTail(5)\n",
        "head.appendToTail(9)\n",
        "head.appendToTail(12)\n",
        "print(head)\n",
        "\n",
        "middle = head.next.next\n",
        "print(middle.data)\n",
        "\n",
        "node = middle\n",
        "while(True):\n",
        "  node.data = node.next.data\n",
        "  if node.next.next is None:\n",
        "    node.next = None\n",
        "    break\n",
        "  else:\n",
        "    node = node.next\n",
        "\n",
        "print(head)"
      ],
      "execution_count": 0,
      "outputs": [
        {
          "output_type": "stream",
          "text": [
            "1 → 5 → 9 → 12\n",
            "9\n",
            "1 → 5 → 12\n"
          ],
          "name": "stdout"
        }
      ]
    },
    {
      "cell_type": "markdown",
      "metadata": {
        "id": "eSJ5VnmC1S70",
        "colab_type": "text"
      },
      "source": [
        "## 2.4 Partition"
      ]
    },
    {
      "cell_type": "code",
      "metadata": {
        "id": "MWvilMhA2pPF",
        "colab_type": "code",
        "outputId": "e753e147-5bcc-440e-8775-b8a780443e65",
        "colab": {
          "base_uri": "https://localhost:8080/",
          "height": 51
        }
      },
      "source": [
        "def partition(head, pivot):\n",
        "  p1 = p2 = head\n",
        "  last = None\n",
        "  while p1.next is not last:\n",
        "    if p1.data >= pivot:\n",
        "      while p2.next is not last:\n",
        "        temp = p2.data\n",
        "        p2.data = p2.next.data\n",
        "        p2.next.data = temp\n",
        "        p2 = p2.next\n",
        "      last = p2\n",
        "    else:\n",
        "      p1 = p1.next\n",
        "    p2 = p1\n",
        "\n",
        "head = Node(3)\n",
        "head.appendToTail(5)\n",
        "head.appendToTail(8)\n",
        "head.appendToTail(5)\n",
        "head.appendToTail(9)\n",
        "head.appendToTail(2)\n",
        "head.appendToTail(1)\n",
        "print(head)\n",
        "\n",
        "partition(head, 5)\n",
        "print(head)"
      ],
      "execution_count": 0,
      "outputs": [
        {
          "output_type": "stream",
          "text": [
            "3 → 5 → 8 → 5 → 9 → 2 → 1\n",
            "3 → 2 → 1 → 9 → 5 → 8 → 5\n"
          ],
          "name": "stdout"
        }
      ]
    },
    {
      "cell_type": "markdown",
      "metadata": {
        "id": "W9xSwkrb0xRg",
        "colab_type": "text"
      },
      "source": [
        "## 2.5 Sum Lists"
      ]
    },
    {
      "cell_type": "code",
      "metadata": {
        "id": "5aT2SdprAHLK",
        "colab_type": "code",
        "outputId": "6d9e6a56-2c4e-41ba-ad4d-02f6be80ebda",
        "colab": {
          "base_uri": "https://localhost:8080/",
          "height": 34
        }
      },
      "source": [
        "def sumLists(a, b):\n",
        "  def sumLists(a, b, n):\n",
        "    if a is b is None:\n",
        "      return 0\n",
        "    adata, anext = (a.data, a.next) if a is not None else (0, None)\n",
        "    bdata, bnext = (b.data, b.next) if b is not None else (0, None)\n",
        "    return sumLists(anext, bnext, n*10) + (adata+bdata)*n\n",
        "  \n",
        "  s = sumLists(a, b, 1)\n",
        "  result = Node(s % 10)\n",
        "  s //= 10\n",
        "  while(s is not 0):\n",
        "    result.appendToTail(s % 10)\n",
        "    s //= 10\n",
        "  return result\n",
        "\n",
        "a = Node(9)\n",
        "a.appendToTail(7)\n",
        "a.appendToTail(8)\n",
        "\n",
        "b = Node(6)\n",
        "b.appendToTail(8)\n",
        "b.appendToTail(5)\n",
        "\n",
        "print(sumLists(a,b))\n"
      ],
      "execution_count": 0,
      "outputs": [
        {
          "output_type": "stream",
          "text": [
            "5 → 6 → 4 → 1\n"
          ],
          "name": "stdout"
        }
      ]
    },
    {
      "cell_type": "markdown",
      "metadata": {
        "id": "mTIr8jyE0qPn",
        "colab_type": "text"
      },
      "source": [
        "## 2.5 Sum Lists (Forward)"
      ]
    },
    {
      "cell_type": "code",
      "metadata": {
        "id": "9XJX85_Ojfvh",
        "colab_type": "code",
        "outputId": "aad1ce3c-dd6e-44e6-9f30-8594ba83d3b6",
        "colab": {
          "base_uri": "https://localhost:8080/",
          "height": 34
        }
      },
      "source": [
        "def count(head):\n",
        "  return 0 if head is None else 1 + count(head.next)\n",
        "\n",
        "def sumForwardLinks(a, b):\n",
        "  alength = count(a)\n",
        "  blength = count(b)\n",
        "  dif = blength - alength \n",
        "  for i in range(max(0, dif)):\n",
        "    n = Node(0)\n",
        "    n.next = a\n",
        "    a = n\n",
        "  for i in range(max(0, -dif)):\n",
        "    n = Node(0)\n",
        "    n.next = b\n",
        "    b = n\n",
        "  \n",
        "  def sumForwardLinks(a, b, n):\n",
        "    if a is b is None:\n",
        "      return 0\n",
        "    else:\n",
        "      return (a.data + b.data) * 10 ** n + sumForwardLinks(a.next, b.next, n - 1)\n",
        "  \n",
        "  return sumForwardLinks(a, b, max(alength, blength) - 1)\n",
        "\n",
        "a = Node(6)\n",
        "a.appendToTail(1)\n",
        "a.appendToTail(7)\n",
        "\n",
        "b = Node(1)\n",
        "b.appendToTail(2)\n",
        "b.appendToTail(9)\n",
        "b.appendToTail(5)\n",
        "\n",
        "sumForwardLinks(a, b)"
      ],
      "execution_count": 0,
      "outputs": [
        {
          "output_type": "execute_result",
          "data": {
            "text/plain": [
              "1912"
            ]
          },
          "metadata": {
            "tags": []
          },
          "execution_count": 4
        }
      ]
    },
    {
      "cell_type": "markdown",
      "metadata": {
        "id": "ZQ3cYJ510kSX",
        "colab_type": "text"
      },
      "source": [
        "## 2.6 Palindrome"
      ]
    },
    {
      "cell_type": "code",
      "metadata": {
        "id": "LeYwqOvGzb3D",
        "colab_type": "code",
        "outputId": "640c6f37-de03-42fc-a464-f3cba7f929b9",
        "colab": {
          "base_uri": "https://localhost:8080/",
          "height": 51
        }
      },
      "source": [
        "a = Node(1)\n",
        "a.appendToTail(2)\n",
        "a.appendToTail(3)\n",
        "a.appendToTail(4)\n",
        "a.appendToTail(3)\n",
        "a.appendToTail(2)\n",
        "a.appendToTail(1)\n",
        "\n",
        "print(a)\n",
        "\n",
        "def palindrome(a):\n",
        "  length = count(a)\n",
        "  n = 0\n",
        "  stack = []\n",
        "  while(a is not None):\n",
        "    if n < length // 2:\n",
        "      stack.append(a.data)\n",
        "    elif length % 2 != 0 and n == length // 2:\n",
        "      pass\n",
        "    elif a.data is not stack.pop():\n",
        "      return False\n",
        "    a = a.next\n",
        "    n += 1\n",
        "  return True\n",
        "\n",
        "palindrome(a)"
      ],
      "execution_count": 0,
      "outputs": [
        {
          "output_type": "stream",
          "text": [
            "1 → 2 → 3 → 4 → 3 → 2 → 1\n"
          ],
          "name": "stdout"
        },
        {
          "output_type": "execute_result",
          "data": {
            "text/plain": [
              "True"
            ]
          },
          "metadata": {
            "tags": []
          },
          "execution_count": 20
        }
      ]
    },
    {
      "cell_type": "markdown",
      "metadata": {
        "id": "b6nbGJ_90aeS",
        "colab_type": "text"
      },
      "source": [
        "## 2.7 Intersection"
      ]
    },
    {
      "cell_type": "code",
      "metadata": {
        "id": "MqtN-TPevJ64",
        "colab_type": "code",
        "outputId": "34cce967-f99d-4669-a341-66d78da84846",
        "colab": {
          "base_uri": "https://localhost:8080/",
          "height": 68
        }
      },
      "source": [
        "common = Node(2)\n",
        "a = Node(1)\n",
        "a.next = common\n",
        "a.appendToTail(3)\n",
        "a.appendToTail(4)\n",
        "print(a)\n",
        "\n",
        "b = Node(5)\n",
        "b.next = common\n",
        "b.appendToTail(5)\n",
        "b.appendToTail(5)\n",
        "print(b)\n",
        "\n",
        "s = set()\n",
        "n = a\n",
        "while n is not None:\n",
        "  s.add(n)\n",
        "  n = n.next\n",
        "\n",
        "isIntersection = False\n",
        "n = b\n",
        "while n is not None:\n",
        "  if n in s:\n",
        "    isIntersection = True\n",
        "  n = n.next\n",
        "\n",
        "isIntersection"
      ],
      "execution_count": 0,
      "outputs": [
        {
          "output_type": "stream",
          "text": [
            "1 → 2 → 3 → 4\n",
            "5 → 2 → 3 → 4 → 5 → 5\n"
          ],
          "name": "stdout"
        },
        {
          "output_type": "execute_result",
          "data": {
            "text/plain": [
              "True"
            ]
          },
          "metadata": {
            "tags": []
          },
          "execution_count": 24
        }
      ]
    },
    {
      "cell_type": "markdown",
      "metadata": {
        "id": "TYmCOvtS0Uxu",
        "colab_type": "text"
      },
      "source": [
        "## 2.8 Loop Detection"
      ]
    },
    {
      "cell_type": "code",
      "metadata": {
        "id": "546P0KN68CAF",
        "colab_type": "code",
        "outputId": "3772b1c4-23cf-4796-920d-77bf508808c8",
        "colab": {
          "base_uri": "https://localhost:8080/",
          "height": 34
        }
      },
      "source": [
        "a = Node('a')\n",
        "b = Node('b')\n",
        "c = Node('c')\n",
        "d = Node('d')\n",
        "e = Node('e')\n",
        "f = Node('f')\n",
        "\n",
        "a.next = b\n",
        "b.next = c\n",
        "c.next = d\n",
        "d.next = e\n",
        "e.next = f\n",
        "f.next = c\n",
        "\n",
        "p1 = p2 = a\n",
        "n = 0\n",
        "while p1.next is not None and p2.next is not None:\n",
        "  if p1.next is p2:\n",
        "    n += 1\n",
        "    if n is 2:\n",
        "      print(p2.data)\n",
        "      break\n",
        "  p1 = p1.next\n",
        "  p2 = p2.next.next"
      ],
      "execution_count": 0,
      "outputs": [
        {
          "output_type": "stream",
          "text": [
            "c\n"
          ],
          "name": "stdout"
        }
      ]
    },
    {
      "cell_type": "markdown",
      "metadata": {
        "id": "g0FEQgdGtamx",
        "colab_type": "text"
      },
      "source": [
        "# Chapter 3. Stacks and Queues"
      ]
    },
    {
      "cell_type": "markdown",
      "metadata": {
        "id": "irTR9Y1yzAr8",
        "colab_type": "text"
      },
      "source": [
        "## Stack Implementation"
      ]
    },
    {
      "cell_type": "code",
      "metadata": {
        "id": "BqjE3VOkAigt",
        "colab_type": "code",
        "colab": {}
      },
      "source": [
        "class Stack:\n",
        "  class Node:\n",
        "    def __init__(self, data):\n",
        "      self.data = data\n",
        "      self.next = None\n",
        "  def __init__(self):\n",
        "    self.top = None\n",
        "  def pop(self):\n",
        "    if self.top is None:\n",
        "      raise Exception('Empty stack exception')\n",
        "    item = self.top.data\n",
        "    self.top = self.top.next\n",
        "    return item\n",
        "  def push(self, item):\n",
        "    t = self.Node(item)\n",
        "    t.next = self.top\n",
        "    self.top = t\n",
        "  def peek(self):\n",
        "    if self.top is None:\n",
        "      raise Exception('Empty stack exception')\n",
        "    return self.top.data\n",
        "  def isEmpty(self):\n",
        "    return self.top is None\n"
      ],
      "execution_count": 0,
      "outputs": []
    },
    {
      "cell_type": "markdown",
      "metadata": {
        "id": "dI4HR38VzU8y",
        "colab_type": "text"
      },
      "source": [
        "## Queue Implementation"
      ]
    },
    {
      "cell_type": "code",
      "metadata": {
        "id": "ai0oVaEUzaoN",
        "colab_type": "code",
        "colab": {}
      },
      "source": [
        "class Queue:\n",
        "  class Node:\n",
        "    def __init__(self, data):\n",
        "      self.data = data\n",
        "      self.next = None\n",
        "  def __init__(self):\n",
        "    self.first = None\n",
        "    self.last = None\n",
        "  def add(self, item):\n",
        "    node = self.Node(item)\n",
        "    if self.last is None:\n",
        "      self.first = self.last = node\n",
        "    else:\n",
        "      self.last.next = node\n",
        "      self.last = node;\n",
        "  def remove(self):\n",
        "    if self.first is None:\n",
        "      raise Exception('Empty stack exception')\n",
        "    item = self.first.data\n",
        "    if self.first.next is None:\n",
        "      self.first = self.last = None\n",
        "    else:\n",
        "      self.first = self.first.next\n",
        "    return item\n",
        "  def peek(self):\n",
        "    if self.first is None:\n",
        "      raise Exception('Empty stack exception')\n",
        "    return self.first.data\n",
        "  def isEmpty(self):\n",
        "    return self.first is None\n"
      ],
      "execution_count": 0,
      "outputs": []
    },
    {
      "cell_type": "markdown",
      "metadata": {
        "id": "EC5vx8wfznQl",
        "colab_type": "text"
      },
      "source": [
        "## 3.1 Three in One"
      ]
    },
    {
      "cell_type": "code",
      "metadata": {
        "id": "ZjSfL6NEICgI",
        "colab_type": "code",
        "colab": {}
      },
      "source": [
        "from enum import Enum\n",
        "\n",
        "class Stack(Enum):\n",
        "  FIRST = 0,\n",
        "  SECOND = 1,\n",
        "  THIRD = 2\n",
        "\n",
        "OUT_OF_RANGE = -1\n",
        "\n",
        "arr = [None] * 5\n",
        "p = {\n",
        "  Stack.FIRST: OUT_OF_RANGE,\n",
        "  Stack.SECOND: OUT_OF_RANGE,\n",
        "  Stack.THIRD: OUT_OF_RANGE\n",
        "}\n",
        "\n",
        "def push(item, stack):\n",
        "  # search for the next free index\n",
        "  cur = p[stack] + 1\n",
        "  while True:\n",
        "    if cur is len(arr):\n",
        "      cur = 0\n",
        "    if cur is p[stack]:\n",
        "      raise MemoryError('Out of memory')\n",
        "    if arr[cur] is None:\n",
        "      break\n",
        "    cur += 1\n",
        "  # add new item\n",
        "  data = (item, p[stack])\n",
        "  p[stack] = cur\n",
        "  arr[p[stack]] = data\n",
        "\n",
        "def pop(stack):\n",
        "  if p[stack] is OUT_OF_RANGE:\n",
        "    raise IndexError('Stack is empty')\n",
        "  data = arr[p[stack]]\n",
        "  arr[p[stack]] = None\n",
        "  p[stack] = data[1]\n",
        "  return data[0]\n",
        "\n",
        "def peek(stack):\n",
        "  if p[stack] is OUT_OF_RANGE:\n",
        "    raise IndexError('Stack is empty')\n",
        "  return arr[p[stack]][0]\n",
        "\n",
        "def isEmpty(stack):\n",
        "  return p[stack] is OUT_OF_RANGE\n",
        "\n",
        "push(3, Stack.THIRD)\n",
        "print(arr)\n",
        "push(2, Stack.SECOND)\n",
        "print(arr)\n",
        "push(2, Stack.SECOND)\n",
        "print(arr)\n",
        "push(2, Stack.SECOND)\n",
        "print(arr)\n",
        "push(1, Stack.FIRST)\n",
        "print(arr)\n",
        "pop(Stack.SECOND)\n",
        "print(arr)\n",
        "pop(Stack.SECOND)\n",
        "print(arr)\n",
        "push(1, Stack.FIRST)\n",
        "print(arr)\n",
        "push(3, Stack.THIRD)\n",
        "print(arr)\n",
        "push(2, Stack.SECOND)\n",
        "print(arr)"
      ],
      "execution_count": 0,
      "outputs": []
    },
    {
      "cell_type": "markdown",
      "metadata": {
        "id": "GqLqRspe3for",
        "colab_type": "text"
      },
      "source": [
        "## 3.2 Stack Min"
      ]
    },
    {
      "cell_type": "code",
      "metadata": {
        "id": "uynYeSoThi2R",
        "colab_type": "code",
        "outputId": "c00c4171-6001-4b0a-b25a-c4ef65cc8ca5",
        "colab": {
          "base_uri": "https://localhost:8080/",
          "height": 136
        }
      },
      "source": [
        "class MinStack(Stack):\n",
        "  def push(self, item):\n",
        "    minimum = item\n",
        "    if not self.isEmpty():\n",
        "      prevMinimum = super().peek()[1] \n",
        "      if prevMinimum < minimum:\n",
        "        minimum = prevMinimum\n",
        "    data = (item, minimum)\n",
        "    super().push(data)\n",
        "  \n",
        "  def pop(self):\n",
        "    return super().pop()[0]\n",
        "  \n",
        "  def peek(self):\n",
        "    return super().peek()[0]\n",
        "  \n",
        "  def minimum(self):\n",
        "    return super().peek()[1]\n",
        "\n",
        "# 6 3 5 4 1 2 7\n",
        "s = MinStack()\n",
        "s.push(6)\n",
        "print(f'peek: {s.peek()}, min: {s.minimum()}')\n",
        "s.push(3)\n",
        "print(f'peek: {s.peek()}, min: {s.minimum()}')\n",
        "s.push(5)\n",
        "print(f'peek: {s.peek()}, min: {s.minimum()}')\n",
        "s.push(4)\n",
        "print(f'peek: {s.peek()}, min: {s.minimum()}')\n",
        "s.push(1)\n",
        "print(f'peek: {s.peek()}, min: {s.minimum()}')\n",
        "s.push(2)\n",
        "print(f'peek: {s.peek()}, min: {s.minimum()}')\n",
        "s.push(7)\n",
        "print(f'peek: {s.peek()}, min: {s.minimum()}')"
      ],
      "execution_count": 0,
      "outputs": [
        {
          "output_type": "stream",
          "text": [
            "peek: 6, min: 6\n",
            "peek: 3, min: 3\n",
            "peek: 5, min: 3\n",
            "peek: 4, min: 3\n",
            "peek: 1, min: 1\n",
            "peek: 2, min: 1\n",
            "peek: 7, min: 1\n"
          ],
          "name": "stdout"
        }
      ]
    },
    {
      "cell_type": "markdown",
      "metadata": {
        "id": "2HlmrXy6t5MZ",
        "colab_type": "text"
      },
      "source": [
        "## 3.3 Stack of Plates"
      ]
    },
    {
      "cell_type": "code",
      "metadata": {
        "id": "ZJGdOwWZt1nP",
        "colab_type": "code",
        "colab": {}
      },
      "source": [
        ""
      ],
      "execution_count": 0,
      "outputs": []
    },
    {
      "cell_type": "markdown",
      "metadata": {
        "id": "iT-rrrUquGV6",
        "colab_type": "text"
      },
      "source": [
        "## 3.4 Queue via Stacks"
      ]
    },
    {
      "cell_type": "code",
      "metadata": {
        "id": "l5kRgl-2uMSX",
        "colab_type": "code",
        "colab": {}
      },
      "source": [
        "class MyQueue:\n",
        "  def __init__(self):\n",
        "    self.s1 = Stack()\n",
        "    self.s2 = Stack()\n",
        "  def add(self, item):\n",
        "    self.s1.push(item)\n",
        "  def remove(self):\n",
        "    if self.s2.isEmpty():\n",
        "      if self.s1.isEmpty():\n",
        "        raise IndexError('Out of range')\n",
        "      while not self.s1.isEmpty():\n",
        "        self.s2.push(self.s1.pop())\n",
        "    return self.s2.pop()\n",
        "\n",
        "q = MyQueue()\n",
        "q.add('a')\n",
        "q.add('b')\n",
        "q.add('c')\n",
        "q.add('d')\n",
        "print(q.remove())\n",
        "print(q.remove())\n",
        "print(q.remove())\n",
        "print(q.remove())\n",
        "print(q.remove())"
      ],
      "execution_count": 0,
      "outputs": []
    },
    {
      "cell_type": "markdown",
      "metadata": {
        "id": "qNPfwKyfwA9U",
        "colab_type": "text"
      },
      "source": [
        "## 3.5 Sort Stack"
      ]
    },
    {
      "cell_type": "code",
      "metadata": {
        "id": "_sMt8TTOwIHI",
        "colab_type": "code",
        "outputId": "27ade398-abb8-4832-ddcb-f472e8ae56a1",
        "colab": {
          "base_uri": "https://localhost:8080/",
          "height": 119
        }
      },
      "source": [
        "class SortStack:\n",
        "  def __init__(self):\n",
        "    self.s1 = Stack()\n",
        "    self.s2 = Stack()\n",
        "  def push(self, item):\n",
        "    while not self.s1.isEmpty() and self.s1.peek() < item:\n",
        "      self.s2.push(self.s1.pop())\n",
        "    self.s1.push(item)\n",
        "    while not self.s2.isEmpty():\n",
        "      self.s1.push(self.s2.pop())\n",
        "  def pop(self):\n",
        "    return self.s1.pop()\n",
        "  def peek(self):\n",
        "    return self.s1.peek()\n",
        "  def isEmpty(self):\n",
        "    return self.s1.isEmpty()\n",
        "\n",
        "s = SortStack()\n",
        "s.push(2)\n",
        "s.push(3)\n",
        "s.push(5)\n",
        "s.push(4)\n",
        "s.push(1)\n",
        "s.push(6)\n",
        "\n",
        "while not s.isEmpty():\n",
        "  print(s.pop())"
      ],
      "execution_count": 0,
      "outputs": [
        {
          "output_type": "stream",
          "text": [
            "1\n",
            "2\n",
            "3\n",
            "4\n",
            "5\n",
            "6\n"
          ],
          "name": "stdout"
        }
      ]
    },
    {
      "cell_type": "markdown",
      "metadata": {
        "id": "DPg7cmva2TxO",
        "colab_type": "text"
      },
      "source": [
        "## 3.6 Animal Shelter"
      ]
    },
    {
      "cell_type": "code",
      "metadata": {
        "id": "nJ3T6Ul02X1k",
        "colab_type": "code",
        "colab": {}
      },
      "source": [
        "from enum import Enum\n",
        "\n",
        "class AnimalKind(Enum):\n",
        "  DOG = 0,\n",
        "  CAT = 1\n",
        "\n",
        "class Animal:\n",
        "  def __init__(self, name, kind):\n",
        "    self.name = name\n",
        "    self.kind = kind\n",
        "\n",
        "class AnimalShelter(Queue):\n",
        "  def enqueue(self, name, kind):\n",
        "    self.add(Animal(name, kind))\n",
        "  \n",
        "  def dequeueAny(self):\n",
        "    a = self.remove()\n",
        "    return (a.name, a.kind.name)\n",
        "  \n",
        "  def __dequeue(self, kind):\n",
        "    if self.first is None:\n",
        "      raise Exception('Not exists')\n",
        "    if self.first.data.kind is kind:\n",
        "      a = self.first.data\n",
        "      self.first = self.first.next\n",
        "      return (a.name, a.kind.name)\n",
        "    n = self.first\n",
        "    while n is not None and n.next is not None:\n",
        "      if n.next.data.kind is kind:\n",
        "        a = n.next.data\n",
        "        n.next = n.next.next\n",
        "        return (a.name, a.kind.name)\n",
        "      n = n.next\n",
        "    raise Exception('Not exists')\n",
        "\n",
        "  def dequeueDog(self):\n",
        "    return self.__dequeue(AnimalKind.DOG)\n",
        "\n",
        "  def dequeueCat(self):\n",
        "    return self.__dequeue(AnimalKind.CAT)\n",
        "      \n",
        "shelter = AnimalShelter()\n",
        "shelter.enqueue('a', AnimalKind.CAT)\n",
        "shelter.enqueue('b', AnimalKind.DOG)\n",
        "shelter.enqueue('c', AnimalKind.DOG)\n",
        "shelter.enqueue('d', AnimalKind.CAT)\n",
        "shelter.enqueue('e', AnimalKind.CAT)\n",
        "\n",
        "print(shelter.dequeueDog())\n",
        "print(shelter.dequeueAny())\n",
        "print(shelter.dequeueCat())\n",
        "print(shelter.dequeueDog())\n",
        "print(shelter.dequeueAny())\n",
        "print(shelter.dequeueAny())"
      ],
      "execution_count": 0,
      "outputs": []
    },
    {
      "cell_type": "markdown",
      "metadata": {
        "id": "4WxQkQ96IoM-",
        "colab_type": "text"
      },
      "source": [
        "# Chapter 4. Trees and Graphs"
      ]
    },
    {
      "cell_type": "markdown",
      "metadata": {
        "id": "0_rY0l6xI9tG",
        "colab_type": "text"
      },
      "source": [
        "## Tree Implementation"
      ]
    },
    {
      "cell_type": "code",
      "metadata": {
        "id": "Q42RHHXfItni",
        "colab_type": "code",
        "colab": {}
      },
      "source": [
        "class Node:\n",
        "  def __init__(self, data):\n",
        "    self.data = data\n",
        "    self.children = []\n",
        "\n",
        "class Tree:\n",
        "  def __init__(self):\n",
        "    self.root = None"
      ],
      "execution_count": 0,
      "outputs": []
    },
    {
      "cell_type": "markdown",
      "metadata": {
        "id": "8Dz_CO6NJ569",
        "colab_type": "text"
      },
      "source": [
        "### In-Order Traversal"
      ]
    },
    {
      "cell_type": "code",
      "metadata": {
        "id": "ChmgHw8-J-IH",
        "colab_type": "code",
        "colab": {}
      },
      "source": [
        "def inOrderTraversal(node):\n",
        "  if node is not None:\n",
        "    inOrderTraversal(node.left)\n",
        "    print(node.data)\n",
        "    inOrderTraversal(node.right)"
      ],
      "execution_count": 0,
      "outputs": []
    },
    {
      "cell_type": "markdown",
      "metadata": {
        "id": "YguZ6IlfK6DB",
        "colab_type": "text"
      },
      "source": [
        "### Pre-Order Traversal"
      ]
    },
    {
      "cell_type": "code",
      "metadata": {
        "id": "wLZgGbK1K99R",
        "colab_type": "code",
        "colab": {}
      },
      "source": [
        "def PreOrderTraversal(node):\n",
        "  if node is not None:\n",
        "    print(node.data)\n",
        "    PreOrderTraversal(node.left)\n",
        "    PreOrderTraversal(node.right)"
      ],
      "execution_count": 0,
      "outputs": []
    },
    {
      "cell_type": "markdown",
      "metadata": {
        "id": "BFa2C_laLcj3",
        "colab_type": "text"
      },
      "source": [
        "### Post-Order Traversal"
      ]
    },
    {
      "cell_type": "code",
      "metadata": {
        "id": "ehsBm80rLgEj",
        "colab_type": "code",
        "colab": {}
      },
      "source": [
        "def PostOrderTraversal(node):\n",
        "  if node is not None:\n",
        "    PostOrderTraversal(node.left)\n",
        "    PostOrderTraversal(node.right)\n",
        "    print(node.data)"
      ],
      "execution_count": 0,
      "outputs": []
    },
    {
      "cell_type": "markdown",
      "metadata": {
        "id": "zZyaLzPb58I5",
        "colab_type": "text"
      },
      "source": [
        "## Heap Implementation"
      ]
    },
    {
      "cell_type": "code",
      "metadata": {
        "id": "Jqt1hLp36Pg-",
        "colab_type": "code",
        "outputId": "71422778-b922-4948-e4d3-14c56785100d",
        "colab": {
          "base_uri": "https://localhost:8080/",
          "height": 272
        }
      },
      "source": [
        "class Heap():\n",
        "  def __init__(self):\n",
        "    self.items = []\n",
        "  \n",
        "  def insert(self, item):\n",
        "    self.items.append(item)\n",
        "    current = len(self.items) - 1\n",
        "    while True:\n",
        "      parent = (current - 1) // 2\n",
        "      if parent < 0:\n",
        "        return\n",
        "      if self.items[parent] > self.items[current]:\n",
        "        self.items[parent], self.items[current] = \\\n",
        "        self.items[current], self.items[parent]\n",
        "        current = parent\n",
        "      else:\n",
        "        return\n",
        "\n",
        "  def extract(self):\n",
        "    length = len(self.items)\n",
        "    if length is 0:\n",
        "      raise Exception('Heap is empty')\n",
        "    item = self.items[0]\n",
        "    self.items[0] = self.items[length - 1]\n",
        "    self.items = self.items[:-1]\n",
        "    length -= 1\n",
        "    i = 0\n",
        "    while True:\n",
        "      left = 2 * i + 1\n",
        "      right = 2 * i + 2\n",
        "      if left >= length and right >= length:\n",
        "        break\n",
        "      if left < length and (right >= length or self.items[left] < self.items[right]):\n",
        "        if self.items[left] < self.items[i]:\n",
        "          self.items[i], self.items[left] = self.items[left], self.items[i]\n",
        "          i = left\n",
        "          continue\n",
        "      if right < length:\n",
        "        if self.items[right] < self.items[i]:\n",
        "          self.items[i], self.items[right] = self.items[right], self.items[i]\n",
        "          i = right\n",
        "          continue\n",
        "        else:\n",
        "          break\n",
        "      else:\n",
        "        break\n",
        "    return item\n",
        "\n",
        "arr = [90, 87, 55, 50, 7, 4, 2]\n",
        "h = Heap()\n",
        "for v in arr:\n",
        "  h.insert(v)\n",
        "  print(h.items)\n",
        "\n",
        "print()\n",
        "\n",
        "for v in arr:\n",
        "  h.extract()\n",
        "  print(h.items)"
      ],
      "execution_count": 0,
      "outputs": [
        {
          "output_type": "stream",
          "text": [
            "[90]\n",
            "[87, 90]\n",
            "[55, 90, 87]\n",
            "[50, 55, 87, 90]\n",
            "[7, 50, 87, 90, 55]\n",
            "[4, 50, 7, 90, 55, 87]\n",
            "[2, 50, 4, 90, 55, 87, 7]\n",
            "\n",
            "[4, 50, 7, 90, 55, 87]\n",
            "[7, 50, 87, 90, 55]\n",
            "[50, 55, 87, 90]\n",
            "[55, 90, 87]\n",
            "[87, 90]\n",
            "[90]\n",
            "[]\n"
          ],
          "name": "stdout"
        }
      ]
    },
    {
      "cell_type": "markdown",
      "metadata": {
        "id": "6gEeJSXkwB39",
        "colab_type": "text"
      },
      "source": [
        "## Graph Implementation"
      ]
    },
    {
      "cell_type": "code",
      "metadata": {
        "id": "mJ_AnvunwExQ",
        "colab_type": "code",
        "colab": {}
      },
      "source": [
        "class Graph():\n",
        "  class Node():\n",
        "    def __init__(self, data):\n",
        "      self.data = data\n",
        "      self.children = []\n",
        "  \n",
        "  def __init__(self):\n",
        "    self.nodes = []\n",
        "\n",
        "n0 = Graph.Node(0)\n",
        "n1 = Graph.Node(1)\n",
        "n2 = Graph.Node(2)\n",
        "n3 = Graph.Node(3)\n",
        "n4 = Graph.Node(4)\n",
        "n5 = Graph.Node(5)\n",
        "\n",
        "n0.children = [n1, n4, n5]\n",
        "n1.children = [n3, n4]\n",
        "n3.children = [n2, n4]\n",
        "n2.children = [n1]"
      ],
      "execution_count": 0,
      "outputs": []
    },
    {
      "cell_type": "markdown",
      "metadata": {
        "id": "FCbXLexjzYaK",
        "colab_type": "text"
      },
      "source": [
        "### BFS"
      ]
    },
    {
      "cell_type": "code",
      "metadata": {
        "id": "AZ8lLoFxzaIG",
        "colab_type": "code",
        "colab": {}
      },
      "source": [
        "def BFS(root, f):\n",
        "  queue = []\n",
        "  queue.append(root)\n",
        "  marked = [root]\n",
        "  while len(queue) is not 0:\n",
        "    node = queue.pop(0)\n",
        "    f(node)\n",
        "    for child in node.children:\n",
        "      if child not in marked:\n",
        "        queue.append(child)\n",
        "        marked.append(child)\n",
        "\n",
        "# BFS(n0)"
      ],
      "execution_count": 0,
      "outputs": []
    },
    {
      "cell_type": "markdown",
      "metadata": {
        "id": "eT1Jy-p5za1a",
        "colab_type": "text"
      },
      "source": [
        "### DFS"
      ]
    },
    {
      "cell_type": "code",
      "metadata": {
        "id": "eCypYdf7zcRg",
        "colab_type": "code",
        "outputId": "fa4659fe-7f8d-47f7-c2ba-24f3b1f05bc7",
        "colab": {
          "base_uri": "https://localhost:8080/",
          "height": 119
        }
      },
      "source": [
        "def DFS(root):\n",
        "  if root is None:\n",
        "    return\n",
        "  stack = []\n",
        "  stack.append(root)\n",
        "  marked = [root]\n",
        "  while len(stack) is not 0:\n",
        "    node = stack.pop()\n",
        "    print(node.data)\n",
        "    for child in node.children:\n",
        "      if child not in marked:\n",
        "        stack.append(child)\n",
        "        marked.append(child)\n",
        "\n",
        "DFS(n0)"
      ],
      "execution_count": 0,
      "outputs": [
        {
          "output_type": "stream",
          "text": [
            "0\n",
            "5\n",
            "4\n",
            "1\n",
            "3\n",
            "2\n"
          ],
          "name": "stdout"
        }
      ]
    },
    {
      "cell_type": "markdown",
      "metadata": {
        "id": "Wl2rGm5r3gl0",
        "colab_type": "text"
      },
      "source": [
        "### DFS (recursive)"
      ]
    },
    {
      "cell_type": "code",
      "metadata": {
        "id": "ZiZrPfu93n0z",
        "colab_type": "code",
        "outputId": "48bd91ac-a07c-4eaf-8878-0ec6e9567c1b",
        "colab": {
          "base_uri": "https://localhost:8080/",
          "height": 119
        }
      },
      "source": [
        "marked = []\n",
        "def DFS(root):\n",
        "  if root is None:\n",
        "    return\n",
        "  print(root.data)\n",
        "  marked.append(root)\n",
        "  for child in root.children:\n",
        "    if child not in marked:\n",
        "      marked.append(child)\n",
        "      DFS(child)\n",
        "\n",
        "DFS(n0)"
      ],
      "execution_count": 0,
      "outputs": [
        {
          "output_type": "stream",
          "text": [
            "0\n",
            "1\n",
            "3\n",
            "2\n",
            "4\n",
            "5\n"
          ],
          "name": "stdout"
        }
      ]
    },
    {
      "cell_type": "markdown",
      "metadata": {
        "id": "-m3UQ8yxgI6f",
        "colab_type": "text"
      },
      "source": [
        "## 4.1 Route Between Nodes"
      ]
    },
    {
      "cell_type": "code",
      "metadata": {
        "id": "vOpc27tLgVz-",
        "colab_type": "code",
        "colab": {}
      },
      "source": [
        "# Use BFS"
      ],
      "execution_count": 0,
      "outputs": []
    },
    {
      "cell_type": "markdown",
      "metadata": {
        "id": "oVXVjSuyhu7-",
        "colab_type": "text"
      },
      "source": [
        "## 4.2 Minimal Tree"
      ]
    },
    {
      "cell_type": "code",
      "metadata": {
        "id": "zzfJCzt4h0lI",
        "colab_type": "code",
        "colab": {}
      },
      "source": [
        "class Node():\n",
        "  def __init__(self, data):\n",
        "    self.data = data\n",
        "    self.left = None\n",
        "    self.right = None\n",
        "\n",
        "def minimalTree(arr):\n",
        "  if len(arr) is 0:\n",
        "    return None\n",
        "  i = len(arr) // 2\n",
        "  n = Node(arr[i])\n",
        "  n.left = minimalTree(arr[:i])\n",
        "  n.right = minimalTree(arr[i+1:])\n",
        "  return n\n",
        "\n",
        "n = minimalTree([1,2,3,4,5,6,7,8,9,10,11,12,13,14])\n"
      ],
      "execution_count": 0,
      "outputs": []
    },
    {
      "cell_type": "markdown",
      "metadata": {
        "id": "3hQRN0HM0gVO",
        "colab_type": "text"
      },
      "source": [
        "## 4.3 List of Depths"
      ]
    },
    {
      "cell_type": "code",
      "metadata": {
        "id": "yg8cI2ke0mNj",
        "colab_type": "code",
        "outputId": "7947fd78-fde5-49a2-bb49-d64e30a53d26",
        "colab": {
          "base_uri": "https://localhost:8080/",
          "height": 85
        }
      },
      "source": [
        "depths = [[] for i in range(10)]\n",
        "def preOrderTraversal(n, level=0):\n",
        "  if n is not None:\n",
        "    depths[level].append(n.data)\n",
        "    preOrderTraversal(n.left, level + 1)\n",
        "    preOrderTraversal(n.right, level + 1)\n",
        "\n",
        "preOrderTraversal(n)\n",
        "for depth in [d for d in depths if len(d) > 0]:\n",
        "  print(depth)"
      ],
      "execution_count": 0,
      "outputs": [
        {
          "output_type": "stream",
          "text": [
            "[8]\n",
            "[4, 12]\n",
            "[2, 6, 10, 14]\n",
            "[1, 3, 5, 7, 9, 11, 13]\n"
          ],
          "name": "stdout"
        }
      ]
    },
    {
      "cell_type": "markdown",
      "metadata": {
        "id": "xeLgD0pIIlQN",
        "colab_type": "text"
      },
      "source": [
        "## 4.4 Check Balanced"
      ]
    },
    {
      "cell_type": "code",
      "metadata": {
        "id": "O-9-J0IpIpNo",
        "colab_type": "code",
        "outputId": "2092a6bc-7d47-496b-e57a-d231c1cf50f9",
        "colab": {
          "base_uri": "https://localhost:8080/",
          "height": 34
        }
      },
      "source": [
        "maximum = float('-inf')\n",
        "minimum = float('inf')\n",
        "\n",
        "def depth(n, level=0):\n",
        "  global maximum\n",
        "  global minimum\n",
        "  if n is not None:\n",
        "    depth(n.left, level + 1)\n",
        "    depth(n.right, level + 1)\n",
        "  else:\n",
        "    if level < minimum:\n",
        "      minimum = level\n",
        "    if level > maximum:\n",
        "      maximum = level\n",
        "\n",
        "depth(n)\n",
        "\n",
        "(minimum, maximum)"
      ],
      "execution_count": 0,
      "outputs": [
        {
          "output_type": "execute_result",
          "data": {
            "text/plain": [
              "(3, 4)"
            ]
          },
          "metadata": {
            "tags": []
          },
          "execution_count": 7
        }
      ]
    },
    {
      "cell_type": "markdown",
      "metadata": {
        "id": "YjaK_y5sI1Br",
        "colab_type": "text"
      },
      "source": [
        "## 4.5 Validate BST"
      ]
    },
    {
      "cell_type": "code",
      "metadata": {
        "id": "28fA8Fr9I55Z",
        "colab_type": "code",
        "outputId": "1fc2144d-57af-4422-8e31-e9f5277a3d00",
        "colab": {
          "base_uri": "https://localhost:8080/",
          "height": 34
        }
      },
      "source": [
        "def checkBST(n, minimum=float('-inf'), maximum=float('inf')):\n",
        "  if n is not None:\n",
        "    return minimum <= n.data <= maximum \\\n",
        "    and checkBST(n.left, minimum, n.data) \\\n",
        "    and checkBST(n.right, n.data, maximum)\n",
        "  else:\n",
        "    return True\n",
        "\n",
        "n8 = Node(8)\n",
        "n4 = Node(4)\n",
        "n10 = Node(10)\n",
        "n2 = Node(2)\n",
        "n12 = Node(12)\n",
        "n20 = Node(20)\n",
        "\n",
        "n8.left = n4\n",
        "n8.right = n10\n",
        "n4.left = n2\n",
        "n4.right = n12\n",
        "n10.right = n20\n",
        "\n",
        "checkBST(n8)"
      ],
      "execution_count": 0,
      "outputs": [
        {
          "output_type": "execute_result",
          "data": {
            "text/plain": [
              "False"
            ]
          },
          "metadata": {
            "tags": []
          },
          "execution_count": 9
        }
      ]
    },
    {
      "cell_type": "markdown",
      "metadata": {
        "id": "J_pLPy7-I85u",
        "colab_type": "text"
      },
      "source": [
        "## 4.6 Successor"
      ]
    },
    {
      "cell_type": "code",
      "metadata": {
        "id": "w60qmEH5JFYA",
        "colab_type": "code",
        "outputId": "d8bffdca-4aab-40b1-bd33-69a639d7fb07",
        "colab": {
          "base_uri": "https://localhost:8080/",
          "height": 34
        }
      },
      "source": [
        "def successor(node):\n",
        "    s = None\n",
        "\n",
        "    # up\n",
        "    p = node.parent\n",
        "    while p is not None:\n",
        "        if node.data <= p.data and (s is None or p.data < s.data):\n",
        "            s = p\n",
        "        p = p.parent\n",
        "\n",
        "    # down\n",
        "    def down(root):\n",
        "        nonlocal s\n",
        "        if root is not None:\n",
        "            if (\n",
        "                root is not node\n",
        "                and node.data <= root.data\n",
        "                and (s is None or root.data < s.data)\n",
        "            ):\n",
        "                s = root\n",
        "            down(root.left)\n",
        "            down(root.right)\n",
        "\n",
        "    down(node)\n",
        "\n",
        "    return s\n",
        "\n",
        "\n",
        "n1 = Node(1)\n",
        "n2 = Node(2)\n",
        "n3 = Node(3)\n",
        "\n",
        "n2.left = n3\n",
        "n2.parent = None\n",
        "n3.left = n1\n",
        "n3.parent = n2\n",
        "n1.parent = n3\n",
        "\n",
        "print(successor(n1).data)"
      ],
      "execution_count": 0,
      "outputs": [
        {
          "output_type": "stream",
          "text": [
            "2\n"
          ],
          "name": "stdout"
        }
      ]
    },
    {
      "cell_type": "markdown",
      "metadata": {
        "id": "fESdhFLgJF4i",
        "colab_type": "text"
      },
      "source": [
        "## 4.7 Build Order"
      ]
    },
    {
      "cell_type": "code",
      "metadata": {
        "id": "L2sLfwikJI_r",
        "colab_type": "code",
        "outputId": "975f235a-474c-4511-b545-d5a8cc456324",
        "colab": {
          "base_uri": "https://localhost:8080/",
          "height": 34
        }
      },
      "source": [
        "a = Graph.Node('a')\n",
        "b = Graph.Node('b')\n",
        "c = Graph.Node('c')\n",
        "d = Graph.Node('d')\n",
        "e = Graph.Node('e')\n",
        "f = Graph.Node('f')\n",
        "\n",
        "f.children = [a, b]\n",
        "a.children = [d]\n",
        "b.children = [d]\n",
        "d.children = [c]\n",
        "\n",
        "def BFS(root, ordered):\n",
        "  queue = []\n",
        "  queue.append(root)\n",
        "  marked = [root]\n",
        "  while len(queue) is not 0:\n",
        "    node = queue.pop(0)\n",
        "    for child in node.children:\n",
        "      if child not in marked and child not in ordered:\n",
        "        queue.append(child)\n",
        "        marked.append(child)\n",
        "  return node\n",
        "\n",
        "result = []\n",
        "projects = [a, b, c, d, e, f]\n",
        "while len(projects) > 0:\n",
        "  p = projects[0]\n",
        "  last = BFS(p, result)\n",
        "  result.insert(0, last)\n",
        "  projects.remove(last)\n",
        "print([x.data for x in result])"
      ],
      "execution_count": 0,
      "outputs": [
        {
          "output_type": "stream",
          "text": [
            "['f', 'e', 'b', 'a', 'd', 'c']\n"
          ],
          "name": "stdout"
        }
      ]
    },
    {
      "cell_type": "markdown",
      "metadata": {
        "id": "u90ttaXsJJ_i",
        "colab_type": "text"
      },
      "source": [
        "## 4.8 First Common Ancestor"
      ]
    },
    {
      "cell_type": "code",
      "metadata": {
        "id": "h4r4OtsUJQd0",
        "colab_type": "code",
        "outputId": "e0aec4f7-4ec0-40a5-ce56-f9c4f689716e",
        "colab": {
          "base_uri": "https://localhost:8080/",
          "height": 119
        }
      },
      "source": [
        "class Node:\n",
        "    def __init__(self, data):\n",
        "        self.data = data\n",
        "        self.left = None\n",
        "        self.right = None\n",
        "\n",
        "    def __str__(self):\n",
        "      return str(self.data)\n",
        "\n",
        "\n",
        "n10 = Node(10)\n",
        "n5 = Node(5)\n",
        "n20 = Node(20)\n",
        "n3 = Node(3)\n",
        "n7 = Node(7)\n",
        "n9 = Node(9)\n",
        "n18 = Node(18)\n",
        "n0 = Node(0)\n",
        "n1 = Node(1)\n",
        "\n",
        "n10.left = n5\n",
        "n10.right = n20\n",
        "n20.left = n3\n",
        "n20.right = n7\n",
        "n3.left = n9\n",
        "n3.right = n18\n",
        "\n",
        "def search(node, n):\n",
        "    if node is not None:\n",
        "        return node is n or search(node.left, n) or search(node.right, n)\n",
        "    else:\n",
        "        return False\n",
        "\n",
        "def firstCommonAncestor(n, p=None):\n",
        "  l_a = search(n.left, a)\n",
        "  r_a = search(n.right, a)\n",
        "  l_b = search(n.left, b)\n",
        "  r_b = search(n.right, b)\n",
        "\n",
        "  if n is a and (l_b or r_b):\n",
        "    return p\n",
        "  if n is b and (l_a or r_a):\n",
        "    return p\n",
        "\n",
        "  if l_b and r_a or l_a and r_b:\n",
        "    return n\n",
        "  \n",
        "  if l_a and l_b:\n",
        "    return firstCommonAncestor(n.left, n)\n",
        "  if r_a and r_b:\n",
        "    return firstCommonAncestor(n.right, n)\n",
        "  \n",
        "  return None\n",
        "\n",
        "a = n18\n",
        "b = n7\n",
        "print(firstCommonAncestor(n10))\n",
        "\n",
        "a = n18\n",
        "b = n3\n",
        "print(firstCommonAncestor(n10))\n",
        "\n",
        "a = n20\n",
        "b = n9\n",
        "print(firstCommonAncestor(n10))\n",
        "\n",
        "a = n20\n",
        "b = n10\n",
        "print(firstCommonAncestor(n10))\n",
        "\n",
        "a = n0\n",
        "b = n1\n",
        "print(firstCommonAncestor(n10))\n",
        "\n",
        "a = n0\n",
        "b = n5\n",
        "print(firstCommonAncestor(n10))"
      ],
      "execution_count": 0,
      "outputs": [
        {
          "output_type": "stream",
          "text": [
            "20\n",
            "20\n",
            "10\n",
            "None\n",
            "None\n",
            "None\n"
          ],
          "name": "stdout"
        }
      ]
    },
    {
      "cell_type": "markdown",
      "metadata": {
        "id": "CE-K5OcsJV_n",
        "colab_type": "text"
      },
      "source": [
        "## 4.9 BST Sequences"
      ]
    },
    {
      "cell_type": "code",
      "metadata": {
        "id": "ghYY5uYsJdAG",
        "colab_type": "code",
        "outputId": "32db3296-dfad-4d95-d325-59ef89375699",
        "colab": {
          "base_uri": "https://localhost:8080/",
          "height": 34
        }
      },
      "source": [
        ""
      ],
      "execution_count": 0,
      "outputs": [
        {
          "output_type": "execute_result",
          "data": {
            "text/plain": [
              "[1, 2, 3, 4, 5, 6, 7]"
            ]
          },
          "metadata": {
            "tags": []
          },
          "execution_count": 5
        }
      ]
    },
    {
      "cell_type": "markdown",
      "metadata": {
        "id": "PJl1AYTDJdsU",
        "colab_type": "text"
      },
      "source": [
        "## 4.10 Check Subtree"
      ]
    },
    {
      "cell_type": "code",
      "metadata": {
        "id": "GuZbc5_LJu27",
        "colab_type": "code",
        "outputId": "7a0a8855-545a-44ad-bad2-947f7dda2860",
        "colab": {
          "base_uri": "https://localhost:8080/",
          "height": 34
        }
      },
      "source": [
        "def isSublist(a, b):\n",
        "    i = 0\n",
        "    while i is not len(a):\n",
        "        if b[i] is a[0]:\n",
        "            j, k = 0, i\n",
        "            while j is not len(a) and k is not len(b) and a[j] is b[k]:\n",
        "                j += 1\n",
        "                k += 1\n",
        "            if j is len(a):\n",
        "                return True\n",
        "        i += 1\n",
        "    return False\n",
        "\n",
        "isSublist([2,3], [1,2,3,4])"
      ],
      "execution_count": 0,
      "outputs": [
        {
          "output_type": "execute_result",
          "data": {
            "text/plain": [
              "True"
            ]
          },
          "metadata": {
            "tags": []
          },
          "execution_count": 9
        }
      ]
    },
    {
      "cell_type": "code",
      "metadata": {
        "id": "VbOo1feMJpvs",
        "colab_type": "code",
        "outputId": "547bbe8a-00b1-4382-9875-14ada5b38298",
        "colab": {
          "base_uri": "https://localhost:8080/",
          "height": 34
        }
      },
      "source": [
        "class Node:\n",
        "  def __init__(self, data):\n",
        "    self.data = data\n",
        "    self.left = None\n",
        "    self.right = None\n",
        "\n",
        "a = Node('a')\n",
        "b = Node('b')\n",
        "c = Node('c')\n",
        "d = Node('d')\n",
        "e = Node('e')\n",
        "f = Node('f')\n",
        "\n",
        "b.left = c\n",
        "b.right = e\n",
        "e.right = f\n",
        "c.left = a\n",
        "c.right = d\n",
        "\n",
        "a2 = Node('a')\n",
        "b2 = Node('b')\n",
        "c2 = Node('c')\n",
        "d2 = Node('d')\n",
        "c2.left = a2\n",
        "c2.right = d2\n",
        "\n",
        "def checkSubtree(n1, n2):\n",
        "  arr1 = []\n",
        "  arr2 = []\n",
        "  def preorder(n, arr):\n",
        "    if n is not None:\n",
        "      arr.append(n.data)\n",
        "      preorder(n.left, arr)\n",
        "      preorder(n.right, arr)\n",
        "    else:\n",
        "      arr.append('*')\n",
        "  preorder(n1, arr1)\n",
        "  preorder(n2, arr2)\n",
        "  return isSublist(arr2, arr1)\n",
        "\n",
        "checkSubtree(b, c2)"
      ],
      "execution_count": 0,
      "outputs": [
        {
          "output_type": "execute_result",
          "data": {
            "text/plain": [
              "True"
            ]
          },
          "metadata": {
            "tags": []
          },
          "execution_count": 15
        }
      ]
    },
    {
      "cell_type": "markdown",
      "metadata": {
        "id": "UyfqLao9JqWr",
        "colab_type": "text"
      },
      "source": [
        "## 4.11 Random Node"
      ]
    },
    {
      "cell_type": "code",
      "metadata": {
        "id": "Seh5gN8uMqIx",
        "colab_type": "code",
        "outputId": "b7b7564f-63df-4e68-fc31-b2e81ba589a9",
        "colab": {
          "base_uri": "https://localhost:8080/",
          "height": 34
        }
      },
      "source": [
        "import random\n",
        "\n",
        "class Node:\n",
        "  def __init__(self, data):\n",
        "    self.data = data\n",
        "    self.left = None\n",
        "    self.right = None\n",
        "    self.rCount = 0\n",
        "    self.lCount = 0\n",
        "\n",
        "arr = [10, 5, 4, 2, 1, 3, 6, 9, 8, 7, 15, 13, 12, 11, 14, 16]\n",
        "\n",
        "def insert(root, item):\n",
        "  if root is None:\n",
        "    raise Exception('Root is undefined')\n",
        "  n = root\n",
        "  while True:\n",
        "    if item <= n.data:\n",
        "      n.lCount += 1\n",
        "      if n.left is None:\n",
        "        n.left = Node(item)\n",
        "        return \n",
        "      else:\n",
        "        n = n.left\n",
        "    else:\n",
        "      n.rCount += 1\n",
        "      if n.right is None:\n",
        "        n.right = Node(item)\n",
        "        return\n",
        "      else:\n",
        "        n = n.right\n",
        "\n",
        "root = Node(arr[0])\n",
        "for v in arr[1:]:\n",
        "  insert(root, v)\n",
        "\n",
        "def display(node):\n",
        "  if node is not None:\n",
        "    print(f'v: {node.data}, l: {node.lCount}, r: {node.rCount}')\n",
        "    display(node.left)\n",
        "    display(node.right)\n",
        "\n",
        "# display(root)\n",
        "\n",
        "def getRandomNode(n):\n",
        "  rnd = random.randint(1, n.lCount + 1 + n.rCount)\n",
        "  if rnd is n.lCount + 1:\n",
        "    return n.data\n",
        "  if rnd <= n.lCount:\n",
        "    return getRandomNode(n.left)\n",
        "  else:\n",
        "    return getRandomNode(n.right)\n",
        "\n",
        "print(getRandomNode(root))"
      ],
      "execution_count": 0,
      "outputs": [
        {
          "output_type": "stream",
          "text": [
            "9\n"
          ],
          "name": "stdout"
        }
      ]
    },
    {
      "cell_type": "markdown",
      "metadata": {
        "id": "cEuTm6e4Jvhz",
        "colab_type": "text"
      },
      "source": [
        "## 4.12 Paths with Sum"
      ]
    },
    {
      "cell_type": "code",
      "metadata": {
        "id": "SqXksbRSJ3KS",
        "colab_type": "code",
        "outputId": "d62c9888-1a28-4230-a3d8-0f68d75a0cb4",
        "colab": {
          "base_uri": "https://localhost:8080/",
          "height": 34
        }
      },
      "source": [
        "class Node():\n",
        "  def __init__(self, data):\n",
        "    self.data = data\n",
        "    self.left = None\n",
        "    self.right = None\n",
        "\n",
        "a = Node(-1)\n",
        "b = Node(3)\n",
        "c = Node(5)\n",
        "d = Node(-3)\n",
        "e = Node(1)\n",
        "f = Node(-2)\n",
        "g = Node(2)\n",
        "h = Node(4)\n",
        "i = Node(-4)\n",
        "j = Node(6)\n",
        "\n",
        "a.left = b\n",
        "b.left = c\n",
        "b.right = d\n",
        "d.left = e\n",
        "e.right = f\n",
        "a.right = g\n",
        "g.left = h\n",
        "h.left = i\n",
        "h.right = j\n",
        "\n",
        "count = 0\n",
        "givenNumber = 1\n",
        "\n",
        "def checkSum(n, prevSum = 0):\n",
        "  global count\n",
        "  if n is not None:\n",
        "    curSum = n.data + prevSum\n",
        "    if curSum is givenNumber:\n",
        "      count += 1\n",
        "    checkSum(n.left, curSum)\n",
        "    checkSum(n.right, curSum)\n",
        "\n",
        "def pathsWithSum(n):\n",
        "  if n is not None:\n",
        "    checkSum(n)\n",
        "    pathsWithSum(n.left)\n",
        "    pathsWithSum(n.right)\n",
        "\n",
        "pathsWithSum(a)\n",
        "\n",
        "print(count)\n"
      ],
      "execution_count": 0,
      "outputs": [
        {
          "output_type": "stream",
          "text": [
            "4\n"
          ],
          "name": "stdout"
        }
      ]
    },
    {
      "cell_type": "markdown",
      "metadata": {
        "id": "QVn2qoiVCArZ",
        "colab_type": "text"
      },
      "source": [
        "# Chapter 5. Bit Manipulation"
      ]
    },
    {
      "cell_type": "markdown",
      "metadata": {
        "id": "MCiruloRwcci",
        "colab_type": "text"
      },
      "source": [
        "## Common Bit Tasks: Getting and Setting"
      ]
    },
    {
      "cell_type": "code",
      "metadata": {
        "id": "gV3ZY5yNwynJ",
        "colab_type": "code",
        "outputId": "68c5bf6c-fe0a-46b5-ae30-ed7512ffb4b3",
        "colab": {
          "base_uri": "https://localhost:8080/",
          "height": 68
        }
      },
      "source": [
        "# Get Bit\n",
        "def getBit(num, i):\n",
        "  mask = 1 << i\n",
        "  return (num & mask) is not 0\n",
        "\n",
        "# Set Bit\n",
        "def setBit(num, i):\n",
        "  mask = 1 << i\n",
        "  return num | mask\n",
        "\n",
        "# Clear Bit\n",
        "def clearBit(num, i):\n",
        "  mask = ~(1 << i)\n",
        "  return num & mask\n",
        "\n",
        "def clearBitsMSBthroughI(num, i):\n",
        "  mask = (1 << i) - 1\n",
        "  return num & mask\n",
        "\n",
        "print(bin(clearBitsMSBthroughI(0b001111, 2)))\n",
        "\n",
        "def clearBitslthrough0(num, i):\n",
        "  mask = (-1 << (i + 1))\n",
        "  return num & mask\n",
        "\n",
        "print(bin(clearBitslthrough0(0b001111, 2)))\n",
        "\n",
        "# Update Bit\n",
        "def updateBit(num, i, bitlsl):\n",
        "  value = 1 if bitlsl else 0\n",
        "  mask = ~(1 << i)\n",
        "  return (num & mask) | (value << i)\n",
        "\n",
        "print(bin(updateBit(0b001111, 2, 0)))"
      ],
      "execution_count": 0,
      "outputs": [
        {
          "output_type": "stream",
          "text": [
            "0b11\n",
            "0b1000\n",
            "0b1011\n"
          ],
          "name": "stdout"
        }
      ]
    },
    {
      "cell_type": "markdown",
      "metadata": {
        "id": "WHDx7_ngCIDh",
        "colab_type": "text"
      },
      "source": [
        "## 5.1 Insertion"
      ]
    },
    {
      "cell_type": "code",
      "metadata": {
        "id": "239J67GvCHLZ",
        "colab_type": "code",
        "outputId": "a3b054fb-6482-40a0-b790-6a42cba77cc3",
        "colab": {
          "base_uri": "https://localhost:8080/",
          "height": 34
        }
      },
      "source": [
        "n = int(0b10000000000)\n",
        "m = int(0b10011)\n",
        "i = 2\n",
        "j = 6\n",
        "\n",
        "print(bin((((-1 << (j + 1)) | ((1 << i) - 1)) & n) | (m << i)))\n"
      ],
      "execution_count": 0,
      "outputs": [
        {
          "output_type": "stream",
          "text": [
            "0b10001001100\n"
          ],
          "name": "stdout"
        }
      ]
    },
    {
      "cell_type": "markdown",
      "metadata": {
        "id": "6AbCXsaVTNcr",
        "colab_type": "text"
      },
      "source": [
        "## 5.2 Binary to String"
      ]
    },
    {
      "cell_type": "code",
      "metadata": {
        "id": "6k8WECpRTRKg",
        "colab_type": "code",
        "colab": {}
      },
      "source": [
        "# ???"
      ],
      "execution_count": 0,
      "outputs": []
    },
    {
      "cell_type": "markdown",
      "metadata": {
        "id": "2i5DuAhXTSRr",
        "colab_type": "text"
      },
      "source": [
        "## 5.3 Flip Bit to Win"
      ]
    },
    {
      "cell_type": "code",
      "metadata": {
        "id": "RySPBvtETZSI",
        "colab_type": "code",
        "outputId": "dbd41754-7e55-4fb5-dd70-1c0efc190c34",
        "colab": {
          "base_uri": "https://localhost:8080/",
          "height": 51
        }
      },
      "source": [
        "LENGTH = 32\n",
        "def longestSeqOfUnits(num):\n",
        "  count = maxCount = 0\n",
        "  for i in range(LENGTH):\n",
        "    if getBit(num, i):\n",
        "      count += 1\n",
        "    else:\n",
        "      if maxCount < count: maxCount = count\n",
        "      count = 0\n",
        "  return count if maxCount < count else maxCount\n",
        "\n",
        "def flipBitToWin(num):\n",
        "  maxLength = 0\n",
        "  for i in range(LENGTH):\n",
        "    cur = setBit(num, i)\n",
        "    curMaxLength = longestSeqOfUnits(cur)\n",
        "    if maxLength < curMaxLength:\n",
        "      maxLength = curMaxLength\n",
        "  return maxLength\n",
        "\n",
        "print(flipBitToWin(0b11011101111))\n",
        "\n",
        "def flipBitToWin(num):\n",
        "  prev = maxLength = l = 0\n",
        "  for i in range(LENGTH):\n",
        "    if getBit(num, i) is False:\n",
        "      if prev + l > maxLength:\n",
        "        maxLength = prev + l\n",
        "      prev = l\n",
        "      l = 0\n",
        "    else: l += 1\n",
        "  return maxLength + 1\n",
        "\n",
        "print(flipBitToWin(0b11011101111)) "
      ],
      "execution_count": 0,
      "outputs": [
        {
          "output_type": "stream",
          "text": [
            "8\n",
            "8\n"
          ],
          "name": "stdout"
        }
      ]
    },
    {
      "cell_type": "markdown",
      "metadata": {
        "id": "-dUrU0g4TaRH",
        "colab_type": "text"
      },
      "source": [
        "## 5.4 Next Number"
      ]
    },
    {
      "cell_type": "code",
      "metadata": {
        "id": "eSSp4-DVTftu",
        "colab_type": "code",
        "outputId": "968dab19-9ef4-49bd-fb3c-4a45070f7396",
        "colab": {
          "base_uri": "https://localhost:8080/",
          "height": 34
        }
      },
      "source": [
        "num = 0b1101011\n",
        "length = 0\n",
        "zeroIndeces = []\n",
        "for i in list(range(64))[::-1]:\n",
        "  if length is 0 and getBit(num, i):\n",
        "    length = i + 1\n",
        "  if length is not 0 and not getBit(num, i):\n",
        "    zeroIndeces.append(i)\n",
        "a = b = (1 << length) - 1\n",
        "for i, v in enumerate(zeroIndeces):\n",
        "  a = clearBit(a, i)\n",
        "  if i is len(zeroIndeces) - 1 and v is not 0:\n",
        "    b = clearBit(b, v - 1)\n",
        "  else:\n",
        "    b = clearBit(b, v)\n",
        "\n",
        "(bin(a), bin(b))"
      ],
      "execution_count": 0,
      "outputs": [
        {
          "output_type": "execute_result",
          "data": {
            "text/plain": [
              "('0b1111100', '0b1101101')"
            ]
          },
          "metadata": {
            "tags": []
          },
          "execution_count": 12
        }
      ]
    },
    {
      "cell_type": "markdown",
      "metadata": {
        "id": "NYBW5KNGTgY-",
        "colab_type": "text"
      },
      "source": [
        "## 5.5 Debbuger"
      ]
    },
    {
      "cell_type": "code",
      "metadata": {
        "id": "DYC7-pOjTkiT",
        "colab_type": "code",
        "colab": {}
      },
      "source": [
        "# Check that the number is a power of two."
      ],
      "execution_count": 0,
      "outputs": []
    },
    {
      "cell_type": "markdown",
      "metadata": {
        "id": "AbICAfV5TlXW",
        "colab_type": "text"
      },
      "source": [
        "## 5.6 Conversion"
      ]
    },
    {
      "cell_type": "code",
      "metadata": {
        "id": "hgWm_4gcTpe_",
        "colab_type": "code",
        "outputId": "23307d24-5326-4943-dbe9-e2c661301cfa",
        "colab": {
          "base_uri": "https://localhost:8080/",
          "height": 34
        }
      },
      "source": [
        "a = 0b11101\n",
        "b = 0b01111\n",
        "c = a ^ b\n",
        "count = 0\n",
        "for i in range(64):\n",
        "  if getBit(c, i):\n",
        "    count += 1\n",
        "count"
      ],
      "execution_count": 0,
      "outputs": [
        {
          "output_type": "execute_result",
          "data": {
            "text/plain": [
              "2"
            ]
          },
          "metadata": {
            "tags": []
          },
          "execution_count": 14
        }
      ]
    },
    {
      "cell_type": "markdown",
      "metadata": {
        "id": "1AZAss7FTqI0",
        "colab_type": "text"
      },
      "source": [
        "## 5.7 Pairwise Swap"
      ]
    },
    {
      "cell_type": "code",
      "metadata": {
        "id": "ZV5hwTszTvvi",
        "colab_type": "code",
        "outputId": "2669f457-586d-4011-89f1-af938c040816",
        "colab": {
          "base_uri": "https://localhost:8080/",
          "height": 34
        }
      },
      "source": [
        "num = 0b101101\n",
        "\n",
        "mask_even = 0xAAAAAAAAAAAAAAAA\n",
        "mask_odd = ~mask_even\n",
        "\n",
        "even = num & mask_even\n",
        "odd = num & mask_odd\n",
        "\n",
        "bin((odd << 1) | (even >> 1))"
      ],
      "execution_count": 0,
      "outputs": [
        {
          "output_type": "execute_result",
          "data": {
            "text/plain": [
              "'0b11110'"
            ]
          },
          "metadata": {
            "tags": []
          },
          "execution_count": 5
        }
      ]
    },
    {
      "cell_type": "markdown",
      "metadata": {
        "id": "7tR-FUWXT1gU",
        "colab_type": "text"
      },
      "source": [
        "## 5.8 Draw Line"
      ]
    },
    {
      "cell_type": "code",
      "metadata": {
        "id": "5vhQ4j0HT3-k",
        "colab_type": "code",
        "outputId": "855f4f1e-c62d-4752-f4fb-3520dfdac8db",
        "colab": {
          "base_uri": "https://localhost:8080/",
          "height": 221
        }
      },
      "source": [
        "screen = [0] * 12\n",
        "width = 3\n",
        "x1 = 5\n",
        "x2 = 21\n",
        "y = 2\n",
        "\n",
        "BYTE_LEN = 8\n",
        "\n",
        "row = width * y\n",
        "firstRow = row + x1 // BYTE_LEN\n",
        "lastRow = row + x2 // BYTE_LEN\n",
        "\n",
        "for i in range(firstRow, lastRow + 1):\n",
        "  screen[i] = 0xFF\n",
        "\n",
        "screen[firstRow] = screen[firstRow] >> (x1 % BYTE_LEN)\n",
        "mask = (1 << (BYTE_LEN - x2 % BYTE_LEN - 1)) - 1\n",
        "screen[lastRow] = screen[lastRow] ^ mask\n",
        "\n",
        "[bin(x) for x in screen]"
      ],
      "execution_count": 0,
      "outputs": [
        {
          "output_type": "execute_result",
          "data": {
            "text/plain": [
              "['0b0',\n",
              " '0b0',\n",
              " '0b0',\n",
              " '0b0',\n",
              " '0b0',\n",
              " '0b0',\n",
              " '0b111',\n",
              " '0b11111111',\n",
              " '0b11111100',\n",
              " '0b0',\n",
              " '0b0',\n",
              " '0b0']"
            ]
          },
          "metadata": {
            "tags": []
          },
          "execution_count": 30
        }
      ]
    },
    {
      "cell_type": "markdown",
      "metadata": {
        "id": "te4DT7hsKc2b",
        "colab_type": "text"
      },
      "source": [
        "# Chapter 6. Math and Logic Puzzles"
      ]
    },
    {
      "cell_type": "markdown",
      "metadata": {
        "id": "tWDaHa78KhIT",
        "colab_type": "text"
      },
      "source": [
        "## Check for Primality"
      ]
    },
    {
      "cell_type": "code",
      "metadata": {
        "id": "xAAi6URKKrmI",
        "colab_type": "code",
        "outputId": "39acf6bd-8870-48a0-db14-f16ee15a281e",
        "colab": {
          "base_uri": "https://localhost:8080/",
          "height": 34
        }
      },
      "source": [
        "def primeNaive(n):\n",
        "  if n < 2:\n",
        "    return False\n",
        "  for i in range(2, n):\n",
        "    if n % i is 0:\n",
        "      return False\n",
        "  return True\n",
        "\n",
        "primeNaive(10) "
      ],
      "execution_count": 0,
      "outputs": [
        {
          "output_type": "execute_result",
          "data": {
            "text/plain": [
              "False"
            ]
          },
          "metadata": {
            "tags": []
          },
          "execution_count": 3
        }
      ]
    },
    {
      "cell_type": "code",
      "metadata": {
        "id": "4HUvwVW6LSR8",
        "colab_type": "code",
        "outputId": "fdadec89-1aa3-4d68-be68-f07ed67d7778",
        "colab": {
          "base_uri": "https://localhost:8080/",
          "height": 34
        }
      },
      "source": [
        "def primeSlightlyBetter(n):\n",
        "  if n < 2:\n",
        "    return False\n",
        "  for i in range(2, int(n**0.5) + 1):\n",
        "    if n % i is 0:\n",
        "      return False\n",
        "  return True\n",
        "\n",
        "primeNaive(10) "
      ],
      "execution_count": 0,
      "outputs": [
        {
          "output_type": "execute_result",
          "data": {
            "text/plain": [
              "False"
            ]
          },
          "metadata": {
            "tags": []
          },
          "execution_count": 7
        }
      ]
    },
    {
      "cell_type": "markdown",
      "metadata": {
        "id": "83Loqv7FItaS",
        "colab_type": "text"
      },
      "source": [
        "## The Sieve of Eratosthenes"
      ]
    },
    {
      "cell_type": "code",
      "metadata": {
        "id": "ebuclI-LLyFu",
        "colab_type": "code",
        "outputId": "474ccb04-f9f5-46e8-d28b-0017ac7533d8",
        "colab": {
          "base_uri": "https://localhost:8080/",
          "height": 34
        }
      },
      "source": [
        "def crossoff(flags, prime):\n",
        "  for i in range(2 * prime, len(flags), prime):\n",
        "    flags[i] = False\n",
        "\n",
        "def getNextPrime(flags, prime):\n",
        "  nextPrime = prime + 1\n",
        "  while nextPrime < len(flags) and not flags[nextPrime]:\n",
        "    nextPrime += 1\n",
        "  return nextPrime\n",
        "\n",
        "def sieveOfEratosthenes(max):\n",
        "  flags = [1 if i > 1 else 0 for i in range(max + 1)]\n",
        "  prime = 2\n",
        "  while prime <= max ** 2:\n",
        "    crossoff(flags, prime)\n",
        "    prime = getNextPrime(flags, prime)\n",
        "  return flags\n",
        "\n",
        "flags = sieveOfEratosthenes(20)\n",
        "for i, v in enumerate(flags):\n",
        "  if v: print(i, end=' ')"
      ],
      "execution_count": 0,
      "outputs": [
        {
          "output_type": "stream",
          "text": [
            "2 3 5 7 11 13 17 19 "
          ],
          "name": "stdout"
        }
      ]
    },
    {
      "cell_type": "markdown",
      "metadata": {
        "id": "bo8FzWHKS9k-",
        "colab_type": "text"
      },
      "source": [
        "## 6.6 The Apocalypse"
      ]
    },
    {
      "cell_type": "code",
      "metadata": {
        "id": "kXx7YItVTC6t",
        "colab_type": "code",
        "outputId": "7cc07dd0-29d1-40f9-a98a-e2174a1ac785",
        "colab": {
          "base_uri": "https://localhost:8080/",
          "height": 51
        }
      },
      "source": [
        "# 1 - boy, 0 - girl\n",
        "import random\n",
        "\n",
        "children = [[] for i in range(1000000)]\n",
        "girlsCount = 0\n",
        "boysCount = 0\n",
        "while True:\n",
        "  boys = list(filter(lambda x: not x or x[-1] is 1, children))\n",
        "  if not boys: break\n",
        "  for boy in boys:\n",
        "    child = 1 if random.random() < 0.5 else 0\n",
        "    if child is 1:\n",
        "      boysCount += 1\n",
        "    else:\n",
        "      girlsCount += 1\n",
        "    boy.append(child)\n",
        "\n",
        "print(f\"Girls: {girlsCount}, {100 * girlsCount / (girlsCount + boysCount):.2f}%\")\n",
        "print(f\"Boys: {boysCount}, {100 * boysCount / (girlsCount + boysCount):.2f}%\")    \n"
      ],
      "execution_count": 0,
      "outputs": [
        {
          "output_type": "stream",
          "text": [
            "Girls: 1000000, 50.10%\n",
            "Boys: 996036, 49.90%\n"
          ],
          "name": "stdout"
        }
      ]
    },
    {
      "cell_type": "markdown",
      "metadata": {
        "id": "qvimRkacjgrx",
        "colab_type": "text"
      },
      "source": [
        "# Chapter 7. Object-Oriented Design"
      ]
    },
    {
      "cell_type": "markdown",
      "metadata": {
        "id": "GL6Qwmkxjjzn",
        "colab_type": "text"
      },
      "source": [
        "# Chapter 8. Recursion and Dynamic Programming"
      ]
    },
    {
      "cell_type": "markdown",
      "metadata": {
        "id": "6Wt8Cq9hjzlS",
        "colab_type": "text"
      },
      "source": [
        "## 8.1 Triple Step"
      ]
    },
    {
      "cell_type": "code",
      "metadata": {
        "id": "Zr7NHP6kj9Te",
        "colab_type": "code",
        "colab": {
          "base_uri": "https://localhost:8080/",
          "height": 34
        },
        "outputId": "12bebd91-be1b-473e-ce0d-36564eb57d4e"
      },
      "source": [
        "def triple_step(n=100):\n",
        "  memo = [0] * (n+1)\n",
        "  \n",
        "  def inner(i, memo):\n",
        "    if i < 0: return 0\n",
        "    if i is 0: return 1\n",
        "    if memo[i] is 0:\n",
        "      memo[i] = inner(i-1, memo) + inner(i-2, memo) + inner(i-3, memo)\n",
        "    return memo[i]\n",
        "  \n",
        "  return inner(n, memo)\n",
        "\n",
        "triple_step()"
      ],
      "execution_count": 12,
      "outputs": [
        {
          "output_type": "execute_result",
          "data": {
            "text/plain": [
              "180396380815100901214157639"
            ]
          },
          "metadata": {
            "tags": []
          },
          "execution_count": 12
        }
      ]
    },
    {
      "cell_type": "markdown",
      "metadata": {
        "id": "qEXPNuzyrBEt",
        "colab_type": "text"
      },
      "source": [
        "## 8.2 Robot in a Grid"
      ]
    },
    {
      "cell_type": "code",
      "metadata": {
        "id": "oA-Als1OrEGG",
        "colab_type": "code",
        "colab": {
          "base_uri": "https://localhost:8080/",
          "height": 51
        },
        "outputId": "24dd88b9-1a12-4f86-a1a0-c9cf3a459850"
      },
      "source": [
        "r = 3\n",
        "c = 4\n",
        "f = [\n",
        "  [True, True, False, True],\n",
        "  [True, True, False, True],\n",
        "  [True, True, True, True]\n",
        "]\n",
        "path = []\n",
        "\n",
        "def func(i, j, f):\n",
        "  path.append((i, j))\n",
        "  if i == j == 0:\n",
        "    return True\n",
        "  if i > 0 and f[i-1][j] and func(i-1, j, f):\n",
        "    return True\n",
        "  if j > 0 and f[i][j-1] and func(i, j-1, f):\n",
        "    return True\n",
        "  path.pop()\n",
        "  return False\n",
        "\n",
        "print(func(r-1, c-1, f))\n",
        "print(path)\n"
      ],
      "execution_count": 24,
      "outputs": [
        {
          "output_type": "stream",
          "text": [
            "True\n",
            "[(2, 3), (2, 2), (2, 1), (1, 1), (0, 1), (0, 0)]\n"
          ],
          "name": "stdout"
        }
      ]
    },
    {
      "cell_type": "markdown",
      "metadata": {
        "id": "dyWi1yLgMiqS",
        "colab_type": "text"
      },
      "source": [
        "## 8.3 Magic Index"
      ]
    },
    {
      "cell_type": "code",
      "metadata": {
        "id": "_v34m5HbMoam",
        "colab_type": "code",
        "colab": {
          "base_uri": "https://localhost:8080/",
          "height": 34
        },
        "outputId": "6fb16164-5319-4615-c0f8-198394855a91"
      },
      "source": [
        "def magic_index(arr):\n",
        "  def func(arr, first, last):\n",
        "    i = first + (last-first) // 2\n",
        "    if arr[i] is i: \n",
        "      return True\n",
        "    if i in [first, last]: \n",
        "      return False\n",
        "    if i < arr[i]:\n",
        "      return func(arr, first, i)\n",
        "    else: \n",
        "      return func(arr, i, last)\n",
        "  \n",
        "  return func(arr, 0, len(arr))\n",
        "\n",
        "print(magic_index([-1,0,1,2,3,4,7,9,11,13,15,17,19,21,23]))\n",
        "print(magic_index([-1,0,1,2,3,5,7,9,11,13,15,17,19,21,23]))"
      ],
      "execution_count": 1,
      "outputs": [
        {
          "output_type": "stream",
          "text": [
            "None\n"
          ],
          "name": "stdout"
        }
      ]
    },
    {
      "cell_type": "markdown",
      "metadata": {
        "id": "GliJKuCRUQsL",
        "colab_type": "text"
      },
      "source": [
        "## 8.4 Power Set"
      ]
    },
    {
      "cell_type": "code",
      "metadata": {
        "id": "dOEWu8H1UT6R",
        "colab_type": "code",
        "colab": {
          "base_uri": "https://localhost:8080/",
          "height": 34
        },
        "outputId": "e7efcac2-64db-4fe2-d51d-fc5431a94825"
      },
      "source": [
        "def power_set(arr):\n",
        "  subsets = [[]]\n",
        "  for v in arr:\n",
        "    sets = []\n",
        "    for s in subsets:\n",
        "      sets.append(s + [v])\n",
        "    subsets += sets\n",
        "  return subsets\n",
        "\n",
        "print(power_set([0,1,2]))"
      ],
      "execution_count": 10,
      "outputs": [
        {
          "output_type": "stream",
          "text": [
            "[[], [0], [1], [0, 1], [2], [0, 2], [1, 2], [0, 1, 2]]\n"
          ],
          "name": "stdout"
        }
      ]
    },
    {
      "cell_type": "markdown",
      "metadata": {
        "id": "fd9ptlhih3cj",
        "colab_type": "text"
      },
      "source": [
        "## 8.5 Recursive Multiply"
      ]
    },
    {
      "cell_type": "code",
      "metadata": {
        "id": "HwBbbtWBh8ou",
        "colab_type": "code",
        "colab": {
          "base_uri": "https://localhost:8080/",
          "height": 34
        },
        "outputId": "385d4939-5295-4858-c3bf-8955057335dd"
      },
      "source": [
        "def multiply(a, b):\n",
        "  result = 0\n",
        "  def func(a, b):\n",
        "    nonlocal result\n",
        "    if not b: return\n",
        "    result += a\n",
        "    func(a, b-1)\n",
        "\n",
        "  func(a, b)\n",
        "  return result\n",
        "\n",
        "multiply(2, 4)\n"
      ],
      "execution_count": 12,
      "outputs": [
        {
          "output_type": "execute_result",
          "data": {
            "text/plain": [
              "8"
            ]
          },
          "metadata": {
            "tags": []
          },
          "execution_count": 12
        }
      ]
    },
    {
      "cell_type": "markdown",
      "metadata": {
        "id": "iqBv9x3RjlJd",
        "colab_type": "text"
      },
      "source": [
        "## 8.6 Towers of Hanoi"
      ]
    },
    {
      "cell_type": "code",
      "metadata": {
        "id": "xB_KlOI7jo0z",
        "colab_type": "code",
        "colab": {
          "base_uri": "https://localhost:8080/",
          "height": 34
        },
        "outputId": "2b56b341-0f41-4a80-a883-0ce5d0435c18"
      },
      "source": [
        "first = [6, 5, 4, 3, 2, 1]\n",
        "second = []\n",
        "third = []\n",
        "\n",
        "def move_top(origin, destination):\n",
        "  destination.append(origin.pop())\n",
        "\n",
        "def move_disks(n, origin, destination, buffer):\n",
        "  if n < 1: return\n",
        "  move_disks(n-1, origin, buffer, destination)\n",
        "  move_top(origin, destination)\n",
        "  move_disks(n-1, buffer, destination, origin)\n",
        "\n",
        "move_disks(len(first), first, third, second)\n",
        "(first, second, third)\n"
      ],
      "execution_count": 16,
      "outputs": [
        {
          "output_type": "execute_result",
          "data": {
            "text/plain": [
              "([], [], [6, 5, 4, 3, 2, 1])"
            ]
          },
          "metadata": {
            "tags": []
          },
          "execution_count": 16
        }
      ]
    },
    {
      "cell_type": "markdown",
      "metadata": {
        "id": "Lw6wmqBP_vCL",
        "colab_type": "text"
      },
      "source": [
        "## 8.7 Permutations without Dups"
      ]
    },
    {
      "cell_type": "code",
      "metadata": {
        "id": "AHkYHgCy_yRN",
        "colab_type": "code",
        "colab": {
          "base_uri": "https://localhost:8080/",
          "height": 34
        },
        "outputId": "c5e20f88-7909-4d80-d5ba-3a5391f2dffd"
      },
      "source": [
        "\"\"\"\n",
        "a\n",
        "-----\n",
        "a b\n",
        "b a\n",
        "-----\n",
        "c a b\n",
        "a c b\n",
        "a b c\n",
        "c b a\n",
        "b c a\n",
        "b a c\n",
        "\"\"\"\n",
        "\n",
        "def perms(arr):\n",
        "  permutations = []\n",
        "  if len(arr) is 0:\n",
        "    permutations.append('')\n",
        "    return permutations\n",
        "  last = arr[-1]\n",
        "  reminder = arr[:-1]\n",
        "  words = perms(reminder)\n",
        "  for word in words:\n",
        "    for i in range(len(word)+1):\n",
        "      permutations.append(word[:i] + last + word[i:])\n",
        "  return permutations\n",
        "\n",
        "perms('abc')"
      ],
      "execution_count": 22,
      "outputs": [
        {
          "output_type": "execute_result",
          "data": {
            "text/plain": [
              "['cba', 'bca', 'bac', 'cab', 'acb', 'abc']"
            ]
          },
          "metadata": {
            "tags": []
          },
          "execution_count": 22
        }
      ]
    },
    {
      "cell_type": "markdown",
      "metadata": {
        "id": "2F5U3BEOtC84",
        "colab_type": "text"
      },
      "source": [
        "## 8.8 Permutations with Dups"
      ]
    },
    {
      "cell_type": "code",
      "metadata": {
        "id": "3CYP3VX_tH1o",
        "colab_type": "code",
        "colab": {
          "base_uri": "https://localhost:8080/",
          "height": 34
        },
        "outputId": "cad02e95-58b2-49ee-b99e-6f1a0d6eade7"
      },
      "source": [
        "handled = []\n",
        "def perms(arr):\n",
        "  permutations = []\n",
        "  if len(arr) is 0:\n",
        "    permutations.append('')\n",
        "    return permutations\n",
        "  last = arr[-1]\n",
        "  reminder = arr[:-1]\n",
        "  words = perms(reminder)\n",
        "  if last not in handled:\n",
        "    handled.append(last)\n",
        "    for word in words:\n",
        "      for i in range(len(word)+1):\n",
        "        permutations.append(word[:i] + last + word[i:])\n",
        "    return permutations\n",
        "  else:\n",
        "    return words\n",
        "\n",
        "print(perms('aabbbc'))"
      ],
      "execution_count": 27,
      "outputs": [
        {
          "output_type": "stream",
          "text": [
            "['cba', 'bca', 'bac', 'cab', 'acb', 'abc']\n"
          ],
          "name": "stdout"
        }
      ]
    },
    {
      "cell_type": "markdown",
      "metadata": {
        "id": "HFf-o9Duqggg",
        "colab_type": "text"
      },
      "source": [
        "## 8.9 Parens"
      ]
    },
    {
      "cell_type": "code",
      "metadata": {
        "id": "Oi86fhuHqkYq",
        "colab_type": "code",
        "colab": {
          "base_uri": "https://localhost:8080/",
          "height": 34
        },
        "outputId": "3c46489c-cb5b-4bb1-b790-335c46d97398"
      },
      "source": [
        "def parens(n):\n",
        "  permutations = set()\n",
        "  if n is 1:\n",
        "    permutations.add('()')\n",
        "    return permutations\n",
        "  combinations = parens(n-1)\n",
        "  for combination in combinations:\n",
        "    permutations.add(f'(){combination}')\n",
        "    permutations.add(f'({combination})')\n",
        "    permutations.add(f'{combination}()')\n",
        "  return permutations\n",
        "\n",
        "parens(3)"
      ],
      "execution_count": 4,
      "outputs": [
        {
          "output_type": "execute_result",
          "data": {
            "text/plain": [
              "{'((()))', '(()())', '(())()', '()(())', '()()()'}"
            ]
          },
          "metadata": {
            "tags": []
          },
          "execution_count": 4
        }
      ]
    },
    {
      "cell_type": "markdown",
      "metadata": {
        "id": "MzpHCcX9vIjT",
        "colab_type": "text"
      },
      "source": [
        "## 8.10 Paint Fill"
      ]
    },
    {
      "cell_type": "code",
      "metadata": {
        "id": "pEzDjADgvMGE",
        "colab_type": "code",
        "colab": {
          "base_uri": "https://localhost:8080/",
          "height": 136
        },
        "outputId": "78690f87-20d3-43d9-d9d3-fddf6949194c"
      },
      "source": [
        "screen = [\n",
        "  [0,0,0,0,0,0,0],\n",
        "  [0,0,0,0,0,0,0],\n",
        "  [0,0,0,0,1,0,0],\n",
        "  [0,0,0,1,1,1,0],\n",
        "  [0,0,1,1,1,0,0],\n",
        "  [0,0,1,1,1,0,0],\n",
        "  [0,0,0,0,0,0,0]\n",
        "]\n",
        "\n",
        "class Point():\n",
        "  def __init__(self, x, y):\n",
        "    self.x = x\n",
        "    self.y = y\n",
        "  def __repr__(self):\n",
        "    return f\"x: {self.x}, y: {self.y}\"\n",
        "  def __eq__(self, other):\n",
        "    return self.x is other.x and self.y is other.y\n",
        "\n",
        "point = Point(3, 4)\n",
        "\n",
        "def valid(parent, child, screen):\n",
        "  height = len(screen)\n",
        "  width = len(screen[0])\n",
        "  if (child.x < 0 \n",
        "      or child.y < 0 \n",
        "      or child.x >= width \n",
        "      or child.y >= height):\n",
        "    return False\n",
        "  return screen[point.y][point.x] is screen[child.y][child.x]\n",
        "\n",
        "def children(point, screen):\n",
        "  children = []\n",
        "  # left\n",
        "  left = Point(point.x-1, point.y)\n",
        "  if valid(point, left, screen): \n",
        "    children.append(left)\n",
        "  # up\n",
        "  up = Point(point.x, point.y-1)\n",
        "  if valid(point, up, screen): \n",
        "    children.append(up)\n",
        "  # right\n",
        "  right = Point(point.x+1, point.y)\n",
        "  if valid(point, right, screen):\n",
        "    children.append(right)\n",
        "  # down\n",
        "  down = Point(point.x, point.y+1)\n",
        "  if valid(point, down, screen): \n",
        "    children.append(down)\n",
        "  return children\n",
        "\n",
        "\n",
        "def fill(point, screen, color):\n",
        "  queue = []\n",
        "  queue.append(point)\n",
        "  marked = [point]\n",
        "  while queue:\n",
        "    p = queue.pop(0)\n",
        "    for child in children(p, screen):\n",
        "      if child not in marked:\n",
        "        queue.append(child)\n",
        "        marked.append(child)\n",
        "  for p in marked:\n",
        "    screen[p.y][p.x] = color\n",
        "\n",
        "fill(point, screen, 2)\n",
        "for row in screen:\n",
        "  print(row)"
      ],
      "execution_count": 11,
      "outputs": [
        {
          "output_type": "stream",
          "text": [
            "[0, 0, 0, 0, 0, 0, 0]\n",
            "[0, 0, 0, 0, 0, 0, 0]\n",
            "[0, 0, 0, 0, 2, 0, 0]\n",
            "[0, 0, 0, 2, 2, 2, 0]\n",
            "[0, 0, 2, 2, 2, 0, 0]\n",
            "[0, 0, 2, 2, 2, 0, 0]\n",
            "[0, 0, 0, 0, 0, 0, 0]\n"
          ],
          "name": "stdout"
        }
      ]
    },
    {
      "cell_type": "markdown",
      "metadata": {
        "id": "Fy7VFg-jHDQG",
        "colab_type": "text"
      },
      "source": [
        "## 8.11 Coins"
      ]
    },
    {
      "cell_type": "code",
      "metadata": {
        "id": "PWLWeBC_HFz9",
        "colab_type": "code",
        "colab": {}
      },
      "source": [
        ""
      ],
      "execution_count": 0,
      "outputs": []
    },
    {
      "cell_type": "markdown",
      "metadata": {
        "id": "PbjCOeunqjEw",
        "colab_type": "text"
      },
      "source": [
        "## 8.12 Eight Queens"
      ]
    },
    {
      "cell_type": "code",
      "metadata": {
        "id": "TIz-_7hNq2r2",
        "colab_type": "code",
        "colab": {}
      },
      "source": [
        "GRID_SIZE = 8\n",
        "\n",
        "def check(columns, row, col):\n",
        "  for prev_row in range(row):\n",
        "    prev_col = columns[prev_row]\n",
        "    if prev_col is col:\n",
        "      return False\n",
        "    diff = abs(col - prev_col)\n",
        "    if row-prev_row is diff:\n",
        "      return False\n",
        "  return True\n",
        "\n",
        "def queens(row, columns, results):\n",
        "  if row is GRID_SIZE:\n",
        "    results.append(columns.copy())\n",
        "  else:\n",
        "    for col in range(GRID_SIZE):\n",
        "      if check(columns, row, col):\n",
        "        columns[row] = col\n",
        "        queens(row+1, columns, results)\n",
        "\n",
        "result = []\n",
        "queens(0, [0]*GRID_SIZE, result)\n",
        "result\n",
        "\n"
      ],
      "execution_count": 0,
      "outputs": []
    },
    {
      "cell_type": "markdown",
      "metadata": {
        "id": "wlxRjq54S5wL",
        "colab_type": "text"
      },
      "source": [
        "## 8.13 Stack of Boxes"
      ]
    },
    {
      "cell_type": "code",
      "metadata": {
        "id": "VOV8sLiGS8c_",
        "colab_type": "code",
        "colab": {
          "base_uri": "https://localhost:8080/",
          "height": 136
        },
        "outputId": "492fb72b-bf07-4228-ae12-b2d8a48e2c41"
      },
      "source": [
        "import random as rd\n",
        "\n",
        "class Box():\n",
        "  def __init__(self, width, height, depth):\n",
        "    self.width = width\n",
        "    self.height = height\n",
        "    self.depth = depth\n",
        "  def can_be_above(self, bottom):\n",
        "    return (bottom.width >= self.width\n",
        "            and bottom.height >= self.height\n",
        "            and bottom.depth >= self.depth)\n",
        "  # def __str__(self):\n",
        "  #   return f'w: {self.width}, h: {self.height}, d: {self.depth}'\n",
        "  def __repr__(self):\n",
        "    # return f'w: {self.width}, h: {self.height}, d: {self.depth}'\n",
        "    return '\\n'+str((self.width, self.height, self.depth))\n",
        "\n",
        "def create(boxes, bottom_index):\n",
        "  bottom = boxes[bottom_index]\n",
        "  max_height = 0\n",
        "  for i in range(bottom_index+1, len(boxes)):\n",
        "    if boxes[i].can_be_above(bottom):\n",
        "      height = create(boxes, i)\n",
        "      max_height = max(height, max_height)\n",
        "  max_height += bottom.height\n",
        "  return max_height\n",
        "\n",
        "def create_stack(boxes):\n",
        "  boxes.sort(key=lambda b: b.height, reverse=True)\n",
        "  max_height = 0\n",
        "  for i in range(len(boxes)):\n",
        "    height = create(boxes, i)\n",
        "    max_height = max(height, max_height)\n",
        "  return max_height\n",
        "\n",
        "boxes = []\n",
        "for i in range(5):\n",
        "  width = rd.randint(1, 10)\n",
        "  height = rd.randint(1, 10)\n",
        "  depth = rd.randint(1, 10)\n",
        "  boxes.append(Box(width, height, depth))\n",
        "\n",
        "print(boxes)\n",
        "\n",
        "print(create_stack(boxes))\n"
      ],
      "execution_count": 48,
      "outputs": [
        {
          "output_type": "stream",
          "text": [
            "[\n",
            "(6, 4, 4), \n",
            "(2, 9, 1), \n",
            "(3, 5, 8), \n",
            "(7, 3, 5), \n",
            "(2, 3, 3)]\n",
            "9\n"
          ],
          "name": "stdout"
        }
      ]
    },
    {
      "cell_type": "markdown",
      "metadata": {
        "id": "ljvHtWyOyA9Q",
        "colab_type": "text"
      },
      "source": [
        "## 8.14 Boolean Evaluation"
      ]
    },
    {
      "cell_type": "code",
      "metadata": {
        "id": "DJiMFNaHyIm6",
        "colab_type": "code",
        "colab": {
          "base_uri": "https://localhost:8080/",
          "height": 34
        },
        "outputId": "7d4484d5-9098-46c2-8ae4-b32bdcfe9165"
      },
      "source": [
        ""
      ],
      "execution_count": 52,
      "outputs": [
        {
          "output_type": "execute_result",
          "data": {
            "text/plain": [
              "0"
            ]
          },
          "metadata": {
            "tags": []
          },
          "execution_count": 52
        }
      ]
    },
    {
      "cell_type": "markdown",
      "metadata": {
        "id": "RfzArXIBKrRw",
        "colab_type": "text"
      },
      "source": [
        "# Chapter 10. Sorting and Searching"
      ]
    },
    {
      "cell_type": "markdown",
      "metadata": {
        "id": "YcPp7BAhmZh9",
        "colab_type": "text"
      },
      "source": [
        "## Merge Sort"
      ]
    },
    {
      "cell_type": "code",
      "metadata": {
        "id": "GWlr38EbK2_o",
        "colab_type": "code",
        "colab": {
          "base_uri": "https://localhost:8080/",
          "height": 34
        },
        "outputId": "97a51763-eff4-449d-8273-056f2f825f27"
      },
      "source": [
        "def merge(left, right):\n",
        "  result = []\n",
        "  while left or right:\n",
        "    if not left:\n",
        "      result.append(right.pop(0))\n",
        "    elif not right:\n",
        "      result.append(left.pop(0))\n",
        "    elif left[0] < right[0]:\n",
        "      result.append(left.pop(0))\n",
        "    else:\n",
        "      result.append(right.pop(0))\n",
        "  return result\n",
        "\n",
        "# merge([1,4,6,8,9],[2,3,5,7])\n",
        "def merge_sort(arr):\n",
        "  if len(arr) <= 1:\n",
        "    return arr\n",
        "  middle = len(arr) // 2\n",
        "  return merge(merge_sort(arr[:middle]), merge_sort(arr[middle:]))\n",
        "\n",
        "merge_sort([2,3,9,5,7,1,4,6,8])\n"
      ],
      "execution_count": 58,
      "outputs": [
        {
          "output_type": "execute_result",
          "data": {
            "text/plain": [
              "[1, 2, 3, 4, 5, 6, 7, 8, 9]"
            ]
          },
          "metadata": {
            "tags": []
          },
          "execution_count": 58
        }
      ]
    },
    {
      "cell_type": "markdown",
      "metadata": {
        "id": "NXhYQ4q3K3h9",
        "colab_type": "text"
      },
      "source": [
        "## Quick Sort"
      ]
    },
    {
      "cell_type": "code",
      "metadata": {
        "id": "CPb18cpjOqef",
        "colab_type": "code",
        "colab": {
          "base_uri": "https://localhost:8080/",
          "height": 34
        },
        "outputId": "078eb799-2716-4ef5-b403-77bcf54db203"
      },
      "source": [
        "import random\n",
        "def quick_sort(arr):\n",
        "  if len(arr) <= 1:\n",
        "    return arr\n",
        "  index = random.randrange(0, len(arr)-1)\n",
        "  pivot = arr[index]\n",
        "  left = [v for i, v in enumerate(arr) if v <= pivot and i != index]\n",
        "  right = [v for i, v in enumerate(arr) if v > pivot and i != index]\n",
        "  return quick_sort(left) + [pivot] + quick_sort(right)\n",
        "\n",
        "quick_sort([2,3,9,5,7,1,4,6,8])"
      ],
      "execution_count": 64,
      "outputs": [
        {
          "output_type": "execute_result",
          "data": {
            "text/plain": [
              "[1, 2, 3, 4, 5, 6, 7, 8, 9]"
            ]
          },
          "metadata": {
            "tags": []
          },
          "execution_count": 64
        }
      ]
    },
    {
      "cell_type": "markdown",
      "metadata": {
        "id": "fSpjNTgFK9sQ",
        "colab_type": "text"
      },
      "source": [
        "## Binary Search"
      ]
    },
    {
      "cell_type": "code",
      "metadata": {
        "id": "Vkz-LbRnR7uW",
        "colab_type": "code",
        "colab": {
          "base_uri": "https://localhost:8080/",
          "height": 34
        },
        "outputId": "58391fba-1cbb-4085-aa4b-8f3b3c23b87b"
      },
      "source": [
        "def binary_search(arr, item):\n",
        "  if len(arr) == 1 and arr[0] != item:\n",
        "    return False\n",
        "  i = len(arr) // 2\n",
        "  if arr[i] is item: \n",
        "    return True\n",
        "  if arr[i] > item:\n",
        "    return binary_search(arr[:i], item)\n",
        "  else:\n",
        "    return binary_search(arr[i:], item)\n",
        "\n",
        "# binary_search([1, 2, 3, 4, 5, 6, 7, 8, 9], 7)\n",
        "binary_search([1, 2, 3, 4, 5, 6, 7, 8, 9], 10)"
      ],
      "execution_count": 74,
      "outputs": [
        {
          "output_type": "execute_result",
          "data": {
            "text/plain": [
              "False"
            ]
          },
          "metadata": {
            "tags": []
          },
          "execution_count": 74
        }
      ]
    },
    {
      "cell_type": "markdown",
      "metadata": {
        "id": "JTvU1gEgxCrt",
        "colab_type": "text"
      },
      "source": [
        "## 10.1 Sorted Merge"
      ]
    },
    {
      "cell_type": "code",
      "metadata": {
        "id": "iJTCoLwrxFfS",
        "colab_type": "code",
        "colab": {
          "base_uri": "https://localhost:8080/",
          "height": 34
        },
        "outputId": "d1c70455-fa36-4168-f4c9-939ab157799c"
      },
      "source": [
        "def sorted_merge(a, b):\n",
        "  i = 0\n",
        "  j = 0\n",
        "  while j < len(b):\n",
        "    if i == len(a):\n",
        "      a.append(b[j])\n",
        "      j += 1\n",
        "    elif a[i] < b[j]:\n",
        "      i += 1\n",
        "    else:\n",
        "      a = a[:i] + [b[j]] + a[i:]\n",
        "      i += 1\n",
        "      j += 1\n",
        "  return a\n",
        "\n",
        "a = [1,2,4,6,7,12]\n",
        "b = [0,3,5,8,9,10,11]\n",
        "sorted_merge(a, b)\n"
      ],
      "execution_count": 12,
      "outputs": [
        {
          "output_type": "execute_result",
          "data": {
            "text/plain": [
              "[0, 1, 2, 3, 4, 5, 6, 7, 8, 9, 10, 11, 12]"
            ]
          },
          "metadata": {
            "tags": []
          },
          "execution_count": 12
        }
      ]
    },
    {
      "cell_type": "markdown",
      "metadata": {
        "id": "MYMdDNsj2D92",
        "colab_type": "text"
      },
      "source": [
        "## 10.2 Group Anagrams"
      ]
    },
    {
      "cell_type": "code",
      "metadata": {
        "id": "YkXFBSok2I8s",
        "colab_type": "code",
        "colab": {}
      },
      "source": [
        ""
      ],
      "execution_count": 0,
      "outputs": []
    },
    {
      "cell_type": "markdown",
      "metadata": {
        "id": "3rcpmt6k2_S2",
        "colab_type": "text"
      },
      "source": [
        "## 10.3 Search in Rotated Array"
      ]
    },
    {
      "cell_type": "code",
      "metadata": {
        "id": "7GeR3f5l3B7P",
        "colab_type": "code",
        "colab": {
          "base_uri": "https://localhost:8080/",
          "height": 68
        },
        "outputId": "150e8862-deea-4327-e0a1-645102fd9775"
      },
      "source": [
        "def search(arr, item, low, high):\n",
        "  if low == high and arr[low] != item:\n",
        "    return None\n",
        "  middle = low + (high - low) // 2\n",
        "  result = None\n",
        "  if arr[middle] == item:\n",
        "    return middle\n",
        "  elif arr[middle] > item:\n",
        "    result = search(arr, item, low, middle - 1)\n",
        "  if result is None:\n",
        "    result = search(arr, item, middle + 1, high)\n",
        "  return result\n",
        "\n",
        "\n",
        "arr = [3, 4, 5, 6, 7, 8, 1]\n",
        "print(search(arr, 1, 0, len(arr) - 1))\n",
        "print(search(arr, 5, 0, len(arr) - 1))\n",
        "print(search(arr, 10, 0, len(arr) - 1))"
      ],
      "execution_count": 21,
      "outputs": [
        {
          "output_type": "stream",
          "text": [
            "6\n",
            "2\n",
            "None\n"
          ],
          "name": "stdout"
        }
      ]
    },
    {
      "cell_type": "markdown",
      "metadata": {
        "id": "CHQQFxp3BeOh",
        "colab_type": "text"
      },
      "source": [
        "## 10.4 Sorted Search, No Size"
      ]
    },
    {
      "cell_type": "code",
      "metadata": {
        "id": "o-8l2wTrBn4P",
        "colab_type": "code",
        "colab": {
          "base_uri": "https://localhost:8080/",
          "height": 238
        },
        "outputId": "cb50e80b-dd16-43b0-c256-f811ca0d8044"
      },
      "source": [
        "def elementAt(arr, i):\n",
        "  try:\n",
        "    return arr[i]\n",
        "  except IndexError:\n",
        "    return -1\n",
        "\n",
        "def get_high(arr):\n",
        "  high = 10\n",
        "  while elementAt(arr, high) != -1:\n",
        "    high *= 10\n",
        "  return high \n",
        "\n",
        "\n",
        "def listy_search(arr, x, low, high):\n",
        "  if low > high:\n",
        "    return None\n",
        "  middle = low + (high - low) // 2\n",
        "  item = elementAt(arr, middle)\n",
        "  if item == x:\n",
        "    return middle\n",
        "  elif item > x or item == -1:\n",
        "    return listy_search(arr, x, low, middle - 1)\n",
        "  else:\n",
        "    return listy_search(arr, x, middle + 1, high)\n",
        "\n",
        "arr = [1,2,3,4,5,6,7,8,9,10,11,12]\n",
        "for v in arr:\n",
        "  print(listy_search(arr, v, 0, get_high(arr)))\n",
        "print(listy_search(arr, 15, 0, get_high(arr)))\n"
      ],
      "execution_count": 32,
      "outputs": [
        {
          "output_type": "stream",
          "text": [
            "0\n",
            "1\n",
            "2\n",
            "3\n",
            "4\n",
            "5\n",
            "6\n",
            "7\n",
            "8\n",
            "9\n",
            "10\n",
            "11\n",
            "None\n"
          ],
          "name": "stdout"
        }
      ]
    },
    {
      "cell_type": "markdown",
      "metadata": {
        "id": "F6RklumVVJmm",
        "colab_type": "text"
      },
      "source": [
        "## 10.5 Sparse Search"
      ]
    },
    {
      "cell_type": "code",
      "metadata": {
        "id": "DrSj1RMYVNAB",
        "colab_type": "code",
        "colab": {
          "base_uri": "https://localhost:8080/",
          "height": 102
        },
        "outputId": "7cb23d59-5fc6-487b-fef4-f1e5960c2d2a"
      },
      "source": [
        "'''\n",
        "EXAMPLE\n",
        "ball\n",
        "[\"at\", \"\", \"\", \"\", \"ball\", \"\", \"\", \"car\", \"\", \"\", \"dad\", \"\", \"\"]\n",
        "'''\n",
        "def non_empty_index(arr, middle, low, high):\n",
        "  for i in range(middle, high + 1):\n",
        "    if arr[i] != \"\":\n",
        "      return i\n",
        "  for i in reversed(range(low, middle + 1)):\n",
        "    if arr[i] != \"\":\n",
        "      return i\n",
        "  return None\n",
        "\n",
        "def sparse_search(arr, item, low, high):\n",
        "  if low > high:\n",
        "    return None\n",
        "  middle = low + (high - low) // 2\n",
        "  middle = non_empty_index(arr, middle, low, high)\n",
        "  if middle is None:\n",
        "    return None\n",
        "  elif arr[middle] == item:\n",
        "    return middle\n",
        "  elif arr[middle] > item:\n",
        "    return sparse_search(arr, item, low, middle - 1)\n",
        "  else:\n",
        "    return sparse_search(arr, item, middle + 1, high)\n",
        "\n",
        "arr = [\"at\", \"\", \"\", \"\", \"ball\", \"\", \"\", \"car\", \"\", \"\", \"dad\", \"\", \"\"]\n",
        "print(sparse_search(arr, \"ball\", 0, len(arr) - 1))\n",
        "print(sparse_search(arr, \"at\", 0, len(arr) - 1))\n",
        "print(sparse_search(arr, \"dad\", 0, len(arr) - 1))\n",
        "print(sparse_search(arr, \"art\", 0, len(arr) - 1))\n",
        "print(sparse_search(arr, \"mod\", 0, len(arr) - 1))\n"
      ],
      "execution_count": 37,
      "outputs": [
        {
          "output_type": "stream",
          "text": [
            "4\n",
            "0\n",
            "10\n",
            "None\n",
            "None\n"
          ],
          "name": "stdout"
        }
      ]
    },
    {
      "cell_type": "markdown",
      "metadata": {
        "id": "opVTRk6wsV50",
        "colab_type": "text"
      },
      "source": [
        "## 10.6 Sort Big File"
      ]
    },
    {
      "cell_type": "code",
      "metadata": {
        "id": "QAcTwRAks1XD",
        "colab_type": "code",
        "colab": {}
      },
      "source": [
        ""
      ],
      "execution_count": 0,
      "outputs": []
    },
    {
      "cell_type": "markdown",
      "metadata": {
        "id": "6X9-E15dsY2j",
        "colab_type": "text"
      },
      "source": [
        "## 10.7 Missing Int"
      ]
    },
    {
      "cell_type": "code",
      "metadata": {
        "id": "2n7AZzm7s0aq",
        "colab_type": "code",
        "colab": {}
      },
      "source": [
        ""
      ],
      "execution_count": 0,
      "outputs": []
    },
    {
      "cell_type": "markdown",
      "metadata": {
        "id": "HdqYMeRos2qv",
        "colab_type": "text"
      },
      "source": [
        "## 10.8 Find Duplicates"
      ]
    },
    {
      "cell_type": "code",
      "metadata": {
        "id": "wb_EaP8ts7FX",
        "colab_type": "code",
        "colab": {}
      },
      "source": [
        ""
      ],
      "execution_count": 0,
      "outputs": []
    },
    {
      "cell_type": "markdown",
      "metadata": {
        "id": "vrMJBW3Ds7f9",
        "colab_type": "text"
      },
      "source": [
        "## 10.9 Sorted Matrix Search"
      ]
    },
    {
      "cell_type": "code",
      "metadata": {
        "id": "9kwI_nt4tAml",
        "colab_type": "code",
        "colab": {
          "base_uri": "https://localhost:8080/",
          "height": 68
        },
        "outputId": "5b7ba193-10f0-4980-959b-bede32ca483c"
      },
      "source": [
        "def coord(index, columns):\n",
        "  return (index // columns, index % columns)\n",
        "\n",
        "def matrix_search(matrix, item, low, high):\n",
        "  if low > high:\n",
        "    return None\n",
        "  middle = low + (high - low) // 2\n",
        "  i, j = coord(middle, len(matrix[0]))\n",
        "  if matrix[i][j] == item:\n",
        "    return coord(middle, len(matrix[0]))\n",
        "  elif matrix[i][j] > item:\n",
        "    return matrix_search(matrix, item, low, middle - 1)\n",
        "  else:\n",
        "    return matrix_search(matrix, item, middle + 1, high)\n",
        "\n",
        "m = [\n",
        "  [1, 2, 3, 4],\n",
        "  [5, 6, 7, 8],\n",
        "  [9, 10, 11, 12],\n",
        "]\n",
        "print(matrix_search(m, 10, 0, len(m) * len(m[0]) - 1))\n",
        "print(matrix_search(m, 8, 0, len(m) * len(m[0]) - 1))\n",
        "print(matrix_search(m, 13, 0, len(m) * len(m[0]) - 1))\n"
      ],
      "execution_count": 43,
      "outputs": [
        {
          "output_type": "stream",
          "text": [
            "(2, 1)\n",
            "(1, 3)\n",
            "None\n"
          ],
          "name": "stdout"
        }
      ]
    },
    {
      "cell_type": "markdown",
      "metadata": {
        "id": "2K_UOEJRtA4F",
        "colab_type": "text"
      },
      "source": [
        "## 10.10 Rank from String"
      ]
    },
    {
      "cell_type": "code",
      "metadata": {
        "id": "_a72RpU0tEt2",
        "colab_type": "code",
        "colab": {
          "base_uri": "https://localhost:8080/",
          "height": 85
        },
        "outputId": "b4eb54ed-6592-4f8e-bb18-00e027c9323b"
      },
      "source": [
        "class Node():\n",
        "  def __init__(self, data):\n",
        "    self.data = data\n",
        "    self.left = None\n",
        "    self.right = None\n",
        "    self.left_count = 0\n",
        "\n",
        "def _insert(node, item):\n",
        "  while True:\n",
        "    if node.data > item:\n",
        "      node.left_count += 1\n",
        "      if node.left:\n",
        "        node = node.left\n",
        "      else:\n",
        "        node.left = Node(item)\n",
        "        return\n",
        "    else:\n",
        "      if node.right:\n",
        "        node = node.right\n",
        "      else:\n",
        "        node.right = Node(item)\n",
        "        return\n",
        "\n",
        "root = None\n",
        "\n",
        "def track(x):\n",
        "  global root\n",
        "  if not root:\n",
        "    root = Node(x)\n",
        "  else:\n",
        "    _insert(root, x)\n",
        "\n",
        "def get_rank_of_number(x):\n",
        "  if not root:\n",
        "    return None\n",
        "  node = root\n",
        "  rank = 0\n",
        "  while True:\n",
        "    if node.data > x:\n",
        "      if node.left:\n",
        "        node = node.left\n",
        "      else:\n",
        "        return None\n",
        "    elif node.data < x: \n",
        "      if node.right:\n",
        "        rank += node.left_count + 1\n",
        "        node = node.right\n",
        "      else:\n",
        "        return None\n",
        "    else:\n",
        "      if node.right and node.right.data == x:\n",
        "        rank += node.left_count + 1\n",
        "        node = node.right\n",
        "      else:\n",
        "        return rank\n",
        "\n",
        "for v in [5, 1 , 4 , 4 ,5, 9, 7, 13, 3]:\n",
        "  track(v)\n",
        "\n",
        "print(get_rank_of_number(1))\n",
        "print(get_rank_of_number(3))\n",
        "print(get_rank_of_number(4))\n",
        "print(get_rank_of_number(13))\n"
      ],
      "execution_count": 56,
      "outputs": [
        {
          "output_type": "stream",
          "text": [
            "0\n",
            "1\n",
            "3\n",
            "8\n"
          ],
          "name": "stdout"
        }
      ]
    },
    {
      "cell_type": "markdown",
      "metadata": {
        "id": "ypcBOanKtHru",
        "colab_type": "text"
      },
      "source": [
        "## 10.11 Peaks and Valleys"
      ]
    },
    {
      "cell_type": "code",
      "metadata": {
        "id": "r7Xq1NattM-o",
        "colab_type": "code",
        "colab": {
          "base_uri": "https://localhost:8080/",
          "height": 51
        },
        "outputId": "38c0aaed-e945-4036-a401-b13510e4e3b7"
      },
      "source": [
        "def peaks_and_valleys(arr):\n",
        "  arr.sort()\n",
        "  for i in range(0, len(arr), 2):\n",
        "    if i+1 < len(arr):\n",
        "      arr[i], arr[i+1] = arr[i+1], arr[i]  \n",
        "  return arr\n",
        "\n",
        "print(peaks_and_valleys([5,3,1,2,3,6]))\n",
        "print(peaks_and_valleys([5,3,1,2,3]))\n",
        "  "
      ],
      "execution_count": 62,
      "outputs": [
        {
          "output_type": "stream",
          "text": [
            "[2, 1, 3, 3, 6, 5]\n",
            "[2, 1, 3, 3, 5]\n"
          ],
          "name": "stdout"
        }
      ]
    },
    {
      "cell_type": "markdown",
      "metadata": {
        "id": "mc2OwXabemEH",
        "colab_type": "text"
      },
      "source": [
        "# Chapter 16. Moderate"
      ]
    },
    {
      "cell_type": "markdown",
      "metadata": {
        "id": "Ls4CZEHVepyF",
        "colab_type": "text"
      },
      "source": [
        "## 16.1 Number Swapper"
      ]
    },
    {
      "cell_type": "code",
      "metadata": {
        "id": "MCBQL677evtt",
        "colab_type": "code",
        "colab": {}
      },
      "source": [
        ""
      ],
      "execution_count": 0,
      "outputs": []
    },
    {
      "cell_type": "markdown",
      "metadata": {
        "id": "FpW4-5pWey34",
        "colab_type": "text"
      },
      "source": [
        "## 16.2 Word Frequencies"
      ]
    },
    {
      "cell_type": "code",
      "metadata": {
        "id": "B5CnmlQIe2vw",
        "colab_type": "code",
        "colab": {}
      },
      "source": [
        ""
      ],
      "execution_count": 0,
      "outputs": []
    },
    {
      "cell_type": "markdown",
      "metadata": {
        "id": "VLZVGeQte3RG",
        "colab_type": "text"
      },
      "source": [
        "## 16.3 Intersection"
      ]
    },
    {
      "cell_type": "code",
      "metadata": {
        "id": "GHAvBrJzgYbG",
        "colab_type": "code",
        "colab": {}
      },
      "source": [
        ""
      ],
      "execution_count": 0,
      "outputs": []
    },
    {
      "cell_type": "markdown",
      "metadata": {
        "id": "czbXH2OGgZFm",
        "colab_type": "text"
      },
      "source": [
        "## 16.4 Tic Tac Win"
      ]
    },
    {
      "cell_type": "code",
      "metadata": {
        "id": "kB1PNsRjgfIG",
        "colab_type": "code",
        "colab": {}
      },
      "source": [
        ""
      ],
      "execution_count": 0,
      "outputs": []
    },
    {
      "cell_type": "markdown",
      "metadata": {
        "id": "cDJdDqcJgfq0",
        "colab_type": "text"
      },
      "source": [
        "## 16.5 Factorial Zeroes"
      ]
    },
    {
      "cell_type": "code",
      "metadata": {
        "id": "a_aRYDOHgpEZ",
        "colab_type": "code",
        "colab": {}
      },
      "source": [
        ""
      ],
      "execution_count": 0,
      "outputs": []
    },
    {
      "cell_type": "markdown",
      "metadata": {
        "id": "8q7IqakPgsPF",
        "colab_type": "text"
      },
      "source": [
        "## 16.6 Smallest Difference"
      ]
    },
    {
      "cell_type": "code",
      "metadata": {
        "id": "hsKG36elg0kJ",
        "colab_type": "code",
        "colab": {}
      },
      "source": [
        ""
      ],
      "execution_count": 0,
      "outputs": []
    },
    {
      "cell_type": "markdown",
      "metadata": {
        "id": "gfYvKGctg1bS",
        "colab_type": "text"
      },
      "source": [
        "## 16.7 Number Max"
      ]
    },
    {
      "cell_type": "code",
      "metadata": {
        "id": "-FTI6yakg6Va",
        "colab_type": "code",
        "colab": {}
      },
      "source": [
        ""
      ],
      "execution_count": 0,
      "outputs": []
    },
    {
      "cell_type": "markdown",
      "metadata": {
        "id": "KJmlI3Eqg5Vj",
        "colab_type": "text"
      },
      "source": [
        "## 16.8 English Int"
      ]
    },
    {
      "cell_type": "code",
      "metadata": {
        "id": "KMhQpO6Tg_TC",
        "colab_type": "code",
        "colab": {}
      },
      "source": [
        ""
      ],
      "execution_count": 0,
      "outputs": []
    },
    {
      "cell_type": "markdown",
      "metadata": {
        "id": "JwTjf8_mg_xy",
        "colab_type": "text"
      },
      "source": [
        "## 16.9 Operations"
      ]
    },
    {
      "cell_type": "code",
      "metadata": {
        "id": "KHQYKHtxhD38",
        "colab_type": "code",
        "colab": {}
      },
      "source": [
        ""
      ],
      "execution_count": 0,
      "outputs": []
    },
    {
      "cell_type": "markdown",
      "metadata": {
        "id": "ayCK3agzhEw0",
        "colab_type": "text"
      },
      "source": [
        "## 16.10 Living People"
      ]
    },
    {
      "cell_type": "code",
      "metadata": {
        "id": "mfJ0yliDhKy8",
        "colab_type": "code",
        "colab": {}
      },
      "source": [
        ""
      ],
      "execution_count": 0,
      "outputs": []
    },
    {
      "cell_type": "markdown",
      "metadata": {
        "id": "vPl1bXxshLt-",
        "colab_type": "text"
      },
      "source": [
        "## 16.11 Diving Board"
      ]
    },
    {
      "cell_type": "code",
      "metadata": {
        "id": "kHS9PeFshRjD",
        "colab_type": "code",
        "colab": {}
      },
      "source": [
        ""
      ],
      "execution_count": 0,
      "outputs": []
    },
    {
      "cell_type": "markdown",
      "metadata": {
        "id": "l55b6KPvhUoc",
        "colab_type": "text"
      },
      "source": [
        "## 16.12 XML Encoding"
      ]
    },
    {
      "cell_type": "code",
      "metadata": {
        "id": "NUIUAMg0haZZ",
        "colab_type": "code",
        "colab": {}
      },
      "source": [
        ""
      ],
      "execution_count": 0,
      "outputs": []
    },
    {
      "cell_type": "markdown",
      "metadata": {
        "id": "6P9CaCspha7s",
        "colab_type": "text"
      },
      "source": [
        "## 16.13 Bisect Squares"
      ]
    },
    {
      "cell_type": "code",
      "metadata": {
        "id": "xM93qlYwhinB",
        "colab_type": "code",
        "colab": {}
      },
      "source": [
        ""
      ],
      "execution_count": 0,
      "outputs": []
    },
    {
      "cell_type": "markdown",
      "metadata": {
        "id": "Lt914ZTChjCE",
        "colab_type": "text"
      },
      "source": [
        "## 16.14 Best Line"
      ]
    },
    {
      "cell_type": "code",
      "metadata": {
        "id": "zG8XUJvAhmyo",
        "colab_type": "code",
        "colab": {}
      },
      "source": [
        ""
      ],
      "execution_count": 0,
      "outputs": []
    },
    {
      "cell_type": "markdown",
      "metadata": {
        "id": "A19tVGhzhnN3",
        "colab_type": "text"
      },
      "source": [
        "## 16.15 Master Mind"
      ]
    },
    {
      "cell_type": "code",
      "metadata": {
        "id": "6AdXEvhHhrNt",
        "colab_type": "code",
        "colab": {}
      },
      "source": [
        ""
      ],
      "execution_count": 0,
      "outputs": []
    },
    {
      "cell_type": "markdown",
      "metadata": {
        "id": "MoLYLkz3hw5X",
        "colab_type": "text"
      },
      "source": [
        "## 16.16 Sub Sort"
      ]
    },
    {
      "cell_type": "code",
      "metadata": {
        "id": "nm2O8-wlh006",
        "colab_type": "code",
        "colab": {}
      },
      "source": [
        ""
      ],
      "execution_count": 0,
      "outputs": []
    },
    {
      "cell_type": "markdown",
      "metadata": {
        "id": "zJkbIKvuh168",
        "colab_type": "text"
      },
      "source": [
        "## 16.17 Contigous Sequences"
      ]
    },
    {
      "cell_type": "code",
      "metadata": {
        "id": "LPUPlr-Th7Al",
        "colab_type": "code",
        "colab": {}
      },
      "source": [
        ""
      ],
      "execution_count": 0,
      "outputs": []
    },
    {
      "cell_type": "markdown",
      "metadata": {
        "id": "8Q74IDKXh7nZ",
        "colab_type": "text"
      },
      "source": [
        "## 16.18 Pattern Matching"
      ]
    },
    {
      "cell_type": "code",
      "metadata": {
        "id": "aj7NoUVGiABS",
        "colab_type": "code",
        "colab": {}
      },
      "source": [
        ""
      ],
      "execution_count": 0,
      "outputs": []
    },
    {
      "cell_type": "markdown",
      "metadata": {
        "id": "pLgQM3qwiAda",
        "colab_type": "text"
      },
      "source": [
        "## 16.19 Pond Sized"
      ]
    },
    {
      "cell_type": "code",
      "metadata": {
        "id": "akzJNgkkiFJG",
        "colab_type": "code",
        "colab": {}
      },
      "source": [
        ""
      ],
      "execution_count": 0,
      "outputs": []
    },
    {
      "cell_type": "markdown",
      "metadata": {
        "id": "_zZ1LwCxiGrP",
        "colab_type": "text"
      },
      "source": [
        "## 16.20 T9"
      ]
    },
    {
      "cell_type": "code",
      "metadata": {
        "id": "mAmFz-wkiP39",
        "colab_type": "code",
        "colab": {}
      },
      "source": [
        ""
      ],
      "execution_count": 0,
      "outputs": []
    },
    {
      "cell_type": "markdown",
      "metadata": {
        "id": "EYHBBm-ViVF3",
        "colab_type": "text"
      },
      "source": [
        "## 16.21 Sum Swap"
      ]
    },
    {
      "cell_type": "code",
      "metadata": {
        "id": "03-_y4g_iY3j",
        "colab_type": "code",
        "colab": {}
      },
      "source": [
        ""
      ],
      "execution_count": 0,
      "outputs": []
    },
    {
      "cell_type": "markdown",
      "metadata": {
        "id": "_HVNEH2gia4D",
        "colab_type": "text"
      },
      "source": [
        "## 16.22 Langton's Ant"
      ]
    },
    {
      "cell_type": "code",
      "metadata": {
        "id": "xo7smY6aigX4",
        "colab_type": "code",
        "colab": {}
      },
      "source": [
        ""
      ],
      "execution_count": 0,
      "outputs": []
    },
    {
      "cell_type": "markdown",
      "metadata": {
        "id": "NnLeJecsigyq",
        "colab_type": "text"
      },
      "source": [
        "## 16.23 Rand7 from Rand5"
      ]
    },
    {
      "cell_type": "code",
      "metadata": {
        "id": "fEdWT2SsioiH",
        "colab_type": "code",
        "colab": {}
      },
      "source": [
        ""
      ],
      "execution_count": 0,
      "outputs": []
    },
    {
      "cell_type": "markdown",
      "metadata": {
        "id": "mPz2g27ZiqkF",
        "colab_type": "text"
      },
      "source": [
        "## 16.24 Pairs with Sum"
      ]
    },
    {
      "cell_type": "code",
      "metadata": {
        "id": "RvRWtYt3iwhq",
        "colab_type": "code",
        "colab": {}
      },
      "source": [
        ""
      ],
      "execution_count": 0,
      "outputs": []
    },
    {
      "cell_type": "markdown",
      "metadata": {
        "id": "tIPfLJ2GiviO",
        "colab_type": "text"
      },
      "source": [
        "## 16.25 LRU Cache"
      ]
    },
    {
      "cell_type": "code",
      "metadata": {
        "id": "weeHU3Cvi1Ub",
        "colab_type": "code",
        "colab": {}
      },
      "source": [
        ""
      ],
      "execution_count": 0,
      "outputs": []
    },
    {
      "cell_type": "markdown",
      "metadata": {
        "id": "7tOU7XRzi132",
        "colab_type": "text"
      },
      "source": [
        "## 16.26 Calculator"
      ]
    },
    {
      "cell_type": "code",
      "metadata": {
        "id": "ukXG5uE7i8PM",
        "colab_type": "code",
        "colab": {}
      },
      "source": [
        ""
      ],
      "execution_count": 0,
      "outputs": []
    }
  ]
}