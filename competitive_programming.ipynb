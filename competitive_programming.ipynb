{
  "nbformat": 4,
  "nbformat_minor": 0,
  "metadata": {
    "colab": {
      "name": "Untitled0.ipynb",
      "provenance": [],
      "toc_visible": true,
      "authorship_tag": "ABX9TyPI/jd5nu6xyfpCuBZ4eDBs",
      "include_colab_link": true
    },
    "kernelspec": {
      "name": "python3",
      "display_name": "Python 3"
    }
  },
  "cells": [
    {
      "cell_type": "markdown",
      "metadata": {
        "id": "view-in-github",
        "colab_type": "text"
      },
      "source": [
        "<a href=\"https://colab.research.google.com/github/mklippa/google-colabs/blob/master/competitive_programming.ipynb\" target=\"_parent\"><img src=\"https://colab.research.google.com/assets/colab-badge.svg\" alt=\"Open In Colab\"/></a>"
      ]
    },
    {
      "cell_type": "markdown",
      "metadata": {
        "id": "AYIPla1Zo4lo",
        "colab_type": "text"
      },
      "source": [
        "## Порождение подмножеств"
      ]
    },
    {
      "cell_type": "code",
      "metadata": {
        "id": "J5xkilw2hWRz",
        "colab_type": "code",
        "colab": {
          "base_uri": "https://localhost:8080/",
          "height": 155
        },
        "outputId": "de6cdc07-9187-4d24-a465-57a730d38030"
      },
      "source": [
        "subset = []\n",
        "n = 3\n",
        "\n",
        "def search(k):\n",
        "    # print(k)\n",
        "    if k == n+1:\n",
        "        print(subset)\n",
        "    else:\n",
        "        subset.append(k)\n",
        "        search(k+1)\n",
        "        subset.pop()\n",
        "        search(k+1)\n",
        "\n",
        "search(1)"
      ],
      "execution_count": null,
      "outputs": [
        {
          "output_type": "stream",
          "text": [
            "[1, 2, 3]\n",
            "[1, 2]\n",
            "[1, 3]\n",
            "[1]\n",
            "[2, 3]\n",
            "[2]\n",
            "[3]\n",
            "[]\n"
          ],
          "name": "stdout"
        }
      ]
    },
    {
      "cell_type": "markdown",
      "metadata": {
        "id": "KPkIYc00pDee",
        "colab_type": "text"
      },
      "source": [
        "## Порождение перестановок"
      ]
    },
    {
      "cell_type": "code",
      "metadata": {
        "id": "xCP9cnTtlNiQ",
        "colab_type": "code",
        "colab": {
          "base_uri": "https://localhost:8080/",
          "height": 121
        },
        "outputId": "a2b2d7a6-4e65-4b85-ec4a-03fadd724a64"
      },
      "source": [
        "permutation = []\n",
        "n = 3\n",
        "chosen = [False]*(n+1)\n",
        "\n",
        "def search():\n",
        "    if len(permutation) == n:\n",
        "        print(permutation)\n",
        "    else:\n",
        "        for i in range(1, n+1):\n",
        "            if chosen[i]:\n",
        "                continue\n",
        "            chosen[i] = True\n",
        "            permutation.append(i)\n",
        "            search()\n",
        "            chosen[i] = False\n",
        "            permutation.pop()\n",
        "\n",
        "search()"
      ],
      "execution_count": null,
      "outputs": [
        {
          "output_type": "stream",
          "text": [
            "[1, 2, 3]\n",
            "[1, 3, 2]\n",
            "[2, 1, 3]\n",
            "[2, 3, 1]\n",
            "[3, 1, 2]\n",
            "[3, 2, 1]\n"
          ],
          "name": "stdout"
        }
      ]
    },
    {
      "cell_type": "markdown",
      "metadata": {
        "id": "1zI2gomKpVSY",
        "colab_type": "text"
      },
      "source": [
        "## Перебор с  возвратом (расстановка ферзей)"
      ]
    },
    {
      "cell_type": "code",
      "metadata": {
        "id": "i9w-1XDWpXQ8",
        "colab_type": "code",
        "colab": {
          "base_uri": "https://localhost:8080/",
          "height": 35
        },
        "outputId": "d689f5ae-7530-4cac-b171-143b9ba75850"
      },
      "source": [
        "n = 4\n",
        "count = 0\n",
        "col = [0]*n\n",
        "diag1 = [0]*(n*2-1)\n",
        "diag2 = [0]*(n*2-1)\n",
        "\n",
        "def search(y):\n",
        "    global count\n",
        "    if y == n:\n",
        "        count += 1\n",
        "        # return\n",
        "    else:\n",
        "        for x in range(n):\n",
        "            if col[x] or diag1[x+y] or diag2[x-y+n-1]:\n",
        "                continue\n",
        "            col[x] = diag1[x+y] = diag2[x-y+n-1] = 1\n",
        "            search(y+1)\n",
        "            col[x] = diag1[x+y] = diag2[x-y+n-1] = 0\n",
        "\n",
        "search(0)\n",
        "print(count)"
      ],
      "execution_count": null,
      "outputs": [
        {
          "output_type": "stream",
          "text": [
            "2\n"
          ],
          "name": "stdout"
        }
      ]
    },
    {
      "cell_type": "markdown",
      "metadata": {
        "id": "lSqQhYbniVTm",
        "colab_type": "text"
      },
      "source": [
        "## Поразрядные операции"
      ]
    },
    {
      "cell_type": "code",
      "metadata": {
        "id": "5dwluNFzics7",
        "colab_type": "code",
        "colab": {
          "base_uri": "https://localhost:8080/",
          "height": 104
        },
        "outputId": "8fe5d184-f2ec-40ed-b1ca-073ed3bdb043"
      },
      "source": [
        "x = 29\n",
        "print(~x)\n",
        "print(-x-1)\n",
        "print(~x == -x-1)\n",
        "\n",
        "# является степенью двойки\n",
        "x = 15\n",
        "print(\"15 степень двойки?\", x & (x - 1)  == 0)\n",
        "x = 256\n",
        "print(\"256 степень двойки?\", x & (x - 1)  == 0)\n"
      ],
      "execution_count": null,
      "outputs": [
        {
          "output_type": "stream",
          "text": [
            "-30\n",
            "-30\n",
            "True\n",
            "15 степень двойки? False\n",
            "256 степень двойки? True\n"
          ],
          "name": "stdout"
        }
      ]
    },
    {
      "cell_type": "markdown",
      "metadata": {
        "id": "2d20cW7ikKeS",
        "colab_type": "text"
      },
      "source": [
        "## Представление множеств"
      ]
    },
    {
      "cell_type": "code",
      "metadata": {
        "id": "78W8xotVkOgd",
        "colab_type": "code",
        "colab": {
          "base_uri": "https://localhost:8080/",
          "height": 639
        },
        "outputId": "b4ca174c-72ef-4488-ffca-3ea1519299ea"
      },
      "source": [
        "# Добавление элементов в подмножество\n",
        "# {1, 3, 4, 8}\n",
        "x = 0\n",
        "x |= 1<<1\n",
        "x |= 1<<3\n",
        "x |= 1<<4\n",
        "x |= 1<<8\n",
        "print(bin(x).count(\"1\"))\n",
        "\n",
        "# Распечатать все элементы принадлежащие подмножеству\n",
        "def display(subset):\n",
        "    for i in range(32):\n",
        "        if subset & (1 << i):\n",
        "            print(i, end=\" \")\n",
        "    print()\n",
        "display(x)\n",
        "print()\n",
        "\n",
        "# Операции над множествами\n",
        "# x = {1, 3, 4, 8}\n",
        "# y = {3, 6, 8, 9}\n",
        "# z = x ∪ y = {1, 3, 4, 6, 8, 9}\n",
        "x = (1<<1)|(1<<3)|(1<<4)|(1<<8)\n",
        "y = (1<<3)|(1<<6)|(1<<8)|(1<<9)\n",
        "print(\"Объединение: z = x ∪ y =\", end=\" \")\n",
        "display(x | y)\n",
        "\n",
        "print(\"Пересечение: z = x ∩ y =\", end=\" \")\n",
        "display(x & y)\n",
        "\n",
        "print(\"Дополнение: z = ~a =\", end=\" \")\n",
        "display(~x)\n",
        "\n",
        "print(\"Разность: z = x \\ y =\", end=\" \")\n",
        "display(x & (~y))\n",
        "\n",
        "n = 3\n",
        "# Подмножества множества {0, 1, …,  n−1}\n",
        "for b in range(1<<n):\n",
        "    display(b)\n",
        "print()\n",
        "\n",
        "# Подмножества, содержащие ровно k элементов\n",
        "k = 2\n",
        "for b in range(1<<n):\n",
        "    if bin(b).count(\"1\") == k:\n",
        "        display(b)\n",
        "print()\n",
        "\n",
        "# Все подмножества множества x:\n",
        "b = 0\n",
        "while True:\n",
        "    display(b)\n",
        "    b = (b-x)&x\n",
        "    if not b: break\n",
        "print()"
      ],
      "execution_count": null,
      "outputs": [
        {
          "output_type": "stream",
          "text": [
            "4\n",
            "1 3 4 8 \n",
            "\n",
            "Объединение: z = x ∪ y = 1 3 4 6 8 9 \n",
            "Пересечение: z = x ∩ y = 3 8 \n",
            "Дополнение: z = ~a = 0 2 5 6 7 9 10 11 12 13 14 15 16 17 18 19 20 21 22 23 24 25 26 27 28 29 30 31 \n",
            "Разность: z = x \\ y = 1 4 \n",
            "\n",
            "0 \n",
            "1 \n",
            "0 1 \n",
            "2 \n",
            "0 2 \n",
            "1 2 \n",
            "0 1 2 \n",
            "\n",
            "0 1 \n",
            "0 2 \n",
            "1 2 \n",
            "\n",
            "\n",
            "1 \n",
            "3 \n",
            "1 3 \n",
            "4 \n",
            "1 4 \n",
            "3 4 \n",
            "1 3 4 \n",
            "8 \n",
            "1 8 \n",
            "3 8 \n",
            "1 3 8 \n",
            "4 8 \n",
            "1 4 8 \n",
            "3 4 8 \n",
            "1 3 4 8 \n"
          ],
          "name": "stdout"
        }
      ]
    },
    {
      "cell_type": "markdown",
      "metadata": {
        "id": "uIcfXG0_oJqb",
        "colab_type": "text"
      },
      "source": [
        "## Эффективность"
      ]
    },
    {
      "cell_type": "code",
      "metadata": {
        "id": "x_QNXovJoJHH",
        "colab_type": "code",
        "colab": {
          "base_uri": "https://localhost:8080/",
          "height": 155
        },
        "outputId": "de058f17-ea1f-470e-9333-4fba806eb762"
      },
      "source": [
        "# Максимальная сумма подмассивов\n",
        "array = [-1, 2, 4, -3, 5, 2, -5, 2]\n",
        "best = summ = 0\n",
        "for i in range(len(array)):\n",
        "    summ = max(array[i], summ+array[i])\n",
        "    best = max(best, summ)\n",
        "print(\"Подмассивом с максимальной суммой является [2,4,–3,5,2]. Его сумма равна\", best)\n",
        "\n",
        "# Задача о двух ферзях (n - размер доски)\n",
        "def solve1(n):\n",
        "    if n == 0:\n",
        "        return 0\n",
        "    return solve1(n-1) + 2 * ((n-1)**2) * (n-2)\n",
        "print(solve1(3))\n",
        "print(solve1(4))\n",
        "print(solve1(5))\n",
        "print()\n",
        "\n",
        "def solve2(n):\n",
        "    return int(round((n**4)/2 - 5*(n**3)/3 + 3*(n**2)/2 - n/3))\n",
        "print(solve2(3))\n",
        "print(solve2(4))\n",
        "print(solve2(5))"
      ],
      "execution_count": null,
      "outputs": [
        {
          "output_type": "stream",
          "text": [
            "Подмассивом с максимальной суммой является [2,4,–3,5,2]. Его сумма равна 10\n",
            "8\n",
            "44\n",
            "140\n",
            "\n",
            "8\n",
            "44\n",
            "140\n"
          ],
          "name": "stdout"
        }
      ]
    },
    {
      "cell_type": "markdown",
      "metadata": {
        "id": "MWYI5VxeyORn",
        "colab_type": "text"
      },
      "source": [
        "## Сортировка"
      ]
    },
    {
      "cell_type": "code",
      "metadata": {
        "id": "XRyFG4mgyRwI",
        "colab_type": "code",
        "colab": {
          "base_uri": "https://localhost:8080/",
          "height": 69
        },
        "outputId": "4ba57028-dbbf-4d3d-b1d7-c1465add1544"
      },
      "source": [
        "# Пузырьковая сортировка\n",
        "arr = [1, 3, 8, 2, 9, 2, 5, 6]\n",
        "n = len(arr)\n",
        "\n",
        "for i in range(n):\n",
        "    for j in range(n-1):\n",
        "        if arr[j] > arr[j+1]:\n",
        "            arr[j], arr[j+1] = arr[j+1], arr[j]\n",
        "print(arr)\n",
        "\n",
        "# Сортировка подсчетом\n",
        "arr = [1, 3, 8, 2, 9, 2, 5, 6]\n",
        "maxv = max(arr)\n",
        "count = [0]*(maxv+1)\n",
        "for a in arr:\n",
        "    count[a] += 1\n",
        "print(\"count:\", count)\n",
        "print(\"res:\", end=\" \")\n",
        "res = []\n",
        "for i, x in enumerate(count):\n",
        "    for j in range(x):\n",
        "        res.append(i)\n",
        "print(res)"
      ],
      "execution_count": null,
      "outputs": [
        {
          "output_type": "stream",
          "text": [
            "[1, 2, 2, 3, 5, 6, 8, 9]\n",
            "count: [0, 1, 2, 1, 0, 1, 1, 0, 1, 1]\n",
            "res: [1, 2, 2, 3, 5, 6, 8, 9]\n"
          ],
          "name": "stdout"
        }
      ]
    },
    {
      "cell_type": "markdown",
      "metadata": {
        "id": "EBzBmONjcXG_",
        "colab_type": "text"
      },
      "source": [
        "## Алгоритмы заметающей прямой (Sweep line algorithm)"
      ]
    },
    {
      "cell_type": "code",
      "metadata": {
        "id": "O-ibZZgFcY19",
        "colab_type": "code",
        "colab": {
          "base_uri": "https://localhost:8080/",
          "height": 35
        },
        "outputId": "850db67d-d561-4d15-b24e-8da1e7c0171a"
      },
      "source": [
        "# Пусть имеется ресторан, и мы знаем время прихода и ухода всех клиентов в течение дня. \n",
        "# Задача состоит в том, чтобы найти максимальное число клиентов, \n",
        "# находившихся в ресторане одновременно\n",
        "A = (6, 13)\n",
        "B = (2, 8)\n",
        "C = (11, 14)\n",
        "D = (1, 9)\n",
        "client = [A, B, C, D]\n",
        "client.sort()\n",
        "\n",
        "ans = 0\n",
        "count = 0\n",
        "out = []\n",
        "while client:\n",
        "    curr_in, curr_out = client.pop(0)\n",
        "    while out and out[0] < curr_in:\n",
        "        out.pop(0)\n",
        "        count -= 1\n",
        "    count += 1\n",
        "    ans = max(ans, count)\n",
        "    out.append(curr_out)\n",
        "ans\n"
      ],
      "execution_count": null,
      "outputs": [
        {
          "output_type": "execute_result",
          "data": {
            "text/plain": [
              "3"
            ]
          },
          "metadata": {
            "tags": []
          },
          "execution_count": 3
        }
      ]
    },
    {
      "cell_type": "markdown",
      "metadata": {
        "id": "EnsUXm5AKAjm",
        "colab_type": "text"
      },
      "source": [
        "## Составление расписания"
      ]
    },
    {
      "cell_type": "code",
      "metadata": {
        "id": "DsxpvfzzKC67",
        "colab_type": "code",
        "colab": {
          "base_uri": "https://localhost:8080/",
          "height": 52
        },
        "outputId": "e8a0e718-d6e5-4438-da2b-a7581cbe2201"
      },
      "source": [
        "# n событий заданы моментами начала и конца, требуется составить расписание, \n",
        "# включающее как можно больше событий.\n",
        "A = (1, 5)\n",
        "B = (2, 8)\n",
        "C = (5, 14)\n",
        "D = (10, 13)\n",
        "\n",
        "event = sorted([A, B, C, D], key=lambda x: x[1])\n",
        "print(\"sorted:\", event)\n",
        "schedule = [event[0]]\n",
        "i = 1\n",
        "while True:\n",
        "    while i < len(event) and event[i][0] < schedule[-1][1]:\n",
        "        i += 1\n",
        "    if i == len(event):\n",
        "        break\n",
        "    schedule.append(event[i])\n",
        "print(\"ans:\", schedule)"
      ],
      "execution_count": null,
      "outputs": [
        {
          "output_type": "stream",
          "text": [
            "sorted: [(1, 5), (2, 8), (10, 13), (5, 14)]\n",
            "ans: [(1, 5), (10, 13)]\n"
          ],
          "name": "stdout"
        }
      ]
    },
    {
      "cell_type": "markdown",
      "metadata": {
        "id": "RIYpGkBpOtMy",
        "colab_type": "text"
      },
      "source": [
        "## Работы и сроки исполнения"
      ]
    },
    {
      "cell_type": "code",
      "metadata": {
        "id": "yBV8Lk8HOsT4",
        "colab_type": "code",
        "colab": {
          "base_uri": "https://localhost:8080/",
          "height": 35
        },
        "outputId": "8b04e563-8bde-4045-cf4c-9e266258721d"
      },
      "source": [
        "\"\"\"\n",
        "Дано n работ и для каждой указаны продолжительность и крайний срок. \n",
        "Наша задача – выбрать порядок выполнения работ. \n",
        "Для каждой работы нам начисляется (d – x) баллов, \n",
        "где d – крайний срок исполнения работы, \n",
        "а x – момент ее фактического завершения. \n",
        "Какое максимальное число баллов мы можем заработать?\n",
        "\"\"\"\n",
        "A = (4, 2) # duration, deadline\n",
        "B = (3, 10)\n",
        "C = (2, 8)\n",
        "D = (4, 15)\n",
        "jobs = sorted([A, B, C, D])\n",
        "start = 0\n",
        "income = 0\n",
        "for job in jobs:\n",
        "    income += job[1] - job[0] - start \n",
        "    start += job[0]\n",
        "income\n"
      ],
      "execution_count": null,
      "outputs": [
        {
          "output_type": "execute_result",
          "data": {
            "text/plain": [
              "6"
            ]
          },
          "metadata": {
            "tags": []
          },
          "execution_count": 17
        }
      ]
    },
    {
      "cell_type": "markdown",
      "metadata": {
        "id": "cM9pFQ7ZkwNg",
        "colab_type": "text"
      },
      "source": [
        "## Двоичный поиск"
      ]
    },
    {
      "cell_type": "code",
      "metadata": {
        "id": "Wgxlxrnak0VW",
        "colab_type": "code",
        "colab": {
          "base_uri": "https://localhost:8080/",
          "height": 52
        },
        "outputId": "b6216652-f67e-49a8-e730-ccf8e9876b3a"
      },
      "source": [
        "arr = [0,1,2,3,4,5,6,7,8,9]\n",
        "x = 7\n",
        "\n",
        "# traditional\n",
        "l = 0\n",
        "r = len(arr)-1\n",
        "while l <= r:\n",
        "    mid = (l+r)//2\n",
        "    if x == arr[mid]:\n",
        "        print(\"traditional\", arr[mid])\n",
        "        break\n",
        "    elif x < arr[mid]:\n",
        "        r = mid-1\n",
        "    else:\n",
        "        l = mid+1\n",
        "\n",
        "# jumping\n",
        "i = 0\n",
        "step = len(arr) // 2\n",
        "while step >= 1:\n",
        "    while i + step < len(arr) and arr[i+step] <= x:\n",
        "        i += step\n",
        "    step //= 2\n",
        "if arr[i] == x:\n",
        "    print(\"jumping:\", arr[i])\n"
      ],
      "execution_count": null,
      "outputs": [
        {
          "output_type": "stream",
          "text": [
            "traditional 7\n",
            "jumping: 7\n"
          ],
          "name": "stdout"
        }
      ]
    },
    {
      "cell_type": "code",
      "metadata": {
        "id": "8hCOQN2-gqM9",
        "colab_type": "code",
        "colab": {
          "base_uri": "https://localhost:8080/",
          "height": 35
        },
        "outputId": "7f324426-4086-4060-ab97-2c12649457e0"
      },
      "source": [
        "\"\"\"\n",
        "Нужно выполнить k заданий на n машинах. \n",
        "Каждой машине i сопоставлено целое число pi – время выполнения одного задания. \n",
        "За какое минимальное время можно обработать все задания?\n",
        "\"\"\"\n",
        "k = 8\n",
        "n = 3\n",
        "p1 = 2\n",
        "p2 = 3\n",
        "p3 = 7\n",
        "\n",
        "def valid(x):\n",
        "    summ = 0\n",
        "    for p in [p1, p2, p3]:\n",
        "        summ += x//p\n",
        "    return summ >= k\n",
        "\n",
        "x = 1\n",
        "b = k * p1\n",
        "while b >= 1:\n",
        "    if not valid(x+b):\n",
        "        x += b\n",
        "    b //= 2\n",
        "print(x+1)"
      ],
      "execution_count": null,
      "outputs": [
        {
          "output_type": "stream",
          "text": [
            "9\n"
          ],
          "name": "stdout"
        }
      ]
    },
    {
      "cell_type": "markdown",
      "metadata": {
        "id": "l_7pX6WzyvKc",
        "colab_type": "text"
      },
      "source": [
        "## Динамическое программирование"
      ]
    },
    {
      "cell_type": "code",
      "metadata": {
        "id": "C7a8K92HyzJ_",
        "colab_type": "code",
        "colab": {
          "base_uri": "https://localhost:8080/",
          "height": 242
        },
        "outputId": "97ea4944-0d1a-45de-be43-4b4669b7c3ca"
      },
      "source": [
        "\"\"\"\n",
        "Пусть имеется множество номиналов монет coins = {c1, c2, …, ck} и денежная сумма n. \n",
        "Задача заключается в том, чтобы разменять сумму n, использовав  как  можно  меньше  монет.\n",
        "\"\"\"\n",
        "coins = [1,3,4]\n",
        "\n",
        "# recursion\n",
        "def solve(x):\n",
        "    if x < 0:\n",
        "        return float('inf')\n",
        "    if x == 0:\n",
        "        return 0\n",
        "    best = float('inf')\n",
        "    for c in coins:\n",
        "        best = min(best, solve(x-c)+1)\n",
        "    return best\n",
        "\n",
        "print(\"Recursion:\")\n",
        "print(\"n = 6 ans =\", solve(6))\n",
        "print(\"n = 10 ans =\", solve(10))\n",
        "\n",
        "# memoization\n",
        "ready = [0]*20\n",
        "value = [0]*20\n",
        "def solve(x):\n",
        "    if x < 0:\n",
        "        return float('inf')\n",
        "    if x == 0:\n",
        "        return 0\n",
        "    if ready[x]:\n",
        "        return value[x]\n",
        "    best = float('inf')\n",
        "    for c in coins:\n",
        "        best = min(best, solve(x-c)+1)\n",
        "    ready[x] = 1\n",
        "    value[x] = best\n",
        "    return best\n",
        "print(\"\\nMemoization:\")\n",
        "print(\"n = 6 ans =\", solve(6))\n",
        "print(\"n = 10 ans =\", solve(10))\n",
        "\n",
        "# iterative\n",
        "n = 10\n",
        "value = [0] * 20\n",
        "for x in range(1, n+1):\n",
        "    value[x] = float('inf')\n",
        "    for c in coins:\n",
        "        if x-c >= 0:\n",
        "            value[x] = min(value[x], value[x-c]+1)\n",
        "print(\"\\nIterative:\")\n",
        "print(\"n =\", n, \"ans =\", solve(n))\n",
        "\n",
        "# build solution\n",
        "n = 10\n",
        "value = [0] * (n+1)\n",
        "first = [0] * (n+1)\n",
        "for x in range(1, n+1):\n",
        "    value[x] = float('inf')\n",
        "    for c in coins:\n",
        "        if x-c >= 0 and value[x-c]+1 < value[x]:\n",
        "            value[x] = value[x-c]+1\n",
        "            first[x] = c\n",
        "print(\"\\nBuild solution:\")\n",
        "while n > 0:\n",
        "    print(first[n], end=\" \")\n",
        "    n -= first[n]\n",
        "print()"
      ],
      "execution_count": null,
      "outputs": [
        {
          "output_type": "stream",
          "text": [
            "Recursion:\n",
            "n = 6 ans = 2\n",
            "n = 10 ans = 3\n",
            "\n",
            "Memoization:\n",
            "n = 6 ans = 2\n",
            "n = 10 ans = 3\n",
            "\n",
            "Iterative:\n",
            "n = 10 ans = 3\n",
            "\n",
            "Build solution:\n",
            "3 3 4 \n"
          ],
          "name": "stdout"
        }
      ]
    },
    {
      "cell_type": "code",
      "metadata": {
        "id": "36utuebhAnJc",
        "colab_type": "code",
        "colab": {
          "base_uri": "https://localhost:8080/",
          "height": 35
        },
        "outputId": "41bf8e83-b100-4d01-d596-3ac649aad91f"
      },
      "source": [
        "\"\"\"\n",
        "Требуется найти, сколькими способами можно разменять сумму x монетами заданных номиналов.\n",
        "\"\"\"\n",
        "coins = [1, 3, 4]\n",
        "n = 5\n",
        "\n",
        "count = [0] * (n+1)\n",
        "count[0] = 1\n",
        "for x in range(1, n+1):\n",
        "    for c in coins:\n",
        "        if x-c >= 0:\n",
        "            count[x] += count[x-c]\n",
        "count[n]"
      ],
      "execution_count": null,
      "outputs": [
        {
          "output_type": "execute_result",
          "data": {
            "text/plain": [
              "6"
            ]
          },
          "metadata": {
            "tags": []
          },
          "execution_count": 34
        }
      ]
    },
    {
      "cell_type": "markdown",
      "metadata": {
        "id": "tAD0gDQWsKaw",
        "colab_type": "text"
      },
      "source": [
        "Наибольшая возрастающая подпоследовательность"
      ]
    },
    {
      "cell_type": "code",
      "metadata": {
        "id": "0WPo10tesLn1",
        "colab_type": "code",
        "colab": {
          "base_uri": "https://localhost:8080/",
          "height": 52
        },
        "outputId": "0ac08d0a-66ca-4b91-d428-fbd7c2fcbb82"
      },
      "source": [
        "arr = [6, 2, 5, 1, 7, 4, 8, 3]\n",
        "n = len(arr)\n",
        "length = [1]*n\n",
        "\n",
        "for k in range(n):\n",
        "    length[k] = 1\n",
        "    for i in range(k):\n",
        "        if arr[i] < arr[k]:\n",
        "            length[k] = max(length[k], length[i]+1)\n",
        "print(\"max length:\", max(length))\n",
        "print(length)\n"
      ],
      "execution_count": null,
      "outputs": [
        {
          "output_type": "stream",
          "text": [
            "max length: 4\n",
            "[1, 1, 2, 1, 3, 2, 4, 2]\n"
          ],
          "name": "stdout"
        }
      ]
    },
    {
      "cell_type": "markdown",
      "metadata": {
        "id": "sbOrauec2YSQ",
        "colab_type": "text"
      },
      "source": [
        "Пути на сетке"
      ]
    },
    {
      "cell_type": "code",
      "metadata": {
        "id": "4eeNNbrQ2ZZF",
        "colab_type": "code",
        "colab": {
          "base_uri": "https://localhost:8080/",
          "height": 35
        },
        "outputId": "6e7ea16b-7d6f-401c-a088-daa968ec1fd9"
      },
      "source": [
        "grid = [\n",
        "    [3,7,9,2,7],\n",
        "    [9,8,3,5,5],\n",
        "    [1,7,9,8,5],\n",
        "    [3,8,6,4,10],\n",
        "    [6,3,9,7,8]\n",
        "]\n",
        "summ = [[0]*(len(grid[0])+1) for _ in range(len(grid)+1)]\n",
        "\n",
        "for y in range(1, len(summ)):\n",
        "    for x in range(1, len(summ[y])):\n",
        "        summ[y][x] = max(summ[y-1][x], summ[y][x-1]) + grid[y-1][x-1]\n",
        "\n",
        "print(summ[-1][-1])"
      ],
      "execution_count": null,
      "outputs": [
        {
          "output_type": "stream",
          "text": [
            "67\n"
          ],
          "name": "stdout"
        }
      ]
    },
    {
      "cell_type": "markdown",
      "metadata": {
        "id": "jdgXQxye_FfF",
        "colab_type": "text"
      },
      "source": [
        "Задачи о рюкзаке"
      ]
    },
    {
      "cell_type": "code",
      "metadata": {
        "id": "h_s6iwtk_GZu",
        "colab_type": "code",
        "colab": {
          "base_uri": "https://localhost:8080/",
          "height": 52
        },
        "outputId": "372ada45-925d-420c-c794-90a6e9fec48f"
      },
      "source": [
        "\"\"\"\n",
        "Дан список весов [w1, w2, …, wn], требуется найти все суммы, \n",
        "которые можно получить сложением  весов.\n",
        "\"\"\"\n",
        "\n",
        "weight = [0,1,3,3,5]\n",
        "n = sum(weight)+1\n",
        "m = len(weight)\n",
        "\n",
        "# two-dimensional\n",
        "possible = [[False]*m for _ in range(n)]\n",
        "possible[0][0] = True\n",
        "for k in range(1, m):\n",
        "    for x in range(n):\n",
        "        if x-weight[k] >= 0:\n",
        "            possible[x][k] |= possible[x-weight[k]][k-1]\n",
        "        possible[x][k] |= possible[x][k-1]\n",
        "\n",
        "for i in range(n):\n",
        "    print(i, \"-\", possible[i][-1], end=\", \")\n",
        "print()\n",
        "\n",
        "# one-dimensional\n",
        "possible = [False]*n\n",
        "possible[0] = True\n",
        "for k in range(1, m):\n",
        "    for x in range(n-weight[k]-1,-1,-1):\n",
        "        possible[x+weight[k]] |= possible[x]\n",
        "\n",
        "for i in range(n):\n",
        "    print(i, \"-\", possible[i], end=\", \")\n",
        "print()"
      ],
      "execution_count": null,
      "outputs": [
        {
          "output_type": "stream",
          "text": [
            "0 - True, 1 - True, 2 - False, 3 - True, 4 - True, 5 - True, 6 - True, 7 - True, 8 - True, 9 - True, 10 - False, 11 - True, 12 - True, \n",
            "0 - True, 1 - True, 2 - False, 3 - True, 4 - True, 5 - True, 6 - True, 7 - True, 8 - True, 9 - True, 10 - False, 11 - True, 12 - True, \n"
          ],
          "name": "stdout"
        }
      ]
    },
    {
      "cell_type": "code",
      "metadata": {
        "id": "Vdrye5vTZ88D",
        "colab_type": "code",
        "colab": {
          "base_uri": "https://localhost:8080/",
          "height": 35
        },
        "outputId": "632c929d-85ab-4878-c8ab-3a8e22ea7766"
      },
      "source": [
        "\"\"\"\n",
        "Имеется лифт с максимальной грузоподъемностью x и n человек,\n",
        "желающих подняться с первого на последний этаж. Пассажиры пронумерованы от 0 до n-1,\n",
        "вес i-го пассажира равен weight[i]. \n",
        "За какое минимальное количество поездок удастся перевезти всех на верхний этаж?\n",
        "\"\"\"\n",
        "x = 12\n",
        "n = 5\n",
        "weight = [0]*n\n",
        "\n",
        "weight[0] = 2\n",
        "weight[1] = 3\n",
        "weight[2] = 4\n",
        "weight[3] = 5\n",
        "weight[4] = 9\n",
        "\n",
        "best = [None for _ in range(1<<n)]\n",
        "best[0] = (0,0)\n",
        "for s in range(1, 1<<n):\n",
        "    best[s] = (n+1, 0)\n",
        "    for p in range(n):\n",
        "        if s & (1<<p):\n",
        "            option = list(best[s ^ (1<<p)])\n",
        "            if option[1] + weight[p] <= x:\n",
        "                option[1] += weight[p]\n",
        "            else:\n",
        "                option[0] += 1\n",
        "                option[1] = weight[p]\n",
        "            best[s] = min(best[s], tuple(option))\n",
        "print(best[-1][0]+1)"
      ],
      "execution_count": null,
      "outputs": [
        {
          "output_type": "stream",
          "text": [
            "2\n"
          ],
          "name": "stdout"
        }
      ]
    },
    {
      "cell_type": "markdown",
      "metadata": {
        "id": "zpJ5shQAxdfC",
        "colab_type": "text"
      },
      "source": [
        "## Алгоритмы на графах"
      ]
    },
    {
      "cell_type": "markdown",
      "metadata": {
        "id": "5YPmQr-ZxgCs",
        "colab_type": "text"
      },
      "source": [
        "DFS"
      ]
    },
    {
      "cell_type": "code",
      "metadata": {
        "id": "ypRN7llaxhZ7",
        "colab_type": "code",
        "colab": {
          "base_uri": "https://localhost:8080/",
          "height": 35
        },
        "outputId": "4e162bcc-630d-414f-e0de-265e0e0497db"
      },
      "source": [
        "graph = {}\n",
        "graph[1] = [2,4]\n",
        "graph[2] = [1,3,5]\n",
        "graph[3] = [2,5]\n",
        "graph[4] = [1]\n",
        "graph[5] = [2,3]\n",
        "\n",
        "visited = set()\n",
        "def dfs(node):\n",
        "    if node in visited:\n",
        "        return\n",
        "    visited.add(node)\n",
        "    print(node, end=\" \")\n",
        "    for neigh in graph[node]:\n",
        "        dfs(neigh)\n",
        "dfs(1)"
      ],
      "execution_count": null,
      "outputs": [
        {
          "output_type": "stream",
          "text": [
            "1 2 3 5 4 "
          ],
          "name": "stdout"
        }
      ]
    },
    {
      "cell_type": "markdown",
      "metadata": {
        "id": "iOK9-y-d6-D9",
        "colab_type": "text"
      },
      "source": [
        "BFS"
      ]
    },
    {
      "cell_type": "code",
      "metadata": {
        "id": "pZaxHYKN6_MN",
        "colab_type": "code",
        "colab": {
          "base_uri": "https://localhost:8080/",
          "height": 52
        },
        "outputId": "58affbf1-87fc-44f6-ad36-bc4b41e4e981"
      },
      "source": [
        "graph = {}\n",
        "graph[1] = [2,4]\n",
        "graph[2] = [1,3,5]\n",
        "graph[3] = [2,6]\n",
        "graph[4] = [1]\n",
        "graph[5] = [2,6]\n",
        "graph[6] = [3,5]\n",
        "\n",
        "visited = {1}\n",
        "distance = {1:0}\n",
        "queue = [1]\n",
        "while queue:\n",
        "    s = queue.pop(0)\n",
        "    print(s, end=\" \")\n",
        "    for u in graph[s]:\n",
        "        if u in visited:\n",
        "            continue\n",
        "        visited.add(u)\n",
        "        distance[u] = distance[s]+1\n",
        "        queue.append(u)\n",
        "print()\n",
        "print(distance) "
      ],
      "execution_count": null,
      "outputs": [
        {
          "output_type": "stream",
          "text": [
            "1 2 4 3 5 6 \n",
            "{1: 0, 2: 1, 4: 1, 3: 2, 5: 2, 6: 3}\n"
          ],
          "name": "stdout"
        }
      ]
    },
    {
      "cell_type": "markdown",
      "metadata": {
        "id": "8YsOc5wup4jw",
        "colab_type": "text"
      },
      "source": [
        "## Кратчайшие пути"
      ]
    },
    {
      "cell_type": "markdown",
      "metadata": {
        "id": "QQ6UbC9Op6wG",
        "colab_type": "text"
      },
      "source": [
        "Алгоритм Беллмана–Форда (кратчайшие пути из начальной вершины во все вершины графа)"
      ]
    },
    {
      "cell_type": "code",
      "metadata": {
        "id": "jurfhAU8qCWN",
        "colab_type": "code",
        "colab": {
          "base_uri": "https://localhost:8080/",
          "height": 35
        },
        "outputId": "855d02b3-cae9-4482-d32d-2b2499771b52"
      },
      "source": [
        "from collections import defaultdict\n",
        "edges = [\n",
        "    (1,2,2),\n",
        "    (1,3,3),\n",
        "    (1,4,7),\n",
        "    # (2,1,2),\n",
        "    (2,4,3),\n",
        "    (2,5,5),\n",
        "    # (3,1,3),\n",
        "    (3,4,-2),\n",
        "    # (4,1,7),\n",
        "    # (4,2,3),\n",
        "    # (4,3,-2),\n",
        "    (4,5,2),\n",
        "    # (5,2,5),\n",
        "    # (5,4,2)\n",
        "]\n",
        "n = 5\n",
        "x = 1\n",
        "distance = defaultdict(lambda: float(\"inf\"))\n",
        "distance[x] = 0\n",
        "for _ in range(1, n):\n",
        "    for a, b, w in edges:\n",
        "        distance[b] = min(distance[b], distance[a]+w)\n",
        "print(dict(distance))"
      ],
      "execution_count": null,
      "outputs": [
        {
          "output_type": "stream",
          "text": [
            "{1: 0, 2: 2, 3: 3, 4: 1, 5: 3}\n"
          ],
          "name": "stdout"
        }
      ]
    },
    {
      "cell_type": "markdown",
      "metadata": {
        "id": "ckPUe5EFtYtW",
        "colab_type": "text"
      },
      "source": [
        "Алгоритм Дейкстры (кратчайшие пути из начальной вершины во все вершины графа)"
      ]
    },
    {
      "cell_type": "code",
      "metadata": {
        "id": "Ov76EnQ2tdly",
        "colab_type": "code",
        "colab": {
          "base_uri": "https://localhost:8080/",
          "height": 35
        },
        "outputId": "177f4910-5e34-47f4-fd09-a4cbe1739255"
      },
      "source": [
        "adj = {}\n",
        "adj[1] = [(2,5), (4,9), (5,1)]\n",
        "adj[2] = [(1,5), (3,2)]\n",
        "adj[3] = [(2,2), (4,6)]\n",
        "adj[4] = [(1,9), (3,6), (5,2)]\n",
        "adj[5] = [(1,1), (4,2)]\n",
        "\n",
        "from heapq import heappush as push, heappop as pop\n",
        "from collections import defaultdict\n",
        "\n",
        "q = []\n",
        "distance = defaultdict(lambda: float('inf'))\n",
        "processed = defaultdict(bool)\n",
        "x = 1\n",
        "distance[1] = 0\n",
        "push(q, (0, x))\n",
        "while q:\n",
        "    a = pop(q)[1]\n",
        "    if processed[a]:\n",
        "        continue\n",
        "    processed[a] = True\n",
        "    for b, w in adj[a]:\n",
        "        if distance[a] + w < distance[b]:\n",
        "            distance[b] = distance[a] + w\n",
        "            push(q, (distance[b], b))\n",
        "dict(distance)\n"
      ],
      "execution_count": null,
      "outputs": [
        {
          "output_type": "execute_result",
          "data": {
            "text/plain": [
              "{1: 0, 2: 5, 3: 7, 4: 3, 5: 1}"
            ]
          },
          "metadata": {
            "tags": []
          },
          "execution_count": 6
        }
      ]
    },
    {
      "cell_type": "markdown",
      "metadata": {
        "id": "CjRscR1EEQT9",
        "colab_type": "text"
      },
      "source": [
        "Алгоритм Флойда–Уоршелла (кратчайший путь между всеми парами вершин)"
      ]
    },
    {
      "cell_type": "code",
      "metadata": {
        "id": "Y9QWxqP7EZQM",
        "colab_type": "code",
        "colab": {
          "base_uri": "https://localhost:8080/",
          "height": 104
        },
        "outputId": "cd469c22-bae2-43d8-e972-77aedbe9d589"
      },
      "source": [
        "adj = [\n",
        "    [0, 5, 0, 9, 1],\n",
        "    [5, 0, 2, 0, 0],\n",
        "    [0, 2, 0, 7, 0],\n",
        "    [9, 0, 7, 0, 2],\n",
        "    [1, 0, 0, 2, 0]\n",
        "]\n",
        "n = len(adj)\n",
        "dist = [[0 for _ in range(n)] for _ in range(n)]\n",
        "\n",
        "for i in range(n):\n",
        "    for j in range(n):\n",
        "        if i == j:\n",
        "            dist[i][j] = 0\n",
        "        elif adj[i][j]:\n",
        "            dist[i][j] = adj[i][j]\n",
        "        else:\n",
        "            dist[i][j] = float(\"inf\")\n",
        "\n",
        "for k in range(n):\n",
        "    for i in range(n):\n",
        "        for j in range(n):\n",
        "            dist[i][j] = min(dist[i][j], dist[i][k]+dist[k][j])\n",
        "dist"
      ],
      "execution_count": null,
      "outputs": [
        {
          "output_type": "execute_result",
          "data": {
            "text/plain": [
              "[[0, 5, 7, 3, 1],\n",
              " [5, 0, 2, 8, 6],\n",
              " [7, 2, 0, 7, 8],\n",
              " [3, 8, 7, 0, 2],\n",
              " [1, 6, 8, 2, 0]]"
            ]
          },
          "metadata": {
            "tags": []
          },
          "execution_count": 8
        }
      ]
    },
    {
      "cell_type": "markdown",
      "metadata": {
        "id": "PErmhk_X69Ol",
        "colab_type": "text"
      },
      "source": [
        "## Топологичкская сортировка"
      ]
    },
    {
      "cell_type": "code",
      "metadata": {
        "id": "gx1kHtX37NK4",
        "colab_type": "code",
        "colab": {
          "base_uri": "https://localhost:8080/",
          "height": 35
        },
        "outputId": "ec99de15-d214-4cad-f652-188ba1e525b0"
      },
      "source": [
        "adj = {}\n",
        "adj[1] = [2]\n",
        "adj[2] = [3]\n",
        "adj[3] = [6]\n",
        "# adj[3] = [5,6] # cycle\n",
        "adj[4] = [1,5]\n",
        "adj[5] = [2,3]\n",
        "# adj[5] = [2] # cycle\n",
        "adj[6] = []\n",
        "\n",
        "ans = []\n",
        "def dfs(node):\n",
        "    if vertex[node] == 2:\n",
        "        return\n",
        "    if vertex[node] == 1:\n",
        "        raise Exception(\"Cycle\")\n",
        "    vertex[node] = 1\n",
        "    for n in adj[node]:\n",
        "        dfs(n)\n",
        "    ans.append(node)\n",
        "    vertex[node] = 2\n",
        "\n",
        "vertex = {i:0 for i in range(1,7)}\n",
        "for v in vertex:\n",
        "    dfs(v)\n",
        "ans.reverse()\n",
        "\n",
        "print(ans)\n",
        "    "
      ],
      "execution_count": null,
      "outputs": [
        {
          "output_type": "stream",
          "text": [
            "[4, 5, 1, 2, 3, 6]\n"
          ],
          "name": "stdout"
        }
      ]
    },
    {
      "cell_type": "markdown",
      "metadata": {
        "id": "npAOhEmOM9_a",
        "colab_type": "text"
      },
      "source": [
        "Динамическое программирование (в ориентированных ациклических графах)"
      ]
    },
    {
      "cell_type": "code",
      "metadata": {
        "id": "GSy-EgBZJ1D8",
        "colab_type": "code",
        "colab": {
          "base_uri": "https://localhost:8080/",
          "height": 35
        },
        "outputId": "5e4dd40b-d9d3-4225-f9a0-5148923184c2"
      },
      "source": [
        "# Вычислении количества путей из вершины a в вершину b\n",
        "adj[1] = [2,4]\n",
        "adj[2] = [3,6]\n",
        "adj[3] = [6]\n",
        "adj[4] = [5]\n",
        "adj[5] = [2]\n",
        "\n",
        "order = []\n",
        "def dfs(node):\n",
        "    if vertex[node] == 2:\n",
        "        return\n",
        "    if vertex[node] == 1:\n",
        "        raise Exception(\"Cycle\")\n",
        "    vertex[node] = 1\n",
        "    for n in adj[node]:\n",
        "        dfs(n)\n",
        "    order.append(node)\n",
        "    vertex[node] = 2\n",
        "\n",
        "vertex = {i:0 for i in range(1,7)}\n",
        "for v in vertex:\n",
        "    dfs(v)\n",
        "order.reverse()\n",
        "\n",
        "a = 1\n",
        "b = 6\n",
        "ans = [0]*7\n",
        "ans[a] = 1\n",
        "for i in order:\n",
        "    for j in adj[i]:\n",
        "        ans[j] += ans[i]\n",
        "print(ans, \"answer:\", ans[b])"
      ],
      "execution_count": null,
      "outputs": [
        {
          "output_type": "stream",
          "text": [
            "[0, 1, 2, 2, 1, 1, 4] answer: 4\n"
          ],
          "name": "stdout"
        }
      ]
    },
    {
      "cell_type": "markdown",
      "metadata": {
        "id": "_e7f-Q9ldthc",
        "colab_type": "text"
      },
      "source": [
        "Обработка кратчайших путей"
      ]
    },
    {
      "cell_type": "code",
      "metadata": {
        "id": "jvy6N_Dad6t7",
        "colab_type": "code",
        "colab": {
          "base_uri": "https://localhost:8080/",
          "height": 138
        },
        "outputId": "0ac31956-a7f8-4e70-ac57-c1a320c0c805"
      },
      "source": [
        "import heapq\n",
        "\n",
        "adj = {}\n",
        "adj[1] = [(2,3), (3,5)]\n",
        "adj[2] = [(1,3), (3,2), (4,4), (5,8)]\n",
        "adj[3] = [(1,5), (2,2), (4,2)]\n",
        "adj[4] = [(2,4), (3,2), (5,1)]\n",
        "adj[5] = [(2,8), (4,1)]\n",
        "n = 5\n",
        "x = 1\n",
        "\n",
        "processed = [False] * (n+1)\n",
        "distance = [float(\"inf\")] * (n+1)\n",
        "q = []\n",
        "\n",
        "distance[x] = 0\n",
        "heapq.heappush(q, (distance[x],x))\n",
        "while q:\n",
        "    _, a = heapq.heappop(q)\n",
        "    if processed[a]:\n",
        "        continue\n",
        "    processed[a] = True\n",
        "    for b, w in adj[a]:\n",
        "        if distance[a]+w < distance[b]:\n",
        "            distance[b] = distance[a]+w \n",
        "            heapq.heappush(q, (distance[b],b))\n",
        "print(distance)\n",
        "\n",
        "visited = set()\n",
        "def dfs(a):\n",
        "    if a in visited:\n",
        "        return\n",
        "    visited.add(a)\n",
        "    for b, w in adj[a]:\n",
        "        if distance[a]+w == distance[b]:\n",
        "            print(a,\"->\",b) \n",
        "            dfs(b)\n",
        "dfs(x)"
      ],
      "execution_count": null,
      "outputs": [
        {
          "output_type": "stream",
          "text": [
            "[inf, 0, 3, 5, 7, 8]\n",
            "1 -> 2\n",
            "2 -> 3\n",
            "3 -> 4\n",
            "4 -> 5\n",
            "2 -> 4\n",
            "1 -> 3\n"
          ],
          "name": "stdout"
        }
      ]
    },
    {
      "cell_type": "markdown",
      "metadata": {
        "id": "Ha-mLuNPktrA",
        "colab_type": "text"
      },
      "source": [
        "## Графы преемников"
      ]
    },
    {
      "cell_type": "markdown",
      "metadata": {
        "id": "z9fduKUqk645",
        "colab_type": "text"
      },
      "source": [
        "Нахождение преемников"
      ]
    },
    {
      "cell_type": "code",
      "metadata": {
        "id": "6A4E_9wyk6Gq",
        "colab_type": "code",
        "colab": {
          "base_uri": "https://localhost:8080/",
          "height": 51
        },
        "outputId": "b860393a-1349-4c97-b0ac-8d8fdf3a41bd"
      },
      "source": [
        "adj = {}\n",
        "graph = [None, 3, 5, 7, 6, 2, 2, 1, 6, 3]\n",
        "n = 9\n",
        "\n",
        "def succ(x):\n",
        "    return graph[x]\n",
        "\n",
        "def ksucc(x, k):\n",
        "    while k:\n",
        "        x = succ(x)\n",
        "        k -= 1\n",
        "    return x\n",
        "\n",
        "print(ksucc(4, 11))\n",
        "\n",
        "memo = []\n",
        "i = 0\n",
        "while (1 << i) < n:\n",
        "    row = [None]*(n+1)\n",
        "    k = 1 << i\n",
        "    for x in range(1, n+1):\n",
        "        row[x] = ksucc(x, k)\n",
        "    memo.append(row)\n",
        "    i += 1\n",
        "\n",
        "def ksucc(x, k):\n",
        "    v = []\n",
        "    while k:\n",
        "        v.append(k % 2)\n",
        "        k //= 2\n",
        "    \n",
        "    for i in range(len(v)-1, -1, -1):\n",
        "        if v[i]:\n",
        "            x = memo[i][x]\n",
        "\n",
        "    return x\n",
        "\n",
        "\n",
        "ksucc(4, 11)\n",
        "  "
      ],
      "execution_count": null,
      "outputs": [
        {
          "output_type": "stream",
          "text": [
            "5\n"
          ],
          "name": "stdout"
        },
        {
          "output_type": "execute_result",
          "data": {
            "text/plain": [
              "5"
            ]
          },
          "metadata": {
            "tags": []
          },
          "execution_count": 23
        }
      ]
    },
    {
      "cell_type": "markdown",
      "metadata": {
        "id": "4tjhTdRUa2kC",
        "colab_type": "text"
      },
      "source": [
        "Обнаружение циклов"
      ]
    },
    {
      "cell_type": "code",
      "metadata": {
        "id": "eA0rQnm-a3Vt",
        "colab_type": "code",
        "colab": {
          "base_uri": "https://localhost:8080/",
          "height": 51
        },
        "outputId": "87058a62-54e1-4618-d353-89d577458852"
      },
      "source": [
        "graph = [None, 2, 3, 4, 5, 6, 4]\n",
        "\n",
        "x = 1\n",
        "a = succ(x)\n",
        "b = succ(succ(1))\n",
        "while a != b:\n",
        "    a = succ(a)\n",
        "    b = succ(succ(b))\n",
        "\n",
        "a = x\n",
        "while a != b:\n",
        "    a = succ(a)\n",
        "    b = succ(b)\n",
        "first = a\n",
        "print(\"first:\", first)\n",
        "\n",
        "b = succ(a)\n",
        "length = 1\n",
        "while a != b:\n",
        "    b = succ(b)\n",
        "    length += 1\n",
        "print(\"length:\", length)"
      ],
      "execution_count": null,
      "outputs": [
        {
          "output_type": "stream",
          "text": [
            "first: 4\n",
            "length: 3\n"
          ],
          "name": "stdout"
        }
      ]
    },
    {
      "cell_type": "markdown",
      "metadata": {
        "id": "N3WprwteWu8Z",
        "colab_type": "text"
      },
      "source": [
        "## Минимальные остовные деревья"
      ]
    },
    {
      "cell_type": "markdown",
      "metadata": {
        "id": "BIZBeiUzWxOR",
        "colab_type": "text"
      },
      "source": [
        "Алгоритм Краскала"
      ]
    },
    {
      "cell_type": "code",
      "metadata": {
        "id": "aqg8O-xVWzVD",
        "colab_type": "code",
        "colab": {
          "base_uri": "https://localhost:8080/",
          "height": 102
        },
        "outputId": "14d7b9de-b211-4b24-e838-92b1ab03730f"
      },
      "source": [
        "graph = [\n",
        " (3, 1, 2),\n",
        " (5, 1, 5),\n",
        " (5, 2, 3),\n",
        " (6, 2, 5),\n",
        " (9, 3, 4),\n",
        " (3, 3, 6),\n",
        " (7, 4, 6),\n",
        " (2, 5, 6)\n",
        "]\n",
        "n = 6\n",
        "\n",
        "graph.sort()\n",
        "\n",
        "link = [None]\n",
        "size = [None]\n",
        "for i in range(1, n+1):\n",
        "    link.append(i)\n",
        "    size.append(1)\n",
        "\n",
        "# def find(x):\n",
        "#     while x != link[x]:\n",
        "#         x = link[x]\n",
        "#     return x\n",
        "\n",
        "def find(x):\n",
        "    if x == link[x]:\n",
        "        return x\n",
        "    link[x] = find(link[x])\n",
        "    return link[x]\n",
        "\n",
        "def same(a, b):\n",
        "    return find(a) == find(b)\n",
        "\n",
        "def unite(a, b):\n",
        "    a = find(a)\n",
        "    b = find(b)\n",
        "    if size[a] < size[b]:\n",
        "        a, b = b, a\n",
        "    size[a] += size[b]\n",
        "    link[b] = a\n",
        "\n",
        "for _, a, b in graph:\n",
        "    if not same(a, b):\n",
        "        print(a, b)\n",
        "        unite(a, b)\n",
        "\n"
      ],
      "execution_count": null,
      "outputs": [
        {
          "output_type": "stream",
          "text": [
            "5 6\n",
            "1 2\n",
            "3 6\n",
            "1 5\n",
            "4 6\n"
          ],
          "name": "stdout"
        }
      ]
    },
    {
      "cell_type": "markdown",
      "metadata": {
        "id": "JAFSEEYcNjYw",
        "colab_type": "text"
      },
      "source": [
        "Алгоритм Прима"
      ]
    },
    {
      "cell_type": "code",
      "metadata": {
        "id": "Ct-BgdBHNl2W",
        "colab_type": "code",
        "colab": {
          "base_uri": "https://localhost:8080/",
          "height": 102
        },
        "outputId": "8b8911a3-ae3b-4255-9bf8-9d1447a6c0e5"
      },
      "source": [
        "adj = {}\n",
        "adj[1] = [(2,3), (5,5)]\n",
        "adj[2] = [(1,3), (3,5), (5,6)]\n",
        "adj[3] = [(2,5), (6,3), (4,9)]\n",
        "adj[4] = [(3,9), (6,7)]\n",
        "adj[5] = [(1,5), (2,6), (6,2)]\n",
        "adj[6] = [(3,3), (4,7), (5,2)]\n",
        "n = 6\n",
        "\n",
        "from heapq import heappush, heappop\n",
        "\n",
        "processed = [None]\n",
        "q = []\n",
        "\n",
        "for i in range(1, n+1):\n",
        "    processed.append(False)\n",
        "\n",
        "x = 1\n",
        "processed[x] = True\n",
        "for b, w in adj[x]:\n",
        "    heappush(q, (w, x, b))\n",
        "\n",
        "while q:\n",
        "    w, a, b = heappop(q)\n",
        "    if processed[b]:\n",
        "        continue\n",
        "    processed[b] = True\n",
        "    print(a, b)\n",
        "    for c, w in adj[b]:\n",
        "        heappush(q, (w, b, c))\n"
      ],
      "execution_count": null,
      "outputs": [
        {
          "output_type": "stream",
          "text": [
            "1 2\n",
            "1 5\n",
            "5 6\n",
            "6 3\n",
            "6 4\n"
          ],
          "name": "stdout"
        }
      ]
    },
    {
      "cell_type": "markdown",
      "metadata": {
        "id": "EhB9uh4PdCpN",
        "colab_type": "text"
      },
      "source": [
        "## Алгоритмы с параллельным просмотром разрядов"
      ]
    },
    {
      "cell_type": "markdown",
      "metadata": {
        "id": "izPOpYwrNswb",
        "colab_type": "text"
      },
      "source": [
        "Расстояние Хэмминга"
      ]
    },
    {
      "cell_type": "code",
      "metadata": {
        "id": "a-W-oTwTNwfx",
        "colab_type": "code",
        "colab": {
          "base_uri": "https://localhost:8080/",
          "height": 34
        },
        "outputId": "a536683f-1c0f-40e2-c298-be251bd5fa9b"
      },
      "source": [
        "arr = [\"00111\", \"01101\", \"11110\"]\n",
        "n = 3\n",
        "\n",
        "ans = float(\"inf\")\n",
        "for i in range(n):\n",
        "    for j in range(i+1, n):\n",
        "        a = int(arr[i], base=2)\n",
        "        b = int(arr[j], base=2)\n",
        "        ans = min(ans, str(bin(a^b)).count(\"1\"))\n",
        "ans"
      ],
      "execution_count": null,
      "outputs": [
        {
          "output_type": "execute_result",
          "data": {
            "text/plain": [
              "2"
            ]
          },
          "metadata": {
            "tags": []
          },
          "execution_count": 38
        }
      ]
    },
    {
      "cell_type": "markdown",
      "metadata": {
        "id": "IGh02VAVIsvA",
        "colab_type": "text"
      },
      "source": [
        "Подсчет подсеток"
      ]
    },
    {
      "cell_type": "code",
      "metadata": {
        "id": "WfO5I9OFdDe8",
        "colab_type": "code",
        "colab": {
          "base_uri": "https://localhost:8080/",
          "height": 34
        },
        "outputId": "49c1f3e9-2ee2-4a88-b224-1fa7ce59bec4"
      },
      "source": [
        "color = [\n",
        "    [0,1,0,0,1],\n",
        "    [0,1,1,0,0],\n",
        "    [1,0,0,0,0],\n",
        "    [0,1,1,0,1],\n",
        "    [0,0,0,0,0]\n",
        "]\n",
        "n = 5\n",
        "\n",
        "# naive\n",
        "count = 0\n",
        "for a in range(n):\n",
        "    for b in range(a, n):\n",
        "        # for i in range(n):\n",
        "            # if color[a][i] == 1 and color[b][i] == 1:\n",
        "            #     count += 1\n",
        "        count += [x & y for x, y in zip(color[a], color[b])].count(1)\n",
        "print(count*(count-1)//2)\n"
      ],
      "execution_count": null,
      "outputs": [
        {
          "output_type": "stream",
          "text": [
            "78\n"
          ],
          "name": "stdout"
        }
      ]
    },
    {
      "cell_type": "markdown",
      "metadata": {
        "id": "ut9MoeHbSnwM",
        "colab_type": "text"
      },
      "source": [
        "Достижимость в графах"
      ]
    },
    {
      "cell_type": "code",
      "metadata": {
        "id": "qis-SL3QSo2b",
        "colab_type": "code",
        "colab": {
          "base_uri": "https://localhost:8080/",
          "height": 102
        },
        "outputId": "c354994e-0f02-4fc9-a247-c2af4d82f5a1"
      },
      "source": [
        "n = 5\n",
        "adj = [None] * (n+1)\n",
        "adj[1] = [2,3]\n",
        "adj[2] = [4,5]\n",
        "adj[3] = [4]\n",
        "adj[4] = [5]\n",
        "adj[5] = []\n",
        "\n",
        "reach = [[0 for _ in range(n+1)] for _ in range(n+1)]\n",
        "for i in range(1, n+1):\n",
        "    reach[i][i] = 1\n",
        "    for j in adj[i]:\n",
        "        reach[i][j] = 1\n",
        "\n",
        "for i in range(1, n+1):\n",
        "    for j in adj[i]:\n",
        "        reach[i] = [a|b for a, b in zip(reach[i], reach[j])]\n",
        "\n",
        "for i in range(1, n+1):\n",
        "    print(i, \"->\", reach[i].count(1))\n"
      ],
      "execution_count": null,
      "outputs": [
        {
          "output_type": "stream",
          "text": [
            "1 -> 5\n",
            "2 -> 3\n",
            "3 -> 3\n",
            "4 -> 2\n",
            "5 -> 1\n"
          ],
          "name": "stdout"
        }
      ]
    },
    {
      "cell_type": "markdown",
      "metadata": {
        "id": "65e-VaT1cTyP",
        "colab_type": "text"
      },
      "source": [
        "## Амортизационный анализ"
      ]
    },
    {
      "cell_type": "markdown",
      "metadata": {
        "id": "9Kuajw-lcW8e",
        "colab_type": "text"
      },
      "source": [
        "Метод двух указателей"
      ]
    },
    {
      "cell_type": "code",
      "metadata": {
        "id": "_ruH8j6VcbYN",
        "colab_type": "code",
        "colab": {
          "base_uri": "https://localhost:8080/",
          "height": 34
        },
        "outputId": "17d18cfb-d264-4649-f3f3-7118ccc41a8a"
      },
      "source": [
        "# Даны массив n положительных целых чисел и число x, требуется найти подмассив, \n",
        "# сумма которого в точности равна x, или сообщить,\n",
        "# что такого подмассива не существует\n",
        "\n",
        "arr = [1, 3, 2, 5, 1, 1, 2, 3]\n",
        "n = len(arr)\n",
        "x = 8\n",
        "\n",
        "i = j = 0\n",
        "summ = arr[0]\n",
        "ans = (-1, -1)\n",
        "\n",
        "while i < n:\n",
        "    while j+1 < n and summ + arr[j+1] <= x:\n",
        "        j += 1\n",
        "        summ += arr[j]\n",
        "\n",
        "    if summ == x:\n",
        "        ans = (i, j)\n",
        "        break        \n",
        "\n",
        "    summ -= arr[i]\n",
        "    i += 1\n",
        "\n",
        "print(ans)\n",
        "    "
      ],
      "execution_count": null,
      "outputs": [
        {
          "output_type": "stream",
          "text": [
            "(2, 4)\n"
          ],
          "name": "stdout"
        }
      ]
    },
    {
      "cell_type": "code",
      "metadata": {
        "id": "tzxTpxaP6R_O",
        "colab_type": "code",
        "colab": {
          "base_uri": "https://localhost:8080/",
          "height": 51
        },
        "outputId": "efbe95aa-a72b-4bb5-b04a-a0d3c2f1fa05"
      },
      "source": [
        "# Задача о сумме двух элементов\n",
        "\"\"\"\n",
        "Даны массив n чисел и число x, требуется найти в массиве два элемента, \n",
        "сумма которых равна x, или сообщить, что таких элементов не существует.\n",
        "\"\"\"\n",
        "arr = [1, 4, 5, 6, 7, 9, 9, 10]\n",
        "n = len(arr)\n",
        "x = 12\n",
        "\n",
        "arr.sort()\n",
        "\n",
        "ans = (-1, -1)\n",
        "j = n-1\n",
        "for i in range(n):\n",
        "    while arr[i]+arr[j] > x:\n",
        "        j -= 1\n",
        "    if arr[i]+arr[j] == x:\n",
        "        ans = (i, j)\n",
        "        break\n",
        "print(ans)\n",
        "\n",
        "# 3SUM\n",
        "def tree_sum(arr, n, x):\n",
        "    j = n-1\n",
        "    for i in range(n):\n",
        "        while arr[i]+arr[j] > x:\n",
        "            j -= 1\n",
        "        \n",
        "        for k in range(i+1, j):\n",
        "            if arr[i]+arr[j]+arr[k] == x:\n",
        "                return (i,k,j)\n",
        "    \n",
        "    return (-1, -1, -1)\n",
        "\n",
        "print(tree_sum(arr, len(arr), 23))\n"
      ],
      "execution_count": null,
      "outputs": [
        {
          "output_type": "stream",
          "text": [
            "(2, 4)\n",
            "(1, 5, 7)\n"
          ],
          "name": "stdout"
        }
      ]
    },
    {
      "cell_type": "markdown",
      "metadata": {
        "id": "-6PKww3JVCWt",
        "colab_type": "text"
      },
      "source": [
        "Ближайшие меньшие элементы"
      ]
    },
    {
      "cell_type": "code",
      "metadata": {
        "id": "paH_o877VDf2",
        "colab_type": "code",
        "colab": {
          "base_uri": "https://localhost:8080/",
          "height": 153
        },
        "outputId": "1cb72876-5de8-4b6a-9931-2f1af679540d"
      },
      "source": [
        "# для каждого элемента массива найти ближайший меньший элемент\n",
        "\n",
        "arr = [1,3,4,2,5,3,4,2]\n",
        "n = len(arr)\n",
        "\n",
        "stack = []\n",
        "for i in range(n):\n",
        "    while stack and stack[-1] >= arr[i]:\n",
        "            stack.pop()\n",
        "    stack.append(arr[i])\n",
        "    print(stack)"
      ],
      "execution_count": null,
      "outputs": [
        {
          "output_type": "stream",
          "text": [
            "[1]\n",
            "[1, 3]\n",
            "[1, 3, 4]\n",
            "[1, 2]\n",
            "[1, 2, 5]\n",
            "[1, 2, 3]\n",
            "[1, 2, 3, 4]\n",
            "[1, 2]\n"
          ],
          "name": "stdout"
        }
      ]
    },
    {
      "cell_type": "markdown",
      "metadata": {
        "id": "hBSRe8IPTLow",
        "colab_type": "text"
      },
      "source": [
        "Минимум в скользящем окне"
      ]
    },
    {
      "cell_type": "code",
      "metadata": {
        "id": "ARt3lVTKTMMk",
        "colab_type": "code",
        "colab": {
          "base_uri": "https://localhost:8080/",
          "height": 102
        },
        "outputId": "e87e05ef-82b0-404e-d831-3ad77b95119f"
      },
      "source": [
        "# для каждого скользящего окна требуется найти наименьшее значение.\n",
        "\n",
        "arr = [2,1,4,5,3,4,1,2]\n",
        "n = len(arr)\n",
        "k = 4\n",
        "\n",
        "queue = []\n",
        "for i in range(k):\n",
        "    while queue and arr[queue[-1]] >= arr[i]:\n",
        "            queue.pop()\n",
        "    queue.append(i)\n",
        "print([arr[j] for j in queue])\n",
        "\n",
        "for i in range(k, n):\n",
        "    if queue[0] <= i-k:\n",
        "        queue.pop(0)\n",
        "    while queue and arr[queue[-1]] >= arr[i]:\n",
        "            queue.pop()\n",
        "    queue.append(i)\n",
        "    print([arr[j] for j in queue])"
      ],
      "execution_count": null,
      "outputs": [
        {
          "output_type": "stream",
          "text": [
            "[1, 4, 5]\n",
            "[1, 3]\n",
            "[3, 4]\n",
            "[1]\n",
            "[1, 2]\n"
          ],
          "name": "stdout"
        }
      ]
    },
    {
      "cell_type": "markdown",
      "metadata": {
        "id": "s68i702MjTLu",
        "colab_type": "text"
      },
      "source": [
        "## Нахождение минимальных значений"
      ]
    },
    {
      "cell_type": "markdown",
      "metadata": {
        "id": "LSs5iL_XjZ-8",
        "colab_type": "text"
      },
      "source": [
        "Минимизация сумм"
      ]
    },
    {
      "cell_type": "code",
      "metadata": {
        "id": "cm8Po7P-jUyi",
        "colab_type": "code",
        "colab": {
          "base_uri": "https://localhost:8080/",
          "height": 102
        },
        "outputId": "e4035611-66e6-46c7-bcbc-9052656dc8e6"
      },
      "source": [
        "\"\"\"\n",
        "Пусть дано n чисел a1, a2, ..., an и требуется найти значение x, \n",
        "доставляющее минимум сумме |a1 − x| + |a2 − x| + ... + |an − x|.\n",
        "\"\"\"\n",
        "\n",
        "arr = [1,2,9,2,6]\n",
        "n = len(arr)\n",
        "\n",
        "# троичный поиск\n",
        "def f1(x):\n",
        "    return sum(abs(a-x) for a in arr)\n",
        "\n",
        "def f2(x):\n",
        "    return sum((a-x)**2 for a in arr)\n",
        "\n",
        "def ternary(func):\n",
        "    e = 0.05\n",
        "    xl = min(arr)\n",
        "    xr = max(arr)\n",
        "\n",
        "    while abs(xr - xl) > e:\n",
        "\n",
        "        a = (2*xl + xr) / 3\n",
        "        b = (xl + 2*xr) / 3\n",
        "\n",
        "        if func(a) > func(b):\n",
        "            xl = a\n",
        "        else:\n",
        "            xr = b\n",
        "    \n",
        "    return int(xr)\n",
        "\n",
        "print(\"f1:\", ternary(f1))\n",
        "print(\"f2:\", ternary(f2))\n",
        "print()\n",
        "\n",
        "# median & avg\n",
        "print(\"f1:\", sorted(arr)[n//2])\n",
        "print(\"f2:\", sum(arr)//n)"
      ],
      "execution_count": null,
      "outputs": [
        {
          "output_type": "stream",
          "text": [
            "f1: 2\n",
            "f2: 4\n",
            "\n",
            "f1: 2\n",
            "f2: 4\n"
          ],
          "name": "stdout"
        }
      ]
    },
    {
      "cell_type": "markdown",
      "metadata": {
        "id": "a8tpMrSq4yMk",
        "colab_type": "text"
      },
      "source": [
        "## Запросы к статическим массивам"
      ]
    },
    {
      "cell_type": "markdown",
      "metadata": {
        "id": "vupBttbL41Oy",
        "colab_type": "text"
      },
      "source": [
        "Запросы о сумме"
      ]
    },
    {
      "cell_type": "code",
      "metadata": {
        "id": "drpyOk-F40T1",
        "colab_type": "code",
        "colab": {
          "base_uri": "https://localhost:8080/",
          "height": 51
        },
        "outputId": "e0274725-feb4-4388-eaeb-b43fe2f914eb"
      },
      "source": [
        "arr = [1,3,4,8,6,1,4,2]\n",
        "prefix = [arr[0]]\n",
        "for a in arr[1:]:\n",
        "    prefix.append(prefix[-1]+a)\n",
        "prefix.append(0)\n",
        "\n",
        "a = 3\n",
        "b = 6\n",
        "summ = prefix[b] - prefix[a-1]\n",
        "print(\"sum(3,6):\", summ)\n",
        "\n",
        "a = 0\n",
        "b = 6\n",
        "summ = prefix[b] - prefix[a-1]\n",
        "print(\"sum(0,6):\", summ)"
      ],
      "execution_count": null,
      "outputs": [
        {
          "output_type": "stream",
          "text": [
            "sum(3,6): 19\n",
            "sum(0,6): 27\n"
          ],
          "name": "stdout"
        }
      ]
    },
    {
      "cell_type": "markdown",
      "metadata": {
        "id": "UbhSLYxb8gi9",
        "colab_type": "text"
      },
      "source": [
        "Многомерный случай"
      ]
    },
    {
      "cell_type": "code",
      "metadata": {
        "id": "yPSAUa7K8irk",
        "colab_type": "code",
        "colab": {
          "base_uri": "https://localhost:8080/",
          "height": 306
        },
        "outputId": "898948a4-7c3e-48d7-c493-067dfe5cedcd"
      },
      "source": [
        "a = [\n",
        "    [5 ,2 ,9 ,5 ,3 ,8],\n",
        "    [0 ,4 ,5 ,2 ,6 ,9],\n",
        "    [3 ,9 ,1 ,9 ,4 ,3],\n",
        "    [7 ,8 ,8 ,5 ,8 ,0],\n",
        "    [7 ,5 ,5 ,1 ,0 ,3],\n",
        "    [6 ,9 ,7 ,9 ,7 ,5]\n",
        "]\n",
        "n = 6\n",
        "\n",
        "psa = [[0 for _ in range(n)] for _ in range(n)]\n",
        "\n",
        "psa[0][0] = a[0][0]\n",
        "for i in range(1, n):\n",
        "    psa[i][0] = psa[i-1][0] + a[i][0]\n",
        "for j in range(1, n):\n",
        "    psa[0][j] = psa[0][j-1] + a[0][j]\n",
        "for i in range(1, n):\n",
        "    for j in range(1, n):\n",
        "        psa[i][j] = psa[i-1][j] + psa[i][j-1] - psa[i-1][j-1] + a[i][j]\n",
        "            \n",
        "for r in psa:\n",
        "    print(\"\\t\".join(map(str,r)))\n",
        "\n",
        "\n",
        "y1 = 1\n",
        "x1 = 2\n",
        "y2 = 3\n",
        "x2 = 4\n",
        "\n",
        "A = (y2, x2)\n",
        "B = (y2, x1-1)\n",
        "C = (y1-1, x2)\n",
        "D = (y1-1, x1-1)\n",
        "\n",
        "S = lambda p: 0 if p[0] < 0 or p[1] < 0 else psa[p[0]][p[1]]\n",
        "\n",
        "print(\"\\nprefix sum:\")\n",
        "print(\"S(D):\", S(D), \"\\tS(C):\", S(C))\n",
        "print(\"S(B):\", S(B), \"\\tS(A):\", S(A))\n",
        "print(\"sum:\", S(A) - S(B) - S(C) + S(D))\n",
        "\n",
        "print(\"\\nnaive approach:\")\n",
        "summ = 0\n",
        "for i in range(y1, y2+1):\n",
        "    for j in range(x1, x2+1):\n",
        "        print(a[i][j], end=\" \")\n",
        "        summ += a[i][j]\n",
        "    print()\n",
        "print(\"sum:\", summ)\n"
      ],
      "execution_count": null,
      "outputs": [
        {
          "output_type": "stream",
          "text": [
            "5\t7\t16\t21\t24\t32\n",
            "5\t11\t25\t32\t41\t58\n",
            "8\t23\t38\t54\t67\t87\n",
            "15\t38\t61\t82\t103\t123\n",
            "22\t50\t78\t100\t121\t144\n",
            "28\t65\t100\t131\t159\t187\n",
            "\n",
            "prefix sum:\n",
            "S(D): 7 \tS(C): 24\n",
            "S(B): 38 \tS(A): 103\n",
            "sum: 48\n",
            "\n",
            "naive approach:\n",
            "5 2 6 \n",
            "1 9 4 \n",
            "8 5 8 \n",
            "sum: 48\n"
          ],
          "name": "stdout"
        }
      ]
    },
    {
      "cell_type": "markdown",
      "metadata": {
        "id": "3PKqfgg3N6Dz",
        "colab_type": "text"
      },
      "source": [
        "Запросы о минимуме (алгоритм разреженной таблицы)"
      ]
    },
    {
      "cell_type": "code",
      "metadata": {
        "id": "2UsH8-e7MCyu",
        "colab_type": "code",
        "colab": {
          "base_uri": "https://localhost:8080/",
          "height": 34
        },
        "outputId": "4e0b17e5-bae1-42c1-8f71-d4777e8f6d17"
      },
      "source": [
        "arr = [1,3,4,8,6,1,4,2]\n",
        "n = len(arr)\n",
        "\n",
        "minq = [[None for _ in range(n)] for _ in range(n)]\n",
        "for a in range(n):\n",
        "    minq[a][a] = arr[a]\n",
        "\n",
        "l = 2\n",
        "while l <= n:\n",
        "    for a in range(0, n-l+1):\n",
        "        b = a+l-1\n",
        "        w = l//2\n",
        "        minq[a][b] = min(minq[a][a+w-1],minq[a+w][b])\n",
        "    l *= 2\n",
        "\n",
        "\n",
        "a = 1\n",
        "b = 6\n",
        "\n",
        "k = i = 0\n",
        "while 1 << i <= b-1+1:\n",
        "    k = 1 << i\n",
        "    i += 1\n",
        "\n",
        "print(\"ans:\", min(minq[a][a+k-1],minq[b-k+1][b]))\n",
        "\n",
        "# "
      ],
      "execution_count": null,
      "outputs": [
        {
          "output_type": "stream",
          "text": [
            "ans: 1\n"
          ],
          "name": "stdout"
        }
      ]
    },
    {
      "cell_type": "markdown",
      "metadata": {
        "id": "l93CgvNcAM6O",
        "colab_type": "text"
      },
      "source": [
        "[alternative implementation](https://colab.research.google.com/github/mklippa/google-colabs/blob/master/competitive_programming.ipynb#scrollTo=apqC8Q89Z0eN&line=26&uniqifier=1)"
      ]
    },
    {
      "cell_type": "markdown",
      "metadata": {
        "id": "V1yPCT-QR2HM",
        "colab_type": "text"
      },
      "source": [
        "## Древовидные структуры"
      ]
    },
    {
      "cell_type": "markdown",
      "metadata": {
        "id": "8hYFZlXUSIEd",
        "colab_type": "text"
      },
      "source": [
        "Двоичные индексные деревья"
      ]
    },
    {
      "cell_type": "code",
      "metadata": {
        "id": "tP4-4KziZhin",
        "colab_type": "code",
        "colab": {
          "base_uri": "https://localhost:8080/",
          "height": 68
        },
        "outputId": "29cfffa2-de0f-48f2-a940-6f5a3babb6f5"
      },
      "source": [
        "arr = [None,1,3,4,8,6,1,4,2]\n",
        "n = len(arr)-1\n",
        "\n",
        "def p(k):\n",
        "    return k & -k\n",
        "\n",
        "def add(k, x):\n",
        "    while k <= n:\n",
        "        tree[k] += x\n",
        "        k += p(k)\n",
        "\n",
        "tree = [0]*(n+1)\n",
        "for k in range(1, n+1):\n",
        "    add(k, arr[k])\n",
        "print(tree)\n",
        "\n",
        "def sumk(k):\n",
        "    s = 0\n",
        "    while k >= 1:\n",
        "        s += tree[k]\n",
        "        k -= p(k)\n",
        "    return s\n",
        "\n",
        "print(sumk(7))\n",
        "\n",
        "add(3, 1)\n",
        "tree"
      ],
      "execution_count": null,
      "outputs": [
        {
          "output_type": "stream",
          "text": [
            "[0, 1, 4, 4, 16, 6, 7, 4, 29]\n",
            "27\n"
          ],
          "name": "stdout"
        },
        {
          "output_type": "execute_result",
          "data": {
            "text/plain": [
              "[0, 1, 4, 5, 17, 6, 7, 4, 30]"
            ]
          },
          "metadata": {
            "tags": []
          },
          "execution_count": 10
        }
      ]
    },
    {
      "cell_type": "markdown",
      "metadata": {
        "id": "NsQ7llt0_mx0",
        "colab_type": "text"
      },
      "source": [
        "Деревья отрезков"
      ]
    },
    {
      "cell_type": "code",
      "metadata": {
        "id": "kSQaAAYZ_rey",
        "colab_type": "code",
        "colab": {
          "base_uri": "https://localhost:8080/",
          "height": 51
        },
        "outputId": "53df5326-7520-4bef-9305-1cdfb9cbbb5b"
      },
      "source": [
        "arr = [5,8,6,3,2,7,2,6]\n",
        "\n",
        "def pow2(n):\n",
        "    if n and n & (n-1) == 0:\n",
        "        return n\n",
        "    \n",
        "    count = 0\n",
        "    while n != 0:\n",
        "        n >>= 1\n",
        "        count += 1\n",
        "    \n",
        "    return 1 << count\n",
        "\n",
        "n = pow2(len(arr))\n",
        "\n",
        "tree = [0]*(2*n)\n",
        "\n",
        "def add(k, x):\n",
        "    k += n\n",
        "    tree[k] += x\n",
        "    k //= 2\n",
        "    while k >= 1:\n",
        "        tree[k] = tree[2*k]+tree[2*k+1]\n",
        "        k //= 2\n",
        "\n",
        "def summ(a, b):\n",
        "    a += n\n",
        "    b += n\n",
        "    s = 0\n",
        "    while a <= b:\n",
        "        if a%2 == 1:\n",
        "            s += tree[a]\n",
        "            a += 1\n",
        "        if b%2 == 0:\n",
        "            s += tree[b]\n",
        "            b -= 1\n",
        "        a //= 2\n",
        "        b //= 2\n",
        "    return s\n",
        "\n",
        "for k in range(n):\n",
        "    add(k, arr[k])\n",
        "print(tree)\n",
        "\n",
        "print(summ(2,7))"
      ],
      "execution_count": null,
      "outputs": [
        {
          "output_type": "stream",
          "text": [
            "[0, 39, 22, 17, 13, 9, 9, 8, 5, 8, 6, 3, 2, 7, 2, 6]\n",
            "26\n"
          ],
          "name": "stdout"
        }
      ]
    },
    {
      "cell_type": "code",
      "metadata": {
        "id": "pC5YOTFTGGpL",
        "colab_type": "code",
        "colab": {
          "base_uri": "https://localhost:8080/",
          "height": 51
        },
        "outputId": "9a2cc428-2cfe-4f53-c31c-42a8688277e4"
      },
      "source": [
        "# нахождение минимума\n",
        "\n",
        "arr = [5,8,6,3,1,7,2,6]\n",
        "\n",
        "def add(k, x):\n",
        "    k += n\n",
        "    tree[k] += x\n",
        "    k //= 2\n",
        "    while k>=1:\n",
        "        tree[k] = min(tree[k*2], tree[k*2+1])\n",
        "        k //= 2\n",
        "\n",
        "def rmin(a, b):\n",
        "    ans = float('inf')\n",
        "    a += n\n",
        "    b += n\n",
        "    while a <= b:\n",
        "        if a%2 == 1:\n",
        "            ans = tree[a]\n",
        "            a += 1\n",
        "        if b%2 == 0:\n",
        "            ans = tree[b]\n",
        "            b -= 1\n",
        "        a //= 2\n",
        "        b //= 2\n",
        "    return ans\n",
        "\n",
        "tree = [0]*(2*n)\n",
        "\n",
        "for k in range(n):\n",
        "    add(k, arr[k])\n",
        "\n",
        "print(\"min:\", rmin(1,3))\n",
        "\n",
        "# найти позицию элемента с наименьшим значением\n",
        "k = 1\n",
        "while k*2 < 2*n:\n",
        "    if tree[k*2] <= tree[k*2+1]:\n",
        "        k = k*2\n",
        "    else:\n",
        "        k = k*2+1\n",
        "print(\"ans:\", k - n)"
      ],
      "execution_count": null,
      "outputs": [
        {
          "output_type": "stream",
          "text": [
            "min: 3\n",
            "ans: 4\n"
          ],
          "name": "stdout"
        }
      ]
    },
    {
      "cell_type": "code",
      "metadata": {
        "id": "CuivGOaGXKPK",
        "colab_type": "code",
        "colab": {
          "base_uri": "https://localhost:8080/",
          "height": 34
        },
        "outputId": "abfedcae-6565-4f66-b595-133a71da31c2"
      },
      "source": [
        "# наибольшего общего делителя\n",
        "def gcd(a, b):\n",
        "    if a < b:\n",
        "        a, b = b, a    \n",
        "    while b:\n",
        "        a, b = b, a%b\n",
        "    return a\n",
        "\n",
        "arr = [5,8,6,3,1,7,2,6]\n",
        "\n",
        "def add(k, x):\n",
        "    k += n\n",
        "    tree[k] += x\n",
        "    k //= 2\n",
        "    while k >= 1:\n",
        "        tree[k] = gcd(tree[k*2], tree[k*2+1])\n",
        "        k //= 2\n",
        "\n",
        "def rgcd(a, b):\n",
        "    a += n\n",
        "    b += n\n",
        "    ans = 1\n",
        "    while a <= b:\n",
        "        if a%2 == 1:\n",
        "            ans = tree[a]\n",
        "            a += 1\n",
        "        if b%2 == 0:\n",
        "            ans = tree[b]\n",
        "            b -= 1\n",
        "        a //= 2\n",
        "        b //= 2\n",
        "    return ans\n",
        "\n",
        "n = pow2(len(arr))\n",
        "tree = [0]*(2*n)\n",
        "\n",
        "for k in range(n):\n",
        "    add(k, arr[k])\n",
        "\n",
        "print(\"ans:\", rgcd(6,7))\n"
      ],
      "execution_count": null,
      "outputs": [
        {
          "output_type": "stream",
          "text": [
            "ans: 2\n"
          ],
          "name": "stdout"
        }
      ]
    },
    {
      "cell_type": "markdown",
      "metadata": {
        "id": "TO9_kpKsgWDy",
        "colab_type": "text"
      },
      "source": [
        "Дополнительные приемы"
      ]
    },
    {
      "cell_type": "code",
      "metadata": {
        "id": "I9uENUdUgW8m",
        "colab_type": "code",
        "colab": {
          "base_uri": "https://localhost:8080/",
          "height": 34
        },
        "outputId": "222e63d1-d051-4d23-b72c-7dcb901ae09d"
      },
      "source": [
        "# Обновление диапазона\n",
        "\n",
        "arr = [3, 3, 1, 1, 1, 5, 2, 2]\n",
        "n = len(arr)\n",
        "\n",
        "diff = [0]*n\n",
        "diff[0] = arr[0]\n",
        "for i in range(1, n):\n",
        "    diff[i] = arr[i]-arr[i-1]\n",
        "\n",
        "def radd(a, b, x):\n",
        "    diff[a] += x\n",
        "    diff[b+1] -= x\n",
        "\n",
        "radd(1, 4, 3)\n",
        "\n",
        "tree = [0]*n*2\n",
        "def add(k, x):\n",
        "    k += n\n",
        "    tree[k] = x\n",
        "    k //= 2\n",
        "    while k >= 1:\n",
        "        tree[k] = tree[k*2]+tree[k*2+1] \n",
        "        k //= 2\n",
        "\n",
        "for i in range(n):\n",
        "    add(i, diff[i])\n",
        "tree\n",
        "\n",
        "def get(k):\n",
        "    a = n\n",
        "    b = k+n\n",
        "    s = 0\n",
        "    while a <= b:\n",
        "        if a%2 == 1:\n",
        "            s += tree[a]\n",
        "            a += 1\n",
        "        if b%2 == 0:\n",
        "            s += tree[b]\n",
        "            b -= 1\n",
        "        a //= 2\n",
        "        b //= 2\n",
        "    return s\n",
        "\n",
        "print(\"ans:\", get(3))"
      ],
      "execution_count": null,
      "outputs": [
        {
          "output_type": "stream",
          "text": [
            "ans: 4\n"
          ],
          "name": "stdout"
        }
      ]
    },
    {
      "cell_type": "markdown",
      "metadata": {
        "id": "9mSx3nXUrp4x",
        "colab_type": "text"
      },
      "source": [
        "## Алгоритмы на деревьях"
      ]
    },
    {
      "cell_type": "markdown",
      "metadata": {
        "id": "OAFQvXiZr0Wi",
        "colab_type": "text"
      },
      "source": [
        "Обход дерева"
      ]
    },
    {
      "cell_type": "code",
      "metadata": {
        "id": "jD4jkgrCrr9Z",
        "colab_type": "code",
        "colab": {
          "base_uri": "https://localhost:8080/",
          "height": 34
        },
        "outputId": "696c7497-370a-4898-a532-e7e3f1cf314b"
      },
      "source": [
        "adj = {}\n",
        "adj[1] = [2,3,4]\n",
        "adj[2] = [1,5,6]\n",
        "adj[3] = [1]\n",
        "adj[4] = [1,7]\n",
        "adj[5] = [2]\n",
        "adj[6] = [2,8]\n",
        "adj[7] = [4]\n",
        "adj[8] = [6]\n",
        "\n",
        "def dfs(s, e):\n",
        "    print(s, end=\" \")\n",
        "    for u in adj[s]:\n",
        "        if u != e:\n",
        "            dfs(u, s)\n",
        "\n",
        "dfs(1, 0)"
      ],
      "execution_count": null,
      "outputs": [
        {
          "output_type": "stream",
          "text": [
            "1 2 5 6 8 3 4 7 "
          ],
          "name": "stdout"
        }
      ]
    },
    {
      "cell_type": "markdown",
      "metadata": {
        "id": "H8Ph7qE3tmto",
        "colab_type": "text"
      },
      "source": [
        "Динамическое программирование"
      ]
    },
    {
      "cell_type": "code",
      "metadata": {
        "id": "hFShWd7ltnZ-",
        "colab_type": "code",
        "colab": {
          "base_uri": "https://localhost:8080/",
          "height": 34
        },
        "outputId": "5b603b87-db44-4324-f6da-2a9966596696"
      },
      "source": [
        "adj = {}\n",
        "adj[1] = [2,3,4]\n",
        "adj[2] = [1,5,6]\n",
        "adj[3] = [1]\n",
        "adj[4] = [1,7]\n",
        "adj[5] = [2]\n",
        "adj[6] = [2,8]\n",
        "adj[7] = [4]\n",
        "adj[8] = [6]\n",
        "\n",
        "count = [0] * (n+1)\n",
        "def dfs(s, e):\n",
        "    count[s] = 1\n",
        "    for u in adj[s]:\n",
        "        if u == e: continue\n",
        "        dfs(u, s)\n",
        "        count[s] += count[u]\n",
        "dfs(1, 0)\n",
        "\n",
        "print(count)"
      ],
      "execution_count": null,
      "outputs": [
        {
          "output_type": "stream",
          "text": [
            "[0, 8, 4, 1, 2, 1, 2, 1, 1]\n"
          ],
          "name": "stdout"
        }
      ]
    },
    {
      "cell_type": "markdown",
      "metadata": {
        "id": "2B3gejiSujuL",
        "colab_type": "text"
      },
      "source": [
        "Обход двоичного дерева"
      ]
    },
    {
      "cell_type": "code",
      "metadata": {
        "id": "OQRmKgnEukty",
        "colab_type": "code",
        "colab": {
          "base_uri": "https://localhost:8080/",
          "height": 68
        },
        "outputId": "2b112e77-17db-4f9a-be94-fe4dae9ee1bd"
      },
      "source": [
        "adj = {}\n",
        "adj[1] = (2,3)\n",
        "adj[2] = (4,5)\n",
        "adj[3] = (0,7)\n",
        "adj[4] = (0,0)\n",
        "adj[5] = (6,0)\n",
        "adj[6] = (0,0)\n",
        "adj[7] = (0,0)\n",
        "\n",
        "def preorder(n):\n",
        "    if n:\n",
        "        print(n, end=\" \")\n",
        "        preorder(adj[n][0])\n",
        "        preorder(adj[n][1])\n",
        "preorder(1)\n",
        "print()\n",
        "\n",
        "def inorder(n):\n",
        "    if n:\n",
        "        inorder(adj[n][0])\n",
        "        print(n, end=\" \")\n",
        "        inorder(adj[n][1])\n",
        "inorder(1)\n",
        "print()\n",
        "\n",
        "def postorder(n):\n",
        "    if n:\n",
        "        postorder(adj[n][0])\n",
        "        postorder(adj[n][1])\n",
        "        print(n, end=\" \")\n",
        "postorder(1)\n",
        "print()"
      ],
      "execution_count": null,
      "outputs": [
        {
          "output_type": "stream",
          "text": [
            "1 2 4 5 6 3 7 \n",
            "4 2 6 5 1 3 7 \n",
            "4 6 5 2 7 3 1 \n"
          ],
          "name": "stdout"
        }
      ]
    },
    {
      "cell_type": "markdown",
      "metadata": {
        "id": "k6o-z_L46tX3",
        "colab_type": "text"
      },
      "source": [
        "Вычисление диаметра"
      ]
    },
    {
      "cell_type": "code",
      "metadata": {
        "id": "oIHyOwly6ws-",
        "colab_type": "code",
        "colab": {
          "base_uri": "https://localhost:8080/",
          "height": 68
        },
        "outputId": "9f84e0b4-8ee4-46aa-9069-81b89e4a044a"
      },
      "source": [
        "adj = {}\n",
        "adj[1] = [2,3,4]\n",
        "adj[2] = [1,5,6]\n",
        "adj[3] = [1]\n",
        "adj[4] = [1,7]\n",
        "adj[5] = [2]\n",
        "adj[6] = [2]\n",
        "adj[7] = [4]\n",
        "n = len(adj)\n",
        "\n",
        "# Первый алгоритм\n",
        "to_leaf = [0] * (n+1)\n",
        "\n",
        "def calc_to_leaf(s, e):\n",
        "    for u in adj[s]:\n",
        "        if u == e: continue\n",
        "        calc_to_leaf(u, s)\n",
        "        to_leaf[s] = max(to_leaf[s], to_leaf[u]+1)\n",
        "\n",
        "calc_to_leaf(1, 0)\n",
        "print(to_leaf)\n",
        "\n",
        "max_length = 0\n",
        "\n",
        "maxa = 0\n",
        "maxb = 0\n",
        "for u in adj[1]:\n",
        "    if to_leaf[u] > maxa:\n",
        "        maxa = to_leaf[u]\n",
        "    elif to_leaf[u] > maxb:\n",
        "        maxb = to_leaf[u]\n",
        "\n",
        "if maxb:\n",
        "    max_length += maxb + 1\n",
        "if maxa:\n",
        "    max_length += maxa + 1\n",
        "\n",
        "print(\"ans:\", max_length)\n",
        "\n",
        "# Второй алгоритм\n",
        "def dfs(s, e, c):\n",
        "    global max_node\n",
        "    global max_len\n",
        "    \n",
        "    if len(adj[s]) == 1 and c > max_len:\n",
        "        max_len = c\n",
        "        max_node = s\n",
        "\n",
        "    for u in adj[s]:\n",
        "        if u == e: continue\n",
        "        dfs(u, s, c+1)\n",
        "\n",
        "x = 3\n",
        "max_node = None\n",
        "max_len = 0\n",
        "dfs(x,0,0)\n",
        "\n",
        "x = max_node\n",
        "max_node = None\n",
        "max_len = 0\n",
        "dfs(x,0,0)\n",
        "\n",
        "print(\"ans:\", max_len)\n",
        "\n"
      ],
      "execution_count": null,
      "outputs": [
        {
          "output_type": "stream",
          "text": [
            "[0, 2, 1, 0, 1, 0, 0, 0]\n",
            "ans: 4\n",
            "ans: 4\n"
          ],
          "name": "stdout"
        }
      ]
    },
    {
      "cell_type": "markdown",
      "metadata": {
        "id": "-QR43Lt1IyQ4",
        "colab_type": "text"
      },
      "source": [
        "Все максимальные пути"
      ]
    },
    {
      "cell_type": "code",
      "metadata": {
        "id": "TPC8TSh-I1CN",
        "colab_type": "code",
        "colab": {
          "base_uri": "https://localhost:8080/",
          "height": 51
        },
        "outputId": "9f88e3fb-6f34-4aa9-a9bf-3256ec4dce6c"
      },
      "source": [
        "adj = {}\n",
        "adj[1] = [2,3,4]\n",
        "adj[2] = [1,5,6]\n",
        "adj[3] = [1]\n",
        "adj[4] = [1]\n",
        "adj[5] = [2]\n",
        "adj[6] = [2]\n",
        "n = len(adj)\n",
        "\n",
        "max_length1 = [0] * (n+1)\n",
        "max_node1 = [0] * (n+1)\n",
        "max_length2 = [0] * (n+1)\n",
        "max_node2 = [0] * (n+1)\n",
        "\n",
        "def dfs(s, e, c=0):\n",
        "    for u in adj[s]:\n",
        "        if u == e: continue\n",
        "        dfs(u, s, c+1)\n",
        "        if max_length1[u]+1 > max_length1[s]:\n",
        "            max_length1[s] = max_length1[u]+1\n",
        "            max_node1[s] = u\n",
        "        elif max_length2[u]+1 > max_length2[s]:\n",
        "            max_length2[s] = max_length2[u]+1\n",
        "            max_node2[s] = u\n",
        "\n",
        "dfs(1, 0)\n",
        "# print(max_length1, max_node1)\n",
        "# print(max_length2, max_node2)\n",
        "\n",
        "def calc(s, e):\n",
        "    if max_node1[e] == s:\n",
        "        if max_length2[e] + 1 > max_length1[s]:\n",
        "            max_length1[s] = max_length2[e] + 1\n",
        "            max_node1[s] = e\n",
        "        elif max_length2[e] + 1 > max_length2[s]:\n",
        "            max_length2[s] = max_length2[e] + 1\n",
        "            max_node2[s] = e\n",
        "    else:\n",
        "        if max_length1[e] + 1 > max_length1[s]:\n",
        "            max_length1[s] = max_length1[e] + 1\n",
        "            max_node1[s] = e\n",
        "        elif max_length1[e] + 1 > max_length2[s]:\n",
        "            max_length2[s] = max_length1[e] + 1\n",
        "            max_node2[s] = e\n",
        "    \n",
        "    for u in adj[s]:\n",
        "        if u == e: continue\n",
        "        calc(u, s)\n",
        "calc(1, 0)\n",
        "\n",
        "print()\n",
        "print(\"ans:\", list(zip(max_length1, max_node1)))\n",
        "# print(list(zip(max_length2, max_node2)))"
      ],
      "execution_count": null,
      "outputs": [
        {
          "output_type": "stream",
          "text": [
            "\n",
            "ans: [(0, 0), (2, 2), (2, 1), (3, 1), (3, 1), (3, 2), (3, 2)]\n"
          ],
          "name": "stdout"
        }
      ]
    },
    {
      "cell_type": "markdown",
      "metadata": {
        "id": "B2L5HyBzEkGM",
        "colab_type": "text"
      },
      "source": [
        "## Запросы к деревьям"
      ]
    },
    {
      "cell_type": "markdown",
      "metadata": {
        "id": "81lkliCrEnen",
        "colab_type": "text"
      },
      "source": [
        "Нахождение предков"
      ]
    },
    {
      "cell_type": "code",
      "metadata": {
        "id": "6-1e9p9EEq3C",
        "colab_type": "code",
        "colab": {
          "base_uri": "https://localhost:8080/",
          "height": 34
        },
        "outputId": "11ee649c-b3a2-45fb-b36e-f2cf460724bf"
      },
      "source": [
        "import math\n",
        "\n",
        "adj = {}\n",
        "adj[1] = [4,5,2]\n",
        "adj[2] = [1,6]\n",
        "adj[3] = [4]\n",
        "adj[4] = [1,3,7]\n",
        "adj[5] = [1]\n",
        "adj[6] = [2]\n",
        "adj[7] = [4,8]\n",
        "adj[8] = [7]\n",
        "n = len(adj)\n",
        "LG = int(math.log(n, 2))\n",
        "\n",
        "level = [0] * (n+1)\n",
        "parent = [0] * (n+1)\n",
        "dp = [[0 for _ in range(LG)] for _ in range(n+1)]\n",
        "\n",
        "def dfs(s, e, depth=0):\n",
        "    parent[s] = e\n",
        "    level[s] = depth\n",
        "    for u in adj[s]:\n",
        "        if u == e: continue\n",
        "        dfs(u, s, depth+1)\n",
        "dfs(1, 0)\n",
        "\n",
        "def precalculate():\n",
        "    for i in range(1, n+1):\n",
        "        dp[i][0] = parent[i]\n",
        "    \n",
        "    for h in range(1, LG):\n",
        "        for i in range(1, n+1):\n",
        "            if dp[i][h-1] != 0:\n",
        "                dp[i][h] = dp[dp[i][h-1]][h-1]\n",
        "precalculate()\n",
        "\n",
        "def ancestor(x, k):\n",
        "    for i in range(LG-1, -1, -1):\n",
        "        if dp[x][i] != 0 and (1 << i) <= k:\n",
        "            x = dp[x][i]\n",
        "            k -= 1 << i\n",
        "    return x\n",
        "\n",
        "ancestor(8, 3)\n"
      ],
      "execution_count": null,
      "outputs": [
        {
          "output_type": "execute_result",
          "data": {
            "text/plain": [
              "1"
            ]
          },
          "metadata": {
            "tags": []
          },
          "execution_count": 29
        }
      ]
    },
    {
      "cell_type": "markdown",
      "metadata": {
        "id": "rcyn6P3-zpxJ",
        "colab_type": "text"
      },
      "source": [
        "Запросы о поддеревьях"
      ]
    },
    {
      "cell_type": "code",
      "metadata": {
        "id": "to-oHbFuzqjg",
        "colab_type": "code",
        "colab": {
          "base_uri": "https://localhost:8080/",
          "height": 34
        },
        "outputId": "9ac2bab3-9ce3-43f7-c77d-8ba49e00ad5e"
      },
      "source": [
        "adj = {}\n",
        "adj[1] = [2,3,4,5]\n",
        "adj[2] = [1,6]\n",
        "adj[3] = [1]\n",
        "adj[4] = [1,7,8,9]\n",
        "adj[5] = [1]\n",
        "adj[6] = [2]\n",
        "adj[7] = [4]\n",
        "adj[8] = [4]\n",
        "adj[9] = [4]\n",
        "n = len(adj)\n",
        "\n",
        "id = [None, 2,3,5,3,1,4,4,3,1]\n",
        "\n",
        "count = [0] * (n+1)\n",
        "order = [0]\n",
        "\n",
        "def dfs(s, e):\n",
        "    count[s] = 1\n",
        "    order.append(s)\n",
        "    for u in adj[s]:\n",
        "        if u == e: continue\n",
        "        dfs(u, s)\n",
        "        count[s] += count[u]\n",
        "dfs(1,0)\n",
        "\n",
        "def pow2(n):\n",
        "    if n and n & (n-1) == 0:\n",
        "        return n\n",
        "    count = 0\n",
        "    while n != 0:\n",
        "        n = n >> 1\n",
        "        count += 1\n",
        "    return 1 << count\n",
        "\n",
        "p = pow2(n)\n",
        "tree = [0] * 2*p\n",
        "\n",
        "def add(k, x):\n",
        "    k += p\n",
        "    tree[k] += x\n",
        "    k //= 2\n",
        "    while k >= 1:\n",
        "        tree[k] = tree[k*2] + tree[k*2+1]\n",
        "        k //= 2 \n",
        "\n",
        "for i in range(n):\n",
        "    add(i, id[order[i+1]])\n",
        "\n",
        "# print(tree)\n",
        "\n",
        "def summ(a, b):\n",
        "    a += p\n",
        "    b += p\n",
        "    s = 0\n",
        "    while a <= b:\n",
        "        if a%2 == 1:\n",
        "            s += tree[a]\n",
        "            a += 1\n",
        "        if b%2 == 0:\n",
        "            s += tree[b]\n",
        "            b -= 1\n",
        "        a //= 2\n",
        "        b //= 2\n",
        "    return s \n",
        "\n",
        "x = 4\n",
        "pos = {v: i for i, v in enumerate(order)}\n",
        "\n",
        "size = count[x]\n",
        "summ(pos[x-1], pos[x-1]+size-1)\n"
      ],
      "execution_count": 58,
      "outputs": [
        {
          "output_type": "execute_result",
          "data": {
            "text/plain": [
              "11"
            ]
          },
          "metadata": {
            "tags": []
          },
          "execution_count": 58
        }
      ]
    },
    {
      "cell_type": "markdown",
      "metadata": {
        "id": "p7OSK2sOLqfN",
        "colab_type": "text"
      },
      "source": [
        "Запросы о путях"
      ]
    },
    {
      "cell_type": "code",
      "metadata": {
        "id": "Q41GZ-4uLuzv",
        "colab_type": "code",
        "colab": {
          "base_uri": "https://localhost:8080/",
          "height": 68
        },
        "outputId": "3da52c81-231e-406c-a828-3cbda8bf7462"
      },
      "source": [
        "adj = {}\n",
        "adj[1] = [2,3,4,5]\n",
        "adj[2] = [1,6]\n",
        "adj[3] = [1]\n",
        "adj[4] = [1,7,8,9]\n",
        "adj[5] = [1]\n",
        "adj[6] = [2]\n",
        "adj[7] = [4]\n",
        "adj[8] = [4]\n",
        "adj[9] = [4]\n",
        "n = len(adj)\n",
        "\n",
        "id = [None, 4,5,3,5,2,3,5,3,1]\n",
        "order = [0]\n",
        "count = [0] * (n+1)\n",
        "path_sum = [0]\n",
        "\n",
        "def dfs(s, e, store=0):\n",
        "    count[s] = 1\n",
        "    order.append(s)\n",
        "    path_sum.append(store+id[s])\n",
        "    for u in adj[s]:\n",
        "        if u == e: continue\n",
        "        dfs(u, s, store+id[s])\n",
        "        count[s] += count[u]\n",
        "\n",
        "dfs(1,0)\n",
        "\n",
        "count = [count[i] for i in order]\n",
        "\n",
        "def pow2(n):\n",
        "    if n and n & (n-1) == 0:\n",
        "        return n\n",
        "    count = 0\n",
        "    while n:\n",
        "        n = n >> 1\n",
        "        count += 1\n",
        "    return 1 << count\n",
        "\n",
        "diff = [0] * (n+1)\n",
        "for i in range(1,n+1):\n",
        "    diff[i] = path_sum[i] - path_sum[i-1]\n",
        "\n",
        "p = pow2(n)\n",
        "tree = [0] * p*2\n",
        "\n",
        "def add(k, x):\n",
        "    k += p\n",
        "    tree[k] += x\n",
        "    k //= 2\n",
        "    while k >= 1:\n",
        "        tree[k] = tree[k*2] + tree[k*2+1]\n",
        "        k //= 2\n",
        "\n",
        "for i in range(1,n):\n",
        "    add(i-1, diff[i])\n",
        "\n",
        "# print(tree)\n",
        "\n",
        "def get(k):\n",
        "    a = p\n",
        "    b = p + k\n",
        "    s = 0\n",
        "    while a <= b:\n",
        "        if a%2 == 1:\n",
        "            s += tree[a]\n",
        "            a += 1\n",
        "        if b%2 == 0:\n",
        "            s += tree[b]\n",
        "            b -= 1\n",
        "        a //= 2\n",
        "        b //= 2\n",
        "    return s\n",
        "\n",
        "pos = {v: i for i, v in enumerate(order)}\n",
        "\n",
        "x = 4\n",
        "i = pos[x-1]\n",
        "\n",
        "print(get(i))\n",
        "# print(tree[p:p+n])\n",
        "\n",
        "add(i, 1)\n",
        "add(i+count[i+1], -1)\n",
        "\n",
        "# print(tree[p:p+n])\n",
        "print(get(i))\n",
        "print(get(i+1))\n"
      ],
      "execution_count": 60,
      "outputs": [
        {
          "output_type": "stream",
          "text": [
            "9\n",
            "10\n",
            "15\n"
          ],
          "name": "stdout"
        }
      ]
    },
    {
      "cell_type": "markdown",
      "metadata": {
        "id": "1YltP8s7aqo0",
        "colab_type": "text"
      },
      "source": [
        "Наименьшие общие предки"
      ]
    },
    {
      "cell_type": "code",
      "metadata": {
        "id": "5LqZeqdSark6",
        "colab_type": "code",
        "colab": {
          "base_uri": "https://localhost:8080/",
          "height": 34
        },
        "outputId": "ca504fa6-68ca-4c46-e8eb-c07bf734abd6"
      },
      "source": [
        "import math\n",
        "\n",
        "# первый метод\n",
        "adj = {}\n",
        "adj[1] = [2,3,4]\n",
        "adj[2] = [1,5,6]\n",
        "adj[3] = [1]\n",
        "adj[4] = [1,7]\n",
        "adj[5] = [2]\n",
        "adj[6] = [2,8]\n",
        "adj[7] = [4]\n",
        "adj[8] = [6]\n",
        "n = len(adj)\n",
        "LG = int(math.log(n, 2))\n",
        "\n",
        "parent = [0] * (n+1)\n",
        "level = [0] * (n+1)\n",
        "\n",
        "def find_parents(s, e, depth = 0):\n",
        "    level[s] = depth\n",
        "    for u in adj[s]:\n",
        "        if u == e: continue\n",
        "        parent[u] = s\n",
        "        find_parents(u, s, depth+1)\n",
        "find_parents(1, 0)\n",
        "\n",
        "dp = [[0 for _ in range(LG)] for _ in range(n+1)]\n",
        "\n",
        "def precalculation():\n",
        "    for i in range(1, n+1):\n",
        "        dp[i][0] = parent[i]\n",
        "\n",
        "    for j in range(1, LG):\n",
        "        for i in range(1, n+1):\n",
        "            if dp[i][j-1]:\n",
        "                dp[i][j] = dp[dp[i][j-1]][j-1]\n",
        "precalculation()\n",
        "\n",
        "def ancestor(x, k):\n",
        "    for i in range(LG-1, -1, -1):\n",
        "        if dp[x][i] and 1 << i <= k:\n",
        "            x = dp[x][i]\n",
        "            k -= 1 << i\n",
        "    return x\n",
        "\n",
        "def lca(a, b):\n",
        "    if level[a] < level[b]:\n",
        "        a, b = b, a\n",
        "    \n",
        "    lg = 0\n",
        "    while 1<<lg <= level[a]: lg += 1\n",
        "\n",
        "    for i in range(lg-1, -1, -1):\n",
        "        if level[a]-(1<<i) >= level[b]:\n",
        "            a = dp[a][i]\n",
        "\n",
        "    if a == b: return a\n",
        "\n",
        "    for i in range(lg-1, -1, -1):\n",
        "        if dp[a][i] != dp[b][i]:\n",
        "            a = dp[a][i]\n",
        "            b = dp[b][i]\n",
        "    return parent[a]\n",
        "\n",
        "\n",
        "lca(8, 5)\n"
      ],
      "execution_count": 20,
      "outputs": [
        {
          "output_type": "execute_result",
          "data": {
            "text/plain": [
              "2"
            ]
          },
          "metadata": {
            "tags": []
          },
          "execution_count": 20
        }
      ]
    },
    {
      "cell_type": "code",
      "metadata": {
        "id": "apqC8Q89Z0eN",
        "colab_type": "code",
        "colab": {
          "base_uri": "https://localhost:8080/",
          "height": 34
        },
        "outputId": "aad64488-e21c-4a2d-b341-502e1a8d2759"
      },
      "source": [
        "# второй метод (дерево эйлерова обхода)\n",
        "adj = {}\n",
        "adj[1] = [2,3,4]\n",
        "adj[2] = [1,5,6]\n",
        "adj[3] = [1]\n",
        "adj[4] = [1,7]\n",
        "adj[5] = [2]\n",
        "adj[6] = [2,8]\n",
        "adj[7] = [4]\n",
        "adj[8] = [6]\n",
        "n = len(adj)\n",
        "\n",
        "tree = []\n",
        "level = []\n",
        "\n",
        "def dfs(s, e, depth=1):\n",
        "    tree.append(s)\n",
        "    level.append(depth)\n",
        "    for u in adj[s]:\n",
        "        if u == e: continue\n",
        "        dfs(u, s, depth+1)\n",
        "        tree.append(s)\n",
        "        level.append(depth)\n",
        "\n",
        "dfs(1, 0)\n",
        "# print(tree)\n",
        "# print(level)\n",
        "\n",
        "n = len(level) \n",
        "\n",
        "lg = 0\n",
        "while 1<<lg <= n: lg += 1\n",
        "\n",
        "# sparse table\n",
        "table = [[-1 for _ in range(lg)] for _ in range(n)]\n",
        "for i in range(n):\n",
        "    table[i][0] = level[i]\n",
        "\n",
        "for j in range(1, lg):\n",
        "    for i in range(n):\n",
        "        if i + 2**j - 1 < n:\n",
        "            table[i][j] = min(table[i][j-1], table[i+(2**j)//2][j-1])\n",
        "\n",
        "x = 5\n",
        "y = 8\n",
        "\n",
        "a = b = 0\n",
        "\n",
        "i = 0\n",
        "while tree[i] != x: i += 1\n",
        "a = i\n",
        "while tree[i] != y: i += 1\n",
        "b = i\n",
        "\n",
        "# find previous power of 2\n",
        "l = b - a + 1\n",
        "if not (l and l & (l-1) == 0):\n",
        "    count = 0\n",
        "    while l != 0:\n",
        "        l = l >> 1\n",
        "        count += 1\n",
        "j = count-1\n",
        "\n",
        "# find min element\n",
        "z = min(table[a][j], table[b-2**j+1][j])\n",
        "\n",
        "print(\"ans: \", z)\n"
      ],
      "execution_count": 98,
      "outputs": [
        {
          "output_type": "stream",
          "text": [
            "ans:  2\n"
          ],
          "name": "stdout"
        }
      ]
    },
    {
      "cell_type": "markdown",
      "metadata": {
        "id": "Ot2Sz2SliS1j",
        "colab_type": "text"
      },
      "source": [
        "Вычисление расстояний"
      ]
    },
    {
      "cell_type": "code",
      "metadata": {
        "id": "qPjtRh7FiWCn",
        "colab_type": "code",
        "colab": {
          "base_uri": "https://localhost:8080/",
          "height": 34
        },
        "outputId": "2178a61a-da56-4ac5-e789-cb5e49f1dbb7"
      },
      "source": [
        "i = 0\n",
        "while tree[i] != z: i += 1\n",
        "c = i\n",
        "print(\"ans:\", level[a] + level[b] - 2*level[c])"
      ],
      "execution_count": 97,
      "outputs": [
        {
          "output_type": "stream",
          "text": [
            "ans: 3\n"
          ],
          "name": "stdout"
        }
      ]
    },
    {
      "cell_type": "markdown",
      "metadata": {
        "id": "ngLIYSCDKlut",
        "colab_type": "text"
      },
      "source": [
        "Объединение структур данных"
      ]
    },
    {
      "cell_type": "code",
      "metadata": {
        "id": "clst4csIKmaV",
        "colab_type": "code",
        "colab": {
          "base_uri": "https://localhost:8080/",
          "height": 187
        },
        "outputId": "33afc9c1-3b5a-4727-ef2f-a998d4c2de5f"
      },
      "source": [
        "adj = {}\n",
        "adj[1] = [2,3,4,5]\n",
        "adj[2] = [1,6]\n",
        "adj[3] = [1]\n",
        "adj[4] = [1,7,8,9]\n",
        "adj[5] = [1]\n",
        "adj[6] = [2]\n",
        "adj[7] = [4]\n",
        "adj[8] = [4]\n",
        "adj[9] = [4]\n",
        "n = len(adj)\n",
        "\n",
        "value = [None,2,3,5,3,1,4,4,3,1]\n",
        "d = [{} for _ in range(n+1)]\n",
        "\n",
        "def dfs(s, e):\n",
        "    d[s][value[s]] = 1 \n",
        "    for u in adj[s]:\n",
        "        if u == e: continue\n",
        "        dfs(u, s)\n",
        "        for k in d[u]:\n",
        "            if k in d[s]:\n",
        "                d[s][k] += d[u][k]\n",
        "            else:\n",
        "                d[s][k] = d[u][k]\n",
        "dfs(1, 0)\n",
        "\n",
        "for i, r in enumerate(d):\n",
        "    print(i, r)"
      ],
      "execution_count": 26,
      "outputs": [
        {
          "output_type": "stream",
          "text": [
            "0 {}\n",
            "1 {2: 1, 3: 3, 4: 2, 5: 1, 1: 2}\n",
            "2 {3: 1, 4: 1}\n",
            "3 {5: 1}\n",
            "4 {3: 2, 4: 1, 1: 1}\n",
            "5 {1: 1}\n",
            "6 {4: 1}\n",
            "7 {4: 1}\n",
            "8 {3: 1}\n",
            "9 {1: 1}\n"
          ],
          "name": "stdout"
        }
      ]
    },
    {
      "cell_type": "markdown",
      "metadata": {
        "id": "C0JBp6RvqEVd",
        "colab_type": "text"
      },
      "source": [
        "## Более сложные приемы"
      ]
    },
    {
      "cell_type": "markdown",
      "metadata": {
        "id": "Yex1QZLzqH9W",
        "colab_type": "text"
      },
      "source": [
        "Центроидная декомпозиция"
      ]
    },
    {
      "cell_type": "code",
      "metadata": {
        "id": "2huKW-NSqG_Z",
        "colab_type": "code",
        "colab": {
          "base_uri": "https://localhost:8080/",
          "height": 34
        },
        "outputId": "12bd63e0-d6e9-4bf6-ee44-ce6ed7c6cca9"
      },
      "source": [
        "class Tree:\n",
        "    def __init__(self, n):\n",
        "        self.size = n + 1\n",
        "        self.cur_size = 0\n",
        "        self.tree = [[] for _ in range(self.size)]\n",
        "        self.is_centroid = [False] * self.size\n",
        "        self.centroid_tree = [[] for _ in range(self.size)]\n",
        "\n",
        "    # function to generate centroid tree of tree rooted at root\n",
        "    def decompose_tree(self, root):\n",
        "        # get sentorid for current tree\n",
        "        centroid_tree = self.find_centroid_util(root)\n",
        "        print(centroid_tree, end=\" \")\n",
        "        # for every node adjacent to the found centroid\n",
        "        # and not already marked as centroid\n",
        "        for adj in self.tree[centroid_tree]:\n",
        "            if not self.is_centroid[adj]:\n",
        "                # decompose subtree rooted at adjacent node\n",
        "                centroid_subtree = self.decompose_tree(adj)\n",
        "                # add edge between tree centroid and centroid of subtree\n",
        "                self.centroid_tree[centroid_tree].append(centroid_subtree)\n",
        "                self.centroid_tree[centroid_subtree].append(centroid_tree)\n",
        "        # return centroid of tree\n",
        "        return centroid_tree\n",
        "\n",
        "    def find_centroid(self, node, prev, count):\n",
        "        # assume the current node to be centroid\n",
        "        is_centroid = True\n",
        "        # track heaviest child of node, to use in case node is not centroid\n",
        "        heavy_child = 0\n",
        "        # iterate over all adjacent nodes which are children\n",
        "        # (not visited) and not marked as centroid to some subtree\n",
        "        for adj in self.tree[node]:\n",
        "            if adj == prev or self.is_centroid[node]:\n",
        "                continue\n",
        "            # If any adjacent node has more than n/2 nodes,\n",
        "            # current node cannot be centroid\n",
        "            if count[adj] > self.cur_size // 2:\n",
        "                is_centroid = False\n",
        "            # update heaviest child\n",
        "            if heavy_child == 0 or count[adj] > count[heavy_child]:\n",
        "                heavy_child = adj\n",
        "        # if current node is a centroid\n",
        "        if is_centroid and self.cur_size - count[node] <= self.cur_size // 2:\n",
        "            return node\n",
        "        # else recur on heaviest child\n",
        "        else:\n",
        "            return self.find_centroid(heavy_child, node, count)\n",
        "\n",
        "    # function to get the centroid of tree rooted at node.\n",
        "    # tree may be the original one or may belong to the forest\n",
        "    def find_centroid_util(self, node):\n",
        "        # variable to hold number of nodes in the current tree\n",
        "        self.cur_size = 0\n",
        "        # initialize auxiliary arrays\n",
        "        count = [0] * self.size\n",
        "        # DFS to set up subtree sizes and nodes in current tree\n",
        "        self.dfs(node, 0, count)\n",
        "        centroid = self.find_centroid(node, 0, count)\n",
        "        self.is_centroid[centroid] = True\n",
        "        return centroid\n",
        "\n",
        "    # method to setup subtree sizes and nodes in current tree\n",
        "    def dfs(self, node, prev, count):\n",
        "        # increase count of nodes visited\n",
        "        self.cur_size += 1\n",
        "        # initialize subtree size for current node\n",
        "        count[node] = 1\n",
        "        for adj in self.tree[node]:\n",
        "            if adj == prev or self.is_centroid[adj]:\n",
        "                continue\n",
        "            # recur on non-visited and non-centroid neighbours\n",
        "            self.dfs(adj, node, count)\n",
        "            count[node] += count[adj]\n",
        "\n",
        "    # method to add edge between nodes of the undirected tree\n",
        "    def add_edge(self, src, dst):\n",
        "        self.tree[src].append(dst)\n",
        "        self.tree[dst].append(src)\n",
        "\n",
        "\n",
        "if __name__ == \"__main__\":\n",
        "    tree = Tree(16)\n",
        "\n",
        "    tree.add_edge(1, 4)\n",
        "    tree.add_edge(2, 4)\n",
        "    tree.add_edge(3, 4)\n",
        "    tree.add_edge(4, 5)\n",
        "    tree.add_edge(5, 6)\n",
        "    tree.add_edge(6, 7)\n",
        "    tree.add_edge(6, 10)\n",
        "    tree.add_edge(7, 8)\n",
        "    tree.add_edge(7, 9)\n",
        "    tree.add_edge(10, 11)\n",
        "    tree.add_edge(11, 12)\n",
        "    tree.add_edge(11, 13)\n",
        "    tree.add_edge(12, 14)\n",
        "    tree.add_edge(13, 15)\n",
        "    tree.add_edge(13, 16)\n",
        "\n",
        "    tree.decompose_tree(1)\n"
      ],
      "execution_count": 2,
      "outputs": [
        {
          "output_type": "stream",
          "text": [
            "6 4 1 2 3 5 7 8 9 11 10 12 14 13 15 16 "
          ],
          "name": "stdout"
        }
      ]
    },
    {
      "cell_type": "markdown",
      "metadata": {
        "id": "NisE79UxqJwR",
        "colab_type": "text"
      },
      "source": [
        "Разновесная декомпозиция"
      ]
    },
    {
      "cell_type": "code",
      "metadata": {
        "id": "-4iWcEmmqHZf",
        "colab_type": "code",
        "colab": {}
      },
      "source": [
        ""
      ],
      "execution_count": null,
      "outputs": []
    },
    {
      "cell_type": "markdown",
      "metadata": {
        "id": "yJuWrHu3Ulej",
        "colab_type": "text"
      },
      "source": [
        "## Теория чисел"
      ]
    },
    {
      "cell_type": "markdown",
      "metadata": {
        "id": "806eezv7dZGR",
        "colab_type": "text"
      },
      "source": [
        "Основные алгоритмы"
      ]
    },
    {
      "cell_type": "code",
      "metadata": {
        "id": "CygKu2qiUnFe",
        "colab_type": "code",
        "colab": {
          "base_uri": "https://localhost:8080/",
          "height": 51
        },
        "outputId": "830bdcf4-f2ab-40c2-d845-1d9932ba0b90"
      },
      "source": [
        "# является ли целое число n простым\n",
        "def prime(n: int) -> bool:\n",
        "    if n < 2: return False\n",
        "    x = 2\n",
        "    while x*x <= n:\n",
        "        if n%x == 0: return False\n",
        "        x += 1\n",
        "    return True\n",
        "print(\"16:\", prime(16))\n",
        "print(\"19:\", prime(19))"
      ],
      "execution_count": 6,
      "outputs": [
        {
          "output_type": "stream",
          "text": [
            "16: False\n",
            "19: True\n"
          ],
          "name": "stdout"
        }
      ]
    },
    {
      "cell_type": "code",
      "metadata": {
        "id": "f8RZF8mKer8K",
        "colab_type": "code",
        "colab": {
          "base_uri": "https://localhost:8080/",
          "height": 34
        },
        "outputId": "72dbb9bc-f466-4f73-d82f-4b1211ea8fe4"
      },
      "source": [
        "# разложение n на прос­ тые множители\n",
        "from typing import List\n",
        "\n",
        "def factors(n: int) -> List[int]:\n",
        "    f = []\n",
        "    x = 2\n",
        "    while x*x <= n:\n",
        "        while n%x == 0:\n",
        "            f.append(x)\n",
        "            n //= x\n",
        "        x += 1\n",
        "    if n > 1: f.append(n)\n",
        "    return f\n",
        "\n",
        "print(\"factors:\", factors(84))"
      ],
      "execution_count": 12,
      "outputs": [
        {
          "output_type": "stream",
          "text": [
            "factors: [2, 2, 3, 7]\n"
          ],
          "name": "stdout"
        }
      ]
    },
    {
      "cell_type": "markdown",
      "metadata": {
        "id": "vlAGxR1Mp7SI",
        "colab_type": "text"
      },
      "source": [
        "Решето Эратосфена (Sieve of Eratosthenes)"
      ]
    },
    {
      "cell_type": "code",
      "metadata": {
        "id": "oGLu0nB3qAie",
        "colab_type": "code",
        "colab": {
          "base_uri": "https://localhost:8080/",
          "height": 51
        },
        "outputId": "63a19147-3932-424b-86eb-5c15ccf89fe2"
      },
      "source": [
        "n = 20\n",
        "sieve = [0] * (n+1)\n",
        "for x in range(2, n+1):\n",
        "    if sieve[x]: continue\n",
        "    for u in range(x+x, n+1, x):\n",
        "        sieve[u] = 1\n",
        "print(sieve[2:])\n",
        "\n",
        "sieve = [0] * (n+1)\n",
        "for x in range(2, n+1):\n",
        "    if sieve[x]: continue\n",
        "    sieve[x] = x\n",
        "    for u in range(x+x, n+1, x):\n",
        "        if sieve[u]: continue\n",
        "        sieve[u] = x\n",
        "print(sieve[2:])"
      ],
      "execution_count": 16,
      "outputs": [
        {
          "output_type": "stream",
          "text": [
            "[0, 0, 1, 0, 1, 0, 1, 1, 1, 0, 1, 0, 1, 1, 1, 0, 1, 0, 1]\n",
            "[2, 3, 2, 5, 2, 7, 2, 3, 2, 11, 2, 13, 2, 3, 2, 17, 2, 19, 2]\n"
          ],
          "name": "stdout"
        }
      ]
    },
    {
      "cell_type": "markdown",
      "metadata": {
        "id": "ddh4M_zFuTgW",
        "colab_type": "text"
      },
      "source": [
        "Алгоритм Евклида (Euclid’s Algorithm)"
      ]
    },
    {
      "cell_type": "code",
      "metadata": {
        "id": "9liD6VGOuYnB",
        "colab_type": "code",
        "colab": {
          "base_uri": "https://localhost:8080/",
          "height": 51
        },
        "outputId": "3f4712a5-babb-4271-d315-f0a7e60c8c7c"
      },
      "source": [
        "a = 30\n",
        "b = 12\n",
        "\n",
        "# greatest common divisor\n",
        "def gcd(a, b):\n",
        "    if b == 0: return a\n",
        "    return gcd(b, a%b)\n",
        "print(\"gcd:\", gcd(a, b))\n",
        "\n",
        "# lowest common multiple\n",
        "lcm = a * b // gcd(a, b)\n",
        "print(\"lcm:\", lcm)"
      ],
      "execution_count": 20,
      "outputs": [
        {
          "output_type": "stream",
          "text": [
            "gcd: 6\n",
            "lcm: 60\n"
          ],
          "name": "stdout"
        }
      ]
    },
    {
      "cell_type": "markdown",
      "metadata": {
        "id": "F2hwx3k9x1nx",
        "colab_type": "text"
      },
      "source": [
        "Расширенный алгоритм Евклида"
      ]
    },
    {
      "cell_type": "code",
      "metadata": {
        "id": "hx5JJkpnx2cL",
        "colab_type": "code",
        "colab": {
          "base_uri": "https://localhost:8080/",
          "height": 34
        },
        "outputId": "0002fcf7-451b-4212-a6a4-962eef960d99"
      },
      "source": [
        "def gcd(a, b):\n",
        "    if b == 0:\n",
        "        return 1, 0, a\n",
        "    else:\n",
        "        x, y, g = gcd(b, a%b)\n",
        "        return y, x-(a//b)*y, g\n",
        "gcd(30, 12)"
      ],
      "execution_count": 23,
      "outputs": [
        {
          "output_type": "execute_result",
          "data": {
            "text/plain": [
              "(1, -2, 6)"
            ]
          },
          "metadata": {
            "tags": []
          },
          "execution_count": 23
        }
      ]
    },
    {
      "cell_type": "markdown",
      "metadata": {
        "id": "41WbYcFn0zz2",
        "colab_type": "text"
      },
      "source": [
        "Возведение в степень по модулю (Modular Exponentiation)"
      ]
    },
    {
      "cell_type": "code",
      "metadata": {
        "id": "XPy01QKb0zal",
        "colab_type": "code",
        "colab": {
          "base_uri": "https://localhost:8080/",
          "height": 34
        },
        "outputId": "632b7872-1d28-4dba-a644-00a19e247601"
      },
      "source": [
        "# (x**n) % m\n",
        "def modpow(x, n, m):\n",
        "    if n == 0: return 1 % m\n",
        "    u = modpow(x, n//2, m)\n",
        "    u = (u*u) % m\n",
        "    if n%2 == 1: u = (u*x) % m\n",
        "    return u\n",
        "\n",
        "modpow(34, 100, 7), (34**100) % 7"
      ],
      "execution_count": 25,
      "outputs": [
        {
          "output_type": "execute_result",
          "data": {
            "text/plain": [
              "(1, 1)"
            ]
          },
          "metadata": {
            "tags": []
          },
          "execution_count": 25
        }
      ]
    },
    {
      "cell_type": "markdown",
      "metadata": {
        "id": "wD-IXFJzTbC3",
        "colab_type": "text"
      },
      "source": [
        "Решение уравнений в целых числах"
      ]
    },
    {
      "cell_type": "code",
      "metadata": {
        "id": "29U-M7EtTb-3",
        "colab_type": "code",
        "colab": {
          "base_uri": "https://localhost:8080/",
          "height": 34
        },
        "outputId": "40c70ded-ac73-4f51-edf2-c1b4c7096199"
      },
      "source": [
        "# 39x + 15y = 12\n",
        "a = 39\n",
        "b = 15\n",
        "c = 12\n",
        "\n",
        "def gcd(a, b):\n",
        "    if b == 0: \n",
        "        return 1, 0, a\n",
        "    x, y, g = gcd(b, a%b)\n",
        "    return y, x-(a//b)*y, g\n",
        "\n",
        "x, y, g = gcd(a, b)\n",
        "\n",
        "if c % g == 1:\n",
        "    print(\"there is no design\")\n",
        "else:\n",
        "    k = c//g\n",
        "    print(\"ans:\", x*k, y*k)"
      ],
      "execution_count": 29,
      "outputs": [
        {
          "output_type": "stream",
          "text": [
            "ans: 8 -20\n"
          ],
          "name": "stdout"
        }
      ]
    },
    {
      "cell_type": "markdown",
      "metadata": {
        "id": "oXUZybcCeLyP",
        "colab_type": "text"
      },
      "source": [
        "Китайская теорема об остатках (Chinese Remainder Theorem)"
      ]
    },
    {
      "cell_type": "code",
      "metadata": {
        "id": "E30pEZ7bePvO",
        "colab_type": "code",
        "colab": {
          "base_uri": "https://localhost:8080/",
          "height": 85
        },
        "outputId": "784c8c6c-5234-4e68-95e4-bf0443398e04"
      },
      "source": [
        "\"\"\"\n",
        "x = 3 mod 5 \n",
        "x = 4 mod 7 \n",
        "x = 2 mod 3\n",
        "\"\"\"\n",
        "\n",
        "a1 = 3\n",
        "a2 = 4\n",
        "a3 = 2\n",
        "\n",
        "m1 = 5\n",
        "m2 = 7\n",
        "m3 = 3\n",
        "\n",
        "a = [None, a1, a2, a3]\n",
        "m = [None, m1, m2, m3]\n",
        "\n",
        "prod = 1\n",
        "for i in m[1:]:\n",
        "    prod *= i\n",
        "\n",
        "x = 0\n",
        "for k in range(1, len(a)):\n",
        "    ak = a[k]\n",
        "    Xk = prod//m[k]\n",
        "    invk = Xk**(m[k]-2) % m[k]\n",
        "    print(ak, Xk, invk)\n",
        "    x += ak * Xk * invk\n",
        "\n",
        "x"
      ],
      "execution_count": 37,
      "outputs": [
        {
          "output_type": "stream",
          "text": [
            "3 21 1\n",
            "4 15 1\n",
            "2 35 2\n"
          ],
          "name": "stdout"
        },
        {
          "output_type": "execute_result",
          "data": {
            "text/plain": [
              "263"
            ]
          },
          "metadata": {
            "tags": []
          },
          "execution_count": 37
        }
      ]
    },
    {
      "cell_type": "markdown",
      "metadata": {
        "id": "5zSQ2AMuuJEJ",
        "colab_type": "text"
      },
      "source": [
        "Биномиальные коэффициенты"
      ]
    },
    {
      "cell_type": "code",
      "metadata": {
        "id": "jnlOKZx3uJwC",
        "colab_type": "code",
        "colab": {
          "base_uri": "https://localhost:8080/",
          "height": 51
        },
        "outputId": "90b80f5c-ccc5-43a8-aea6-0fb0dbb48271"
      },
      "source": [
        "\"\"\"\n",
        "число способов, которыми можно выбрать k элементов \n",
        "из множества, содержащего n элементов.\n",
        "\"\"\"\n",
        "\n",
        "def calc(n, k):\n",
        "    if n == k or k == 0: return 1\n",
        "    return calc(n-1, k-1) + calc(n-1, k)\n",
        "\n",
        "print(calc(5, 3))\n",
        "\n",
        "def fact(n):\n",
        "    ans = 1\n",
        "    while n > 1:\n",
        "        ans *= n\n",
        "        n -= 1\n",
        "    return ans\n",
        "\n",
        "def calc(n, k):\n",
        "    return fact(n)//(fact(k)*fact(n-k))\n",
        "\n",
        "calc(5, 3)"
      ],
      "execution_count": 42,
      "outputs": [
        {
          "output_type": "stream",
          "text": [
            "10\n"
          ],
          "name": "stdout"
        },
        {
          "output_type": "execute_result",
          "data": {
            "text/plain": [
              "10"
            ]
          },
          "metadata": {
            "tags": []
          },
          "execution_count": 42
        }
      ]
    },
    {
      "cell_type": "markdown",
      "metadata": {
        "id": "Mq803ggf2XwC",
        "colab_type": "text"
      },
      "source": [
        "Ящики и шары"
      ]
    },
    {
      "cell_type": "code",
      "metadata": {
        "id": "OGLGowvD2au3",
        "colab_type": "code",
        "colab": {}
      },
      "source": [
        "\"\"\"\n",
        "Случай 1. В каждом ящике не более одного шара.\n",
        "(n k)\n",
        "\n",
        "Случай 2. В ящике может быть несколько шаров.\n",
        "(k+n–1 k)\n",
        "\n",
        "Случай 3. В каждом ящике не более одного шара, и, кроме того, никакие\n",
        "два соседних ящика не могут содержать шары одновременно.\n",
        "(n–k+1 n–2k+1)\n",
        "\"\"\""
      ],
      "execution_count": null,
      "outputs": []
    },
    {
      "cell_type": "markdown",
      "metadata": {
        "id": "b-xl2RF926hD",
        "colab_type": "text"
      },
      "source": [
        "Числа Каталана"
      ]
    },
    {
      "cell_type": "code",
      "metadata": {
        "id": "ABP59Xw33Hla",
        "colab_type": "code",
        "colab": {
          "base_uri": "https://localhost:8080/",
          "height": 51
        },
        "outputId": "3ed89eb0-5161-43f2-89b7-e7aaa1def2b0"
      },
      "source": [
        "n = 7\n",
        "c = [0] * (n+1)\n",
        "c[0] = 1\n",
        "for i in range(1, n+1):\n",
        "    for j in range(0, i):\n",
        "        c[i] += c[j]*c[i-j-1]\n",
        "print(c)\n",
        "\n",
        "def binom(n, k):\n",
        "    if n == k or k == 0: return 1\n",
        "    return binom(n-1, k-1) + binom(n-1, k)\n",
        "\n",
        "c7 = binom(2*n, n) // (n+1)\n",
        "print(c7)"
      ],
      "execution_count": 5,
      "outputs": [
        {
          "output_type": "stream",
          "text": [
            "[1, 1, 2, 5, 14, 42, 132, 429]\n",
            "429\n"
          ],
          "name": "stdout"
        }
      ]
    },
    {
      "cell_type": "markdown",
      "metadata": {
        "id": "4EIN91DD_-De",
        "colab_type": "text"
      },
      "source": [
        "Подсчет беспорядков"
      ]
    },
    {
      "cell_type": "code",
      "metadata": {
        "id": "-UOLky3S_-3G",
        "colab_type": "code",
        "colab": {
          "base_uri": "https://localhost:8080/",
          "height": 51
        },
        "outputId": "d9d39cd5-a0e4-4518-ba78-0e9e19ffdaa3"
      },
      "source": [
        "# Вариант 1\n",
        "\"\"\"\n",
        "n = 3\n",
        "|X1 ∪ X2 ∪ X3| = |X1| + |X2| + |X3|\n",
        "− |X1 ∩ X2| − |X1 ∩ X3| − |X2 ∩ X3|\n",
        "+ |X1 ∩ X2 ∩ X3|\n",
        "= 2 + 2 + 2 −1 − 1 − 1 + 1 = 4\n",
        "\n",
        "n = 4\n",
        "ans = 4*4 - 6 + 4 + 1 = 15\n",
        "\"\"\"\n",
        "\n",
        "# Вариант 2\n",
        "def f(n):\n",
        "    if n == 0: return 0\n",
        "    if n == 1: return 1\n",
        "    return (n-1)*(f(n-1)+f(n-2))\n",
        "print(\"n = 3:\", f(3))\n",
        "print(\"n = 4:\", f(4))"
      ],
      "execution_count": 15,
      "outputs": [
        {
          "output_type": "stream",
          "text": [
            "n = 3: 4\n",
            "n = 4: 15\n"
          ],
          "name": "stdout"
        }
      ]
    },
    {
      "cell_type": "markdown",
      "metadata": {
        "id": "BQj3g9QrAgHl",
        "colab_type": "text"
      },
      "source": [
        "Теорема Кэли\n",
        "`утверждает, что существует всего n^(n–2) различных помечен- ных деревьев с n вершинами.`"
      ]
    },
    {
      "cell_type": "code",
      "metadata": {
        "id": "YrfiFCO4Aq8u",
        "colab_type": "code",
        "colab": {
          "base_uri": "https://localhost:8080/",
          "height": 51
        },
        "outputId": "249b22b3-5522-42bf-edf0-697d47dfb33a"
      },
      "source": [
        "import copy\n",
        "from collections import defaultdict\n",
        "\n",
        "# Кодом Прюфера\n",
        "adj = {}\n",
        "adj[1] = [4]\n",
        "adj[2] = [4,5]\n",
        "adj[3] = [4]\n",
        "adj[4] = [1,2,3]\n",
        "adj[5] = [2]\n",
        "\n",
        "# Prüfer Sequence from Labeled Tree\n",
        "def prufer(adj):\n",
        "    tree = copy.deepcopy(adj)\n",
        "    ans = []\n",
        "    while len(tree) > 2:\n",
        "         lowest = min([x for x in tree if len(tree[x]) == 1])\n",
        "         neigh = tree[lowest][0]\n",
        "         ans.append(neigh)\n",
        "         tree[neigh].remove(lowest)\n",
        "         tree.pop(lowest)\n",
        "    return ans\n",
        "\n",
        "print(prufer(adj))\n",
        "\n",
        "# Labeled Tree from Prüfer Sequence\n",
        "def labeled_tree(seq):\n",
        "    tree = defaultdict(list)\n",
        "    prufer = seq.copy()\n",
        "    lst = [x for x in range(1, len(prufer)+3)]\n",
        "    while len(lst) > 2:\n",
        "        smallest = min([x for x in lst if x not in prufer])\n",
        "        tree[smallest].append(prufer[0])\n",
        "        tree[prufer[0]].append(smallest)\n",
        "        lst.remove(smallest)\n",
        "        prufer.pop(0)\n",
        "    tree[lst[0]].append(lst[-1])\n",
        "    tree[lst[-1]].append(lst[0])\n",
        "    return tree\n",
        "\n",
        "labeled_tree(prufer(adj))\n"
      ],
      "execution_count": 22,
      "outputs": [
        {
          "output_type": "stream",
          "text": [
            "[4, 4, 2]\n"
          ],
          "name": "stdout"
        },
        {
          "output_type": "execute_result",
          "data": {
            "text/plain": [
              "defaultdict(list, {1: [4], 2: [4, 5], 3: [4], 4: [1, 3, 2], 5: [2]})"
            ]
          },
          "metadata": {
            "tags": []
          },
          "execution_count": 22
        }
      ]
    }
  ]
}