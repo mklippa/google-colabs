{
  "nbformat": 4,
  "nbformat_minor": 0,
  "metadata": {
    "colab": {
      "name": "Untitled0.ipynb",
      "provenance": [],
      "authorship_tag": "ABX9TyM+HPTEvMw/2LdNiwjbfccc",
      "include_colab_link": true
    },
    "kernelspec": {
      "name": "python3",
      "display_name": "Python 3"
    }
  },
  "cells": [
    {
      "cell_type": "markdown",
      "metadata": {
        "id": "view-in-github",
        "colab_type": "text"
      },
      "source": [
        "<a href=\"https://colab.research.google.com/github/mklippa/google-colabs/blob/master/competitive_programming.ipynb\" target=\"_parent\"><img src=\"https://colab.research.google.com/assets/colab-badge.svg\" alt=\"Open In Colab\"/></a>"
      ]
    },
    {
      "cell_type": "markdown",
      "metadata": {
        "id": "AYIPla1Zo4lo",
        "colab_type": "text"
      },
      "source": [
        "## Порождение подмножеств"
      ]
    },
    {
      "cell_type": "code",
      "metadata": {
        "id": "J5xkilw2hWRz",
        "colab_type": "code",
        "colab": {
          "base_uri": "https://localhost:8080/",
          "height": 153
        },
        "outputId": "de6cdc07-9187-4d24-a465-57a730d38030"
      },
      "source": [
        "subset = []\n",
        "n = 3\n",
        "\n",
        "def search(k):\n",
        "    # print(k)\n",
        "    if k == n+1:\n",
        "        print(subset)\n",
        "    else:\n",
        "        subset.append(k)\n",
        "        search(k+1)\n",
        "        subset.pop()\n",
        "        search(k+1)\n",
        "\n",
        "search(1)"
      ],
      "execution_count": 10,
      "outputs": [
        {
          "output_type": "stream",
          "text": [
            "[1, 2, 3]\n",
            "[1, 2]\n",
            "[1, 3]\n",
            "[1]\n",
            "[2, 3]\n",
            "[2]\n",
            "[3]\n",
            "[]\n"
          ],
          "name": "stdout"
        }
      ]
    },
    {
      "cell_type": "markdown",
      "metadata": {
        "id": "KPkIYc00pDee",
        "colab_type": "text"
      },
      "source": [
        "# Порождение перестановок"
      ]
    },
    {
      "cell_type": "code",
      "metadata": {
        "id": "xCP9cnTtlNiQ",
        "colab_type": "code",
        "colab": {
          "base_uri": "https://localhost:8080/",
          "height": 119
        },
        "outputId": "a2b2d7a6-4e65-4b85-ec4a-03fadd724a64"
      },
      "source": [
        "permutation = []\n",
        "n = 3\n",
        "chosen = [False]*(n+1)\n",
        "\n",
        "def search():\n",
        "    if len(permutation) == n:\n",
        "        print(permutation)\n",
        "    else:\n",
        "        for i in range(1, n+1):\n",
        "            if chosen[i]:\n",
        "                continue\n",
        "            chosen[i] = True\n",
        "            permutation.append(i)\n",
        "            search()\n",
        "            chosen[i] = False\n",
        "            permutation.pop()\n",
        "\n",
        "search()"
      ],
      "execution_count": 12,
      "outputs": [
        {
          "output_type": "stream",
          "text": [
            "[1, 2, 3]\n",
            "[1, 3, 2]\n",
            "[2, 1, 3]\n",
            "[2, 3, 1]\n",
            "[3, 1, 2]\n",
            "[3, 2, 1]\n"
          ],
          "name": "stdout"
        }
      ]
    }
  ]
}