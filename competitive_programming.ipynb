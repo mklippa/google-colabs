{
  "nbformat": 4,
  "nbformat_minor": 0,
  "metadata": {
    "colab": {
      "name": "Untitled0.ipynb",
      "provenance": [],
      "toc_visible": true,
      "authorship_tag": "ABX9TyN74xccrC9+lgjoCmSXm25h",
      "include_colab_link": true
    },
    "kernelspec": {
      "name": "python3",
      "display_name": "Python 3"
    }
  },
  "cells": [
    {
      "cell_type": "markdown",
      "metadata": {
        "id": "view-in-github",
        "colab_type": "text"
      },
      "source": [
        "<a href=\"https://colab.research.google.com/github/mklippa/google-colabs/blob/master/competitive_programming.ipynb\" target=\"_parent\"><img src=\"https://colab.research.google.com/assets/colab-badge.svg\" alt=\"Open In Colab\"/></a>"
      ]
    },
    {
      "cell_type": "markdown",
      "metadata": {
        "id": "AYIPla1Zo4lo",
        "colab_type": "text"
      },
      "source": [
        "## Порождение подмножеств"
      ]
    },
    {
      "cell_type": "code",
      "metadata": {
        "id": "J5xkilw2hWRz",
        "colab_type": "code",
        "outputId": "de6cdc07-9187-4d24-a465-57a730d38030",
        "colab": {
          "base_uri": "https://localhost:8080/",
          "height": 155
        }
      },
      "source": [
        "subset = []\n",
        "n = 3\n",
        "\n",
        "def search(k):\n",
        "    # print(k)\n",
        "    if k == n+1:\n",
        "        print(subset)\n",
        "    else:\n",
        "        subset.append(k)\n",
        "        search(k+1)\n",
        "        subset.pop()\n",
        "        search(k+1)\n",
        "\n",
        "search(1)"
      ],
      "execution_count": 0,
      "outputs": [
        {
          "output_type": "stream",
          "text": [
            "[1, 2, 3]\n",
            "[1, 2]\n",
            "[1, 3]\n",
            "[1]\n",
            "[2, 3]\n",
            "[2]\n",
            "[3]\n",
            "[]\n"
          ],
          "name": "stdout"
        }
      ]
    },
    {
      "cell_type": "markdown",
      "metadata": {
        "id": "KPkIYc00pDee",
        "colab_type": "text"
      },
      "source": [
        "## Порождение перестановок"
      ]
    },
    {
      "cell_type": "code",
      "metadata": {
        "id": "xCP9cnTtlNiQ",
        "colab_type": "code",
        "outputId": "a2b2d7a6-4e65-4b85-ec4a-03fadd724a64",
        "colab": {
          "base_uri": "https://localhost:8080/",
          "height": 121
        }
      },
      "source": [
        "permutation = []\n",
        "n = 3\n",
        "chosen = [False]*(n+1)\n",
        "\n",
        "def search():\n",
        "    if len(permutation) == n:\n",
        "        print(permutation)\n",
        "    else:\n",
        "        for i in range(1, n+1):\n",
        "            if chosen[i]:\n",
        "                continue\n",
        "            chosen[i] = True\n",
        "            permutation.append(i)\n",
        "            search()\n",
        "            chosen[i] = False\n",
        "            permutation.pop()\n",
        "\n",
        "search()"
      ],
      "execution_count": 0,
      "outputs": [
        {
          "output_type": "stream",
          "text": [
            "[1, 2, 3]\n",
            "[1, 3, 2]\n",
            "[2, 1, 3]\n",
            "[2, 3, 1]\n",
            "[3, 1, 2]\n",
            "[3, 2, 1]\n"
          ],
          "name": "stdout"
        }
      ]
    },
    {
      "cell_type": "markdown",
      "metadata": {
        "id": "1zI2gomKpVSY",
        "colab_type": "text"
      },
      "source": [
        "## Перебор с  возвратом (расстановка ферзей)"
      ]
    },
    {
      "cell_type": "code",
      "metadata": {
        "id": "i9w-1XDWpXQ8",
        "colab_type": "code",
        "outputId": "d689f5ae-7530-4cac-b171-143b9ba75850",
        "colab": {
          "base_uri": "https://localhost:8080/",
          "height": 35
        }
      },
      "source": [
        "n = 4\n",
        "count = 0\n",
        "col = [0]*n\n",
        "diag1 = [0]*(n*2-1)\n",
        "diag2 = [0]*(n*2-1)\n",
        "\n",
        "def search(y):\n",
        "    global count\n",
        "    if y == n:\n",
        "        count += 1\n",
        "        # return\n",
        "    else:\n",
        "        for x in range(n):\n",
        "            if col[x] or diag1[x+y] or diag2[x-y+n-1]:\n",
        "                continue\n",
        "            col[x] = diag1[x+y] = diag2[x-y+n-1] = 1\n",
        "            search(y+1)\n",
        "            col[x] = diag1[x+y] = diag2[x-y+n-1] = 0\n",
        "\n",
        "search(0)\n",
        "print(count)"
      ],
      "execution_count": 0,
      "outputs": [
        {
          "output_type": "stream",
          "text": [
            "2\n"
          ],
          "name": "stdout"
        }
      ]
    },
    {
      "cell_type": "markdown",
      "metadata": {
        "id": "lSqQhYbniVTm",
        "colab_type": "text"
      },
      "source": [
        "## Поразрядные операции"
      ]
    },
    {
      "cell_type": "code",
      "metadata": {
        "id": "5dwluNFzics7",
        "colab_type": "code",
        "outputId": "8fe5d184-f2ec-40ed-b1ca-073ed3bdb043",
        "colab": {
          "base_uri": "https://localhost:8080/",
          "height": 104
        }
      },
      "source": [
        "x = 29\n",
        "print(~x)\n",
        "print(-x-1)\n",
        "print(~x == -x-1)\n",
        "\n",
        "# является степенью двойки\n",
        "x = 15\n",
        "print(\"15 степень двойки?\", x & (x - 1)  == 0)\n",
        "x = 256\n",
        "print(\"256 степень двойки?\", x & (x - 1)  == 0)\n"
      ],
      "execution_count": 0,
      "outputs": [
        {
          "output_type": "stream",
          "text": [
            "-30\n",
            "-30\n",
            "True\n",
            "15 степень двойки? False\n",
            "256 степень двойки? True\n"
          ],
          "name": "stdout"
        }
      ]
    },
    {
      "cell_type": "markdown",
      "metadata": {
        "id": "2d20cW7ikKeS",
        "colab_type": "text"
      },
      "source": [
        "## Представление множеств"
      ]
    },
    {
      "cell_type": "code",
      "metadata": {
        "id": "78W8xotVkOgd",
        "colab_type": "code",
        "outputId": "b4ca174c-72ef-4488-ffca-3ea1519299ea",
        "colab": {
          "base_uri": "https://localhost:8080/",
          "height": 639
        }
      },
      "source": [
        "# Добавление элементов в подмножество\n",
        "# {1, 3, 4, 8}\n",
        "x = 0\n",
        "x |= 1<<1\n",
        "x |= 1<<3\n",
        "x |= 1<<4\n",
        "x |= 1<<8\n",
        "print(bin(x).count(\"1\"))\n",
        "\n",
        "# Распечатать все элементы принадлежащие подмножеству\n",
        "def display(subset):\n",
        "    for i in range(32):\n",
        "        if subset & (1 << i):\n",
        "            print(i, end=\" \")\n",
        "    print()\n",
        "display(x)\n",
        "print()\n",
        "\n",
        "# Операции над множествами\n",
        "# x = {1, 3, 4, 8}\n",
        "# y = {3, 6, 8, 9}\n",
        "# z = x ∪ y = {1, 3, 4, 6, 8, 9}\n",
        "x = (1<<1)|(1<<3)|(1<<4)|(1<<8)\n",
        "y = (1<<3)|(1<<6)|(1<<8)|(1<<9)\n",
        "print(\"Объединение: z = x ∪ y =\", end=\" \")\n",
        "display(x | y)\n",
        "\n",
        "print(\"Пересечение: z = x ∩ y =\", end=\" \")\n",
        "display(x & y)\n",
        "\n",
        "print(\"Дополнение: z = ~a =\", end=\" \")\n",
        "display(~x)\n",
        "\n",
        "print(\"Разность: z = x \\ y =\", end=\" \")\n",
        "display(x & (~y))\n",
        "\n",
        "n = 3\n",
        "# Подмножества множества {0, 1, …,  n−1}\n",
        "for b in range(1<<n):\n",
        "    display(b)\n",
        "print()\n",
        "\n",
        "# Подмножества, содержащие ровно k элементов\n",
        "k = 2\n",
        "for b in range(1<<n):\n",
        "    if bin(b).count(\"1\") == k:\n",
        "        display(b)\n",
        "print()\n",
        "\n",
        "# Все подмножества множества x:\n",
        "b = 0\n",
        "while True:\n",
        "    display(b)\n",
        "    b = (b-x)&x\n",
        "    if not b: break\n",
        "print()"
      ],
      "execution_count": 0,
      "outputs": [
        {
          "output_type": "stream",
          "text": [
            "4\n",
            "1 3 4 8 \n",
            "\n",
            "Объединение: z = x ∪ y = 1 3 4 6 8 9 \n",
            "Пересечение: z = x ∩ y = 3 8 \n",
            "Дополнение: z = ~a = 0 2 5 6 7 9 10 11 12 13 14 15 16 17 18 19 20 21 22 23 24 25 26 27 28 29 30 31 \n",
            "Разность: z = x \\ y = 1 4 \n",
            "\n",
            "0 \n",
            "1 \n",
            "0 1 \n",
            "2 \n",
            "0 2 \n",
            "1 2 \n",
            "0 1 2 \n",
            "\n",
            "0 1 \n",
            "0 2 \n",
            "1 2 \n",
            "\n",
            "\n",
            "1 \n",
            "3 \n",
            "1 3 \n",
            "4 \n",
            "1 4 \n",
            "3 4 \n",
            "1 3 4 \n",
            "8 \n",
            "1 8 \n",
            "3 8 \n",
            "1 3 8 \n",
            "4 8 \n",
            "1 4 8 \n",
            "3 4 8 \n",
            "1 3 4 8 \n"
          ],
          "name": "stdout"
        }
      ]
    },
    {
      "cell_type": "markdown",
      "metadata": {
        "id": "uIcfXG0_oJqb",
        "colab_type": "text"
      },
      "source": [
        "## Эффективность"
      ]
    },
    {
      "cell_type": "code",
      "metadata": {
        "id": "x_QNXovJoJHH",
        "colab_type": "code",
        "outputId": "de058f17-ea1f-470e-9333-4fba806eb762",
        "colab": {
          "base_uri": "https://localhost:8080/",
          "height": 155
        }
      },
      "source": [
        "# Максимальная сумма подмассивов\n",
        "array = [-1, 2, 4, -3, 5, 2, -5, 2]\n",
        "best = summ = 0\n",
        "for i in range(len(array)):\n",
        "    summ = max(array[i], summ+array[i])\n",
        "    best = max(best, summ)\n",
        "print(\"Подмассивом с максимальной суммой является [2,4,–3,5,2]. Его сумма равна\", best)\n",
        "\n",
        "# Задача о двух ферзях (n - размер доски)\n",
        "def solve1(n):\n",
        "    if n == 0:\n",
        "        return 0\n",
        "    return solve1(n-1) + 2 * ((n-1)**2) * (n-2)\n",
        "print(solve1(3))\n",
        "print(solve1(4))\n",
        "print(solve1(5))\n",
        "print()\n",
        "\n",
        "def solve2(n):\n",
        "    return int(round((n**4)/2 - 5*(n**3)/3 + 3*(n**2)/2 - n/3))\n",
        "print(solve2(3))\n",
        "print(solve2(4))\n",
        "print(solve2(5))"
      ],
      "execution_count": 0,
      "outputs": [
        {
          "output_type": "stream",
          "text": [
            "Подмассивом с максимальной суммой является [2,4,–3,5,2]. Его сумма равна 10\n",
            "8\n",
            "44\n",
            "140\n",
            "\n",
            "8\n",
            "44\n",
            "140\n"
          ],
          "name": "stdout"
        }
      ]
    },
    {
      "cell_type": "markdown",
      "metadata": {
        "id": "MWYI5VxeyORn",
        "colab_type": "text"
      },
      "source": [
        "## Сортировка"
      ]
    },
    {
      "cell_type": "code",
      "metadata": {
        "id": "XRyFG4mgyRwI",
        "colab_type": "code",
        "outputId": "4ba57028-dbbf-4d3d-b1d7-c1465add1544",
        "colab": {
          "base_uri": "https://localhost:8080/",
          "height": 69
        }
      },
      "source": [
        "# Пузырьковая сортировка\n",
        "arr = [1, 3, 8, 2, 9, 2, 5, 6]\n",
        "n = len(arr)\n",
        "\n",
        "for i in range(n):\n",
        "    for j in range(n-1):\n",
        "        if arr[j] > arr[j+1]:\n",
        "            arr[j], arr[j+1] = arr[j+1], arr[j]\n",
        "print(arr)\n",
        "\n",
        "# Сортировка подсчетом\n",
        "arr = [1, 3, 8, 2, 9, 2, 5, 6]\n",
        "maxv = max(arr)\n",
        "count = [0]*(maxv+1)\n",
        "for a in arr:\n",
        "    count[a] += 1\n",
        "print(\"count:\", count)\n",
        "print(\"res:\", end=\" \")\n",
        "res = []\n",
        "for i, x in enumerate(count):\n",
        "    for j in range(x):\n",
        "        res.append(i)\n",
        "print(res)"
      ],
      "execution_count": 0,
      "outputs": [
        {
          "output_type": "stream",
          "text": [
            "[1, 2, 2, 3, 5, 6, 8, 9]\n",
            "count: [0, 1, 2, 1, 0, 1, 1, 0, 1, 1]\n",
            "res: [1, 2, 2, 3, 5, 6, 8, 9]\n"
          ],
          "name": "stdout"
        }
      ]
    },
    {
      "cell_type": "markdown",
      "metadata": {
        "id": "EBzBmONjcXG_",
        "colab_type": "text"
      },
      "source": [
        "## Алгоритмы заметающей прямой (Sweep line algorithm)"
      ]
    },
    {
      "cell_type": "code",
      "metadata": {
        "id": "O-ibZZgFcY19",
        "colab_type": "code",
        "colab": {
          "base_uri": "https://localhost:8080/",
          "height": 35
        },
        "outputId": "850db67d-d561-4d15-b24e-8da1e7c0171a"
      },
      "source": [
        "# Пусть имеется ресторан, и мы знаем время прихода и ухода всех клиентов в течение дня. \n",
        "# Задача состоит в том, чтобы найти максимальное число клиентов, \n",
        "# находившихся в ресторане одновременно\n",
        "A = (6, 13)\n",
        "B = (2, 8)\n",
        "C = (11, 14)\n",
        "D = (1, 9)\n",
        "client = [A, B, C, D]\n",
        "client.sort()\n",
        "\n",
        "ans = 0\n",
        "count = 0\n",
        "out = []\n",
        "while client:\n",
        "    curr_in, curr_out = client.pop(0)\n",
        "    while out and out[0] < curr_in:\n",
        "        out.pop(0)\n",
        "        count -= 1\n",
        "    count += 1\n",
        "    ans = max(ans, count)\n",
        "    out.append(curr_out)\n",
        "ans\n"
      ],
      "execution_count": 3,
      "outputs": [
        {
          "output_type": "execute_result",
          "data": {
            "text/plain": [
              "3"
            ]
          },
          "metadata": {
            "tags": []
          },
          "execution_count": 3
        }
      ]
    },
    {
      "cell_type": "markdown",
      "metadata": {
        "id": "EnsUXm5AKAjm",
        "colab_type": "text"
      },
      "source": [
        "## Составление расписания"
      ]
    },
    {
      "cell_type": "code",
      "metadata": {
        "id": "DsxpvfzzKC67",
        "colab_type": "code",
        "colab": {
          "base_uri": "https://localhost:8080/",
          "height": 52
        },
        "outputId": "e8a0e718-d6e5-4438-da2b-a7581cbe2201"
      },
      "source": [
        "# n событий заданы моментами начала и конца, требуется составить расписание, \n",
        "# включающее как можно больше событий.\n",
        "A = (1, 5)\n",
        "B = (2, 8)\n",
        "C = (5, 14)\n",
        "D = (10, 13)\n",
        "\n",
        "event = sorted([A, B, C, D], key=lambda x: x[1])\n",
        "print(\"sorted:\", event)\n",
        "schedule = [event[0]]\n",
        "i = 1\n",
        "while True:\n",
        "    while i < len(event) and event[i][0] < schedule[-1][1]:\n",
        "        i += 1\n",
        "    if i == len(event):\n",
        "        break\n",
        "    schedule.append(event[i])\n",
        "print(\"ans:\", schedule)"
      ],
      "execution_count": 6,
      "outputs": [
        {
          "output_type": "stream",
          "text": [
            "sorted: [(1, 5), (2, 8), (10, 13), (5, 14)]\n",
            "ans: [(1, 5), (10, 13)]\n"
          ],
          "name": "stdout"
        }
      ]
    },
    {
      "cell_type": "markdown",
      "metadata": {
        "id": "RIYpGkBpOtMy",
        "colab_type": "text"
      },
      "source": [
        "## Работы и сроки исполнения"
      ]
    },
    {
      "cell_type": "code",
      "metadata": {
        "id": "yBV8Lk8HOsT4",
        "colab_type": "code",
        "colab": {
          "base_uri": "https://localhost:8080/",
          "height": 35
        },
        "outputId": "8b04e563-8bde-4045-cf4c-9e266258721d"
      },
      "source": [
        "\"\"\"\n",
        "Дано n работ и для каждой указаны продолжительность и крайний срок. \n",
        "Наша задача – выбрать порядок выполнения работ. \n",
        "Для каждой работы нам начисляется (d – x) баллов, \n",
        "где d – крайний срок исполнения работы, \n",
        "а x – момент ее фактического завершения. \n",
        "Какое максимальное число баллов мы можем заработать?\n",
        "\"\"\"\n",
        "A = (4, 2) # duration, deadline\n",
        "B = (3, 10)\n",
        "C = (2, 8)\n",
        "D = (4, 15)\n",
        "jobs = sorted([A, B, C, D])\n",
        "start = 0\n",
        "income = 0\n",
        "for job in jobs:\n",
        "    income += job[1] - job[0] - start \n",
        "    start += job[0]\n",
        "income\n"
      ],
      "execution_count": 17,
      "outputs": [
        {
          "output_type": "execute_result",
          "data": {
            "text/plain": [
              "6"
            ]
          },
          "metadata": {
            "tags": []
          },
          "execution_count": 17
        }
      ]
    }
  ]
}