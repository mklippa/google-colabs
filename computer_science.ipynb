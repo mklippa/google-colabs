{
  "nbformat": 4,
  "nbformat_minor": 0,
  "metadata": {
    "kernelspec": {
      "display_name": "Python 3",
      "language": "python",
      "name": "python3"
    },
    "language_info": {
      "codemirror_mode": {
        "name": "ipython",
        "version": 3
      },
      "file_extension": ".py",
      "mimetype": "text/x-python",
      "name": "python",
      "nbconvert_exporter": "python",
      "pygments_lexer": "ipython3",
      "version": "3.7.3"
    },
    "colab": {
      "name": "computer_science.ipynb",
      "provenance": [],
      "collapsed_sections": [
        "S78zPlXezgAr",
        "ENQC3qkJ0wQh",
        "LqqWSC1owdtr"
      ],
      "toc_visible": true,
      "include_colab_link": true
    }
  },
  "cells": [
    {
      "cell_type": "markdown",
      "metadata": {
        "id": "view-in-github",
        "colab_type": "text"
      },
      "source": [
        "<a href=\"https://colab.research.google.com/github/mklippa/google-colabs/blob/master/computer_science.ipynb\" target=\"_parent\"><img src=\"https://colab.research.google.com/assets/colab-badge.svg\" alt=\"Open In Colab\"/></a>"
      ]
    },
    {
      "cell_type": "code",
      "metadata": {
        "id": "lAugPRnTzQ15",
        "colab_type": "code",
        "colab": {}
      },
      "source": [
        "from copy import copy, deepcopy"
      ],
      "execution_count": null,
      "outputs": []
    },
    {
      "cell_type": "markdown",
      "metadata": {
        "id": "bRNA717pzQ18",
        "colab_type": "text"
      },
      "source": [
        "## Итерация"
      ]
    },
    {
      "cell_type": "code",
      "metadata": {
        "id": "62YbqucQzQ19",
        "colab_type": "code",
        "colab": {},
        "outputId": "02b25b23-76f4-4cec-fd01-aec7b0ea7bcd"
      },
      "source": [
        "def power_set(items):\n",
        "    res = []\n",
        "    res.append([])\n",
        "    for item in items:\n",
        "        prev = deepcopy(res)\n",
        "        for x in prev:\n",
        "            x.append(item)\n",
        "        res = res + prev\n",
        "    return res\n",
        "\n",
        "power_set([1,2,3,4,5])"
      ],
      "execution_count": null,
      "outputs": [
        {
          "output_type": "execute_result",
          "data": {
            "text/plain": [
              "[[],\n",
              " [1],\n",
              " [2],\n",
              " [1, 2],\n",
              " [3],\n",
              " [1, 3],\n",
              " [2, 3],\n",
              " [1, 2, 3],\n",
              " [4],\n",
              " [1, 4],\n",
              " [2, 4],\n",
              " [1, 2, 4],\n",
              " [3, 4],\n",
              " [1, 3, 4],\n",
              " [2, 3, 4],\n",
              " [1, 2, 3, 4],\n",
              " [5],\n",
              " [1, 5],\n",
              " [2, 5],\n",
              " [1, 2, 5],\n",
              " [3, 5],\n",
              " [1, 3, 5],\n",
              " [2, 3, 5],\n",
              " [1, 2, 3, 5],\n",
              " [4, 5],\n",
              " [1, 4, 5],\n",
              " [2, 4, 5],\n",
              " [1, 2, 4, 5],\n",
              " [3, 4, 5],\n",
              " [1, 3, 4, 5],\n",
              " [2, 3, 4, 5],\n",
              " [1, 2, 3, 4, 5]]"
            ]
          },
          "metadata": {
            "tags": []
          },
          "execution_count": 2
        }
      ]
    },
    {
      "cell_type": "code",
      "metadata": {
        "id": "AnoKzGEMzQ1_",
        "colab_type": "code",
        "colab": {
          "base_uri": "https://localhost:8080/",
          "height": 34
        },
        "outputId": "4432141d-7b13-4267-c50e-7119b8f7435e"
      },
      "source": [
        "def merge(left, right):\n",
        "    result = []\n",
        "    while left or right:\n",
        "        if not right:\n",
        "            result.append(left.pop(0))\n",
        "        elif not left:\n",
        "            result.append(right.pop(0))\n",
        "        elif left[0] < right[0]:\n",
        "            result.append(left.pop(0))\n",
        "        else:\n",
        "            result.append(right.pop(0))\n",
        "    return result\n",
        "\n",
        "sea = ['Cod', 'Herring', 'Marlin']\n",
        "fresh = ['Asp', 'Carp', 'Ide', 'Trout']\n",
        "\n",
        "merge(sea, fresh)"
      ],
      "execution_count": null,
      "outputs": [
        {
          "output_type": "execute_result",
          "data": {
            "text/plain": [
              "['Asp', 'Carp', 'Cod', 'Herring', 'Ide', 'Marlin', 'Trout']"
            ]
          },
          "metadata": {
            "tags": []
          },
          "execution_count": 2
        }
      ]
    },
    {
      "cell_type": "markdown",
      "metadata": {
        "id": "zzOhJyQIzQ2B",
        "colab_type": "text"
      },
      "source": [
        "## Рекурсия"
      ]
    },
    {
      "cell_type": "code",
      "metadata": {
        "id": "cDx_7HQGzQ2B",
        "colab_type": "code",
        "colab": {},
        "outputId": "fc1da90f-d297-4f60-aa74-ab10ffd63985"
      },
      "source": [
        "def fib(n):\n",
        "    if n <= 2:\n",
        "        return 1\n",
        "    return fib(n-1)+fib(n-2)\n",
        "\n",
        "fib(10)"
      ],
      "execution_count": null,
      "outputs": [
        {
          "output_type": "execute_result",
          "data": {
            "text/plain": [
              "55"
            ]
          },
          "metadata": {
            "tags": []
          },
          "execution_count": 5
        }
      ]
    },
    {
      "cell_type": "code",
      "metadata": {
        "id": "7LY1z2WuzQ2D",
        "colab_type": "code",
        "colab": {},
        "outputId": "b9cec146-f588-4daa-eb8a-7c5c75616b22"
      },
      "source": [
        "def palindrome(word):\n",
        "    if len(word) <= 1:\n",
        "        return True\n",
        "    if word[0] != word[-1]:\n",
        "        return False\n",
        "    return palindrome(word[1:-1])\n",
        "\n",
        "palindrome('racecar')"
      ],
      "execution_count": null,
      "outputs": [
        {
          "output_type": "execute_result",
          "data": {
            "text/plain": [
              "True"
            ]
          },
          "metadata": {
            "tags": []
          },
          "execution_count": 6
        }
      ]
    },
    {
      "cell_type": "markdown",
      "metadata": {
        "id": "vegll_x6zQ2F",
        "colab_type": "text"
      },
      "source": [
        "## Рекурсия vs  Итерации"
      ]
    },
    {
      "cell_type": "code",
      "metadata": {
        "scrolled": false,
        "id": "_SMhpFfQzQ2G",
        "colab_type": "code",
        "colab": {},
        "outputId": "b955a17a-482d-40db-a27d-8e0de7d1a476"
      },
      "source": [
        "def recursive_power_set(items):\n",
        "    ps = []\n",
        "\n",
        "    def power_set(items):\n",
        "        sub = items.copy()\n",
        "        ps.append(tuple(sub))\n",
        "        for item in items:\n",
        "            sub.remove(item)\n",
        "            power_set(sub)\n",
        "            sub.append(item)\n",
        "\n",
        "    power_set(items)\n",
        "\n",
        "    return set(ps)\n",
        "\n",
        "\n",
        "print(recursive_power_set([1, 2, 3]))"
      ],
      "execution_count": null,
      "outputs": [
        {
          "output_type": "stream",
          "text": [
            "{(1, 2), (1,), (2,), (3, 1), (3,), (1, 2, 3), (), (2, 3)}\n"
          ],
          "name": "stdout"
        }
      ]
    },
    {
      "cell_type": "markdown",
      "metadata": {
        "id": "sHgAp8i_zQ2H",
        "colab_type": "text"
      },
      "source": [
        "## Полный перебор"
      ]
    },
    {
      "cell_type": "code",
      "metadata": {
        "id": "OVkwo2jlzQ2I",
        "colab_type": "code",
        "colab": {},
        "outputId": "1bf03a7b-3332-471c-d909-df7d25b7eb95"
      },
      "source": [
        "def knapsack(items, max_weight):\n",
        "    best_value = 0\n",
        "    best_candidate = None\n",
        "    for candidate in power_set(items):\n",
        "        if total_weight(candidate) <= max_weight:\n",
        "            sv = sales_value(candidate)\n",
        "            if sv > best_value:\n",
        "                best_value = sv\n",
        "                best_candidate = candidate\n",
        "    return best_candidate\n",
        "\n",
        "\n",
        "def total_weight(candidate):\n",
        "    return sum(map(lambda x: x[0], candidate))\n",
        "\n",
        "\n",
        "def sales_value(candidate):\n",
        "    return sum(map(lambda x: x[1], candidate))\n",
        "\n",
        "\n",
        "print(knapsack([(1, 1), (1, 1), (1, 1), (2, 1), (2, 1)], 4))"
      ],
      "execution_count": null,
      "outputs": [
        {
          "output_type": "execute_result",
          "data": {
            "text/plain": [
              "[1, 1, 2]"
            ]
          },
          "metadata": {
            "tags": []
          },
          "execution_count": 10
        }
      ]
    },
    {
      "cell_type": "markdown",
      "metadata": {
        "id": "mOp9XhEAzQ2K",
        "colab_type": "text"
      },
      "source": [
        "## Поиск (перебор) с возвратом"
      ]
    },
    {
      "cell_type": "code",
      "metadata": {
        "id": "mPxSWkUuzQ2L",
        "colab_type": "code",
        "colab": {},
        "outputId": "3f8f9fae-27da-4b06-af93-d0b054b8c4b9"
      },
      "source": [
        "def queens(board):\n",
        "    if has_8_queens(board):\n",
        "        return board\n",
        "    for position in unattacked_positions(board):\n",
        "        place_queen(board, position)\n",
        "        solution = queens(board)\n",
        "        if solution:\n",
        "            return solution\n",
        "        remove_queen(board, position)\n",
        "    return False\n",
        "\n",
        "\n",
        "def remove_queen(board, position):\n",
        "    i, j = position\n",
        "    board[i][j] = 0\n",
        "\n",
        "\n",
        "def place_queen(board, position):\n",
        "    i, j = position\n",
        "    board[i][j] = 1\n",
        "\n",
        "\n",
        "def unattacked_positions(board):\n",
        "    attacked = empty()\n",
        "    for i in range(8):\n",
        "        for j in range(8):\n",
        "            position = (i, j)\n",
        "            if board[i][j] == 1:\n",
        "                fill_horizontal(attacked, position)\n",
        "                fill_vertical(attacked, position)\n",
        "                fill_diagonal(attacked, position)\n",
        "    res = []\n",
        "    for i in range(8):\n",
        "        for j in range(8):\n",
        "            if attacked[i][j] == 0:\n",
        "                res.append((i, j))\n",
        "    return res\n",
        "\n",
        "\n",
        "def fill_horizontal(board, position):\n",
        "    i = position[0]\n",
        "    for j in range(8):\n",
        "        board[i][j] = 1\n",
        "\n",
        "\n",
        "def fill_vertical(board, position):\n",
        "    j = position[1]\n",
        "    for i in range(8):\n",
        "        board[i][j] = 1\n",
        "\n",
        "\n",
        "def fill_diagonal(board, position):\n",
        "    row, column = position\n",
        "    for i in range(8):\n",
        "        for j in range(8):\n",
        "            if i - j == row - column or i + j == row + column:\n",
        "                board[i][j] = 1\n",
        "\n",
        "\n",
        "def has_8_queens(board):\n",
        "    queens = 0\n",
        "    for i in range(8):\n",
        "        for j in range(8):\n",
        "            queens += board[i][j]\n",
        "    return queens == 8\n",
        "\n",
        "\n",
        "def empty():\n",
        "    matrix = []\n",
        "    for _ in range(8):\n",
        "        matrix.append([0] * 8)\n",
        "    return matrix\n",
        "\n",
        "board = empty()\n",
        "\n",
        "queens(board)"
      ],
      "execution_count": null,
      "outputs": [
        {
          "output_type": "execute_result",
          "data": {
            "text/plain": [
              "[[1, 0, 0, 0, 0, 0, 0, 0],\n",
              " [0, 0, 0, 0, 1, 0, 0, 0],\n",
              " [0, 0, 0, 0, 0, 0, 0, 1],\n",
              " [0, 0, 0, 0, 0, 1, 0, 0],\n",
              " [0, 0, 1, 0, 0, 0, 0, 0],\n",
              " [0, 0, 0, 0, 0, 0, 1, 0],\n",
              " [0, 1, 0, 0, 0, 0, 0, 0],\n",
              " [0, 0, 0, 1, 0, 0, 0, 0]]"
            ]
          },
          "metadata": {
            "tags": []
          },
          "execution_count": 16
        }
      ]
    },
    {
      "cell_type": "markdown",
      "metadata": {
        "id": "znA2Sj4IzQ2N",
        "colab_type": "text"
      },
      "source": [
        "## \"Жадные\" алгоритмы"
      ]
    },
    {
      "cell_type": "code",
      "metadata": {
        "id": "R3N2OXX3zQ2N",
        "colab_type": "code",
        "colab": {},
        "outputId": "3ef62e3b-6319-491a-d6e7-7b35ec3da780"
      },
      "source": [
        "def greedy_knapsack(items, max_weight):\n",
        "    bag_weight = 0\n",
        "    bag_items = []\n",
        "    for item in sorted_by_value(items):\n",
        "        if max_weight >= bag_weight + item[0]:\n",
        "            bag_weight = bag_weight + item[0]\n",
        "            bag_items.append(item)\n",
        "    return bag_items\n",
        "\n",
        "def sorted_by_value(items):\n",
        "    return sorted(items, key=lambda x: x[1], reverse=True)\n",
        "\n",
        "print(greedy_knapsack([(1, 1), (1, 1), (1, 1), (2, 1), (2, 1)], 4))"
      ],
      "execution_count": null,
      "outputs": [
        {
          "output_type": "stream",
          "text": [
            "[2, 2]\n"
          ],
          "name": "stdout"
        }
      ]
    },
    {
      "cell_type": "markdown",
      "metadata": {
        "id": "MruxICEYzQ2P",
        "colab_type": "text"
      },
      "source": [
        "## Разделяй и властвуй"
      ]
    },
    {
      "cell_type": "code",
      "metadata": {
        "id": "gn-LNk6EzQ2Q",
        "colab_type": "code",
        "colab": {
          "base_uri": "https://localhost:8080/",
          "height": 34
        },
        "outputId": "1b940c79-6f69-43bd-d3b1-fed612e5b45a"
      },
      "source": [
        "def merge_sort(arr):\n",
        "    if len(arr) == 1:\n",
        "        return arr\n",
        "    half = len(arr) // 2\n",
        "    left = arr[:half]\n",
        "    right = arr[half:]\n",
        "    return merge(merge_sort(left), merge_sort(right))\n",
        "\n",
        "merge_sort([27,53,7,25,33,2,32,47,43])"
      ],
      "execution_count": null,
      "outputs": [
        {
          "output_type": "execute_result",
          "data": {
            "text/plain": [
              "[2, 7, 25, 27, 32, 33, 43, 47, 53]"
            ]
          },
          "metadata": {
            "tags": []
          },
          "execution_count": 3
        }
      ]
    },
    {
      "cell_type": "code",
      "metadata": {
        "id": "orzJfrsizQ2R",
        "colab_type": "code",
        "colab": {},
        "outputId": "ad1086c1-ef89-4fe8-8ba9-a3c60eedb3d9"
      },
      "source": [
        "def trade(prices):\n",
        "    if len(prices) == 1:\n",
        "        return 0\n",
        "    half = int(len(prices) / 2)\n",
        "    former = prices[:half]\n",
        "    latter = prices[half:]\n",
        "    case3 = max(latter) - min(former)\n",
        "    return max(trade(former), trade(latter), case3)\n",
        "\n",
        "trade([27, 53, 7, 25, 33, 2, 32, 47, 43])"
      ],
      "execution_count": null,
      "outputs": [
        {
          "output_type": "execute_result",
          "data": {
            "text/plain": [
              "45"
            ]
          },
          "metadata": {
            "tags": []
          },
          "execution_count": 24
        }
      ]
    },
    {
      "cell_type": "code",
      "metadata": {
        "id": "tZkQDuwFzQ2T",
        "colab_type": "code",
        "colab": {},
        "outputId": "dbc41816-46aa-4dc5-fda7-3d2d9fb0f4ff"
      },
      "source": [
        "def knapsack(items, max_weight):\n",
        "    if len(items) == 1:\n",
        "        return items[0][1] if items[0][0] <= max_weight else 0\n",
        "\n",
        "    if items[-1][0] > max_weight:\n",
        "        return knapsack(items[:-2], max_weight)\n",
        "\n",
        "    return max(\n",
        "        knapsack(items[:-1], max_weight),\n",
        "        knapsack(items[:-1], max_weight - items[-1][0]) + items[-1][1],\n",
        "    )\n",
        "\n",
        "\n",
        "print(knapsack([(1, 1), (1, 1), (1, 1), (2, 1), (2, 1)], 4))"
      ],
      "execution_count": null,
      "outputs": [
        {
          "output_type": "stream",
          "text": [
            "3\n"
          ],
          "name": "stdout"
        }
      ]
    },
    {
      "cell_type": "markdown",
      "metadata": {
        "id": "tS2rrpHbzQ2X",
        "colab_type": "text"
      },
      "source": [
        "## Dynamic Programming"
      ]
    },
    {
      "cell_type": "code",
      "metadata": {
        "id": "X9SA0lclzQ2X",
        "colab_type": "code",
        "colab": {},
        "outputId": "97791ed0-2de0-4a93-914f-4e176c9fec11"
      },
      "source": [
        "M = {1: 1, 2: 2}\n",
        "\n",
        "\n",
        "def dfib(n):\n",
        "    if n not in M.keys():\n",
        "        M[n] = dfib(n - 1) + dfib(n - 2)\n",
        "    return M[n]\n",
        "\n",
        "\n",
        "print(dfib(6))"
      ],
      "execution_count": null,
      "outputs": [
        {
          "output_type": "stream",
          "text": [
            "13\n"
          ],
          "name": "stdout"
        }
      ]
    },
    {
      "cell_type": "markdown",
      "metadata": {
        "id": "O6U79R8fzQ2Z",
        "colab_type": "text"
      },
      "source": [
        "## Memoizing Knapsacks"
      ]
    },
    {
      "cell_type": "code",
      "metadata": {
        "id": "TfY1qPdzzQ2Z",
        "colab_type": "code",
        "colab": {},
        "outputId": "6a6e43c2-0085-4cae-8dc7-e72145dc16f3"
      },
      "source": [
        "M = {}\n",
        "\n",
        "def knapsack(items, max_weight):\n",
        "    n = len(items)\n",
        "\n",
        "    if n == 1:\n",
        "        if (n, max_weight) not in M.keys():\n",
        "            M[(n, max_weight)] = items[0][1] if items[0][0] <= max_weight else 0\n",
        "        return M[(n, max_weight)]\n",
        "\n",
        "    if items[-1][0] > max_weight:\n",
        "        if (n - 2, max_weight) not in M.keys():\n",
        "            M[(n - 2, max_weight)] = knapsack(items[:-2], max_weight)\n",
        "        return M[(n - 2, max_weight)]\n",
        "\n",
        "    if (n - 1, max_weight) not in M.keys():\n",
        "        M[(n - 1, max_weight)] = knapsack(items[:-1], max_weight)\n",
        "\n",
        "    if (n - 1, max_weight - items[-1][0]) not in M.keys():\n",
        "        M[(n - 1, max_weight - items[-1][0])] = knapsack(items[:-1], max_weight - items[-1][0])\n",
        "\n",
        "    return max(\n",
        "        M[(n - 1, max_weight)],\n",
        "        M[(n - 1, max_weight - items[-1][0])] + items[-1][1],\n",
        "    )\n",
        "\n",
        "\n",
        "print(knapsack([(1, 1), (1, 1), (1, 1), (2, 1), (2, 1)], 4))"
      ],
      "execution_count": null,
      "outputs": [
        {
          "output_type": "stream",
          "text": [
            "3\n"
          ],
          "name": "stdout"
        }
      ]
    },
    {
      "cell_type": "markdown",
      "metadata": {
        "id": "GcwLO5mYzQ2b",
        "colab_type": "text"
      },
      "source": [
        "## Bottom-up Best Trade"
      ]
    },
    {
      "cell_type": "code",
      "metadata": {
        "id": "2_oCJ1UXzQ2c",
        "colab_type": "code",
        "colab": {},
        "outputId": "788bf338-0b8e-46c5-df6e-f631c9c16894"
      },
      "source": [
        "B = {}\n",
        "\n",
        "\n",
        "def trade_dp(P):\n",
        "    B[1] = 1\n",
        "    sell_day = 1\n",
        "    best_profit = 0\n",
        "\n",
        "    for n in range(2, len(P)):\n",
        "        if P[n] < P[B[n - 1]]:\n",
        "            B[n] = n\n",
        "        else:\n",
        "            B[n] = B[n - 1]\n",
        "\n",
        "        profit = P[n] - P[B[n]]\n",
        "        if profit > best_profit:\n",
        "            sell_day = n\n",
        "            best_profit = profit\n",
        "\n",
        "    return (sell_day, B[sell_day])\n",
        "\n",
        "\n",
        "print(trade_dp([27, 53, 7, 25, 33, 2, 32, 47, 43]))\n"
      ],
      "execution_count": null,
      "outputs": [
        {
          "output_type": "stream",
          "text": [
            "(7, 5)\n"
          ],
          "name": "stdout"
        }
      ]
    },
    {
      "cell_type": "markdown",
      "metadata": {
        "id": "95FYp0txzQ2d",
        "colab_type": "text"
      },
      "source": [
        "## Upper and Lower Bounds"
      ]
    },
    {
      "cell_type": "code",
      "metadata": {
        "id": "hdGDHfYqzQ2e",
        "colab_type": "code",
        "colab": {},
        "outputId": "2e36bd59-0ab2-411d-8410-0da1e436a2f0"
      },
      "source": [
        "def powdered_knapsack(items, max_weight):\n",
        "    bag_weight = 0\n",
        "    bag_items = []\n",
        "    bagged_value = 0\n",
        "    items = sort_by_value_weight_ratio(items)\n",
        "    for i in items:\n",
        "        weight = min(max_weight - bag_weight, i[\"weight\"])\n",
        "        bag_weight = bag_weight + weight\n",
        "        value = weight * i[\"value\"] / i[\"weight\"]\n",
        "        bagged_value = bagged_value + value\n",
        "        bag_items.append((i[\"name\"], weight))\n",
        "    return bag_items, bagged_value\n",
        "\n",
        "def sort_by_value_weight_ratio(items):\n",
        "    return sorted(items, key=lambda x: x[\"value\"]/x[\"weight\"], reverse=True)\n",
        "\n",
        "print(powdered_knapsack([\n",
        "    {\"name\": \"A\", \"weight\": 5, \"value\": 20},\n",
        "    {\"name\": \"B\", \"weight\": 4, \"value\": 19},\n",
        "    {\"name\": \"C\", \"weight\": 2, \"value\": 16},\n",
        "    {\"name\": \"D\", \"weight\": 5, \"value\": 14},\n",
        "    {\"name\": \"E\", \"weight\": 3, \"value\": 13},\n",
        "    {\"name\": \"F\", \"weight\": 2, \"value\": 9}\n",
        "], 10))"
      ],
      "execution_count": null,
      "outputs": [
        {
          "output_type": "stream",
          "text": [
            "([('C', 2), ('B', 4), ('F', 2), ('E', 2), ('A', 0), ('D', 0)], 52.666666666666664)\n"
          ],
          "name": "stdout"
        }
      ]
    },
    {
      "cell_type": "markdown",
      "metadata": {
        "id": "OJ5r0wlRzQ2g",
        "colab_type": "text"
      },
      "source": [
        "## Binary search tree"
      ]
    },
    {
      "cell_type": "code",
      "metadata": {
        "scrolled": true,
        "id": "6pYBh1lCzQ2g",
        "colab_type": "code",
        "colab": {},
        "outputId": "c48553e2-9b66-4b4c-ba59-4ef5c2dd6b47"
      },
      "source": [
        "class Node():\n",
        "\n",
        "    def __init__(self, value, left=None, right=None):\n",
        "        self.value = value\n",
        "        self.left = left\n",
        "        self.right = right\n",
        "\n",
        "class BinaryTree():\n",
        "\n",
        "    def __init__(self, root_node):\n",
        "        self.root_node = root_node\n",
        "\n",
        "    def find_node(self, value):\n",
        "        node = self.root_node\n",
        "        while node:\n",
        "            if node.value == value:\n",
        "                return value\n",
        "            if value > node.value:\n",
        "                node = node.right\n",
        "            else:\n",
        "                node = node.left\n",
        "        return \"NOT FOUND\"\n",
        "\n",
        "    def insert_node(self, new_node):\n",
        "        node = self.root_node\n",
        "        while node:\n",
        "            last_node = node\n",
        "            if new_node.value > node.value:\n",
        "                node = node.right\n",
        "            else:\n",
        "                node = node.left\n",
        "        if new_node.value > last_node.value:\n",
        "            last_node.right = new_node\n",
        "        else:\n",
        "            last_node.left = new_node\n",
        "\n",
        "root = Node(10)\n",
        "bt = BinaryTree(root)\n",
        "for node in [Node(6),Node(18),Node(4),Node(8),Node(15),Node(21)]:\n",
        "    bt.insert_node(node)\n",
        "\n",
        "print(bt.find_node(13))"
      ],
      "execution_count": null,
      "outputs": [
        {
          "output_type": "stream",
          "text": [
            "NOT FOUND\n"
          ],
          "name": "stdout"
        }
      ]
    },
    {
      "cell_type": "code",
      "metadata": {
        "id": "jBCb4rOszQ2j",
        "colab_type": "code",
        "colab": {},
        "outputId": "5c694c3b-3a36-4c64-ebb1-36d73ab51692"
      },
      "source": [
        "def build_balanced(nodes):\n",
        "    if not nodes:\n",
        "        return None\n",
        "    middle = int(len(nodes) / 2)\n",
        "    left = nodes[0:middle]\n",
        "    right = nodes[middle + 1 :]\n",
        "    nodes[middle].left = build_balanced(left)\n",
        "    nodes[middle].right = build_balanced(right)\n",
        "    return nodes[middle]\n",
        "\n",
        "\n",
        "nodes = sorted(\n",
        "    [Node(6), Node(18), Node(4), Node(8), Node(10), Node(15), Node(21)],\n",
        "    key=lambda x: x.value,\n",
        ")\n",
        "build_balanced(nodes)"
      ],
      "execution_count": null,
      "outputs": [
        {
          "output_type": "execute_result",
          "data": {
            "text/plain": [
              "<__main__.Node at 0x112a1d898>"
            ]
          },
          "metadata": {
            "tags": []
          },
          "execution_count": 39
        }
      ]
    },
    {
      "cell_type": "markdown",
      "metadata": {
        "id": "JvrHqzoAzQ2m",
        "colab_type": "text"
      },
      "source": [
        "## Sorting"
      ]
    },
    {
      "cell_type": "code",
      "metadata": {
        "id": "-hqXufUJzQ2n",
        "colab_type": "code",
        "colab": {},
        "outputId": "889dbe14-de69-4572-e652-2dd7e03d2cde"
      },
      "source": [
        "def insertion_sort(items):\n",
        "    for i in range(2, len(items)):\n",
        "        j = i\n",
        "        while j and items[j] < items[j-1]:\n",
        "            items[j], items[j-1] = items[j-1], items[j]\n",
        "            j -= 1\n",
        "\n",
        "items = [2,3,1,4,5]\n",
        "insertion_sort(items)\n",
        "print(items)"
      ],
      "execution_count": null,
      "outputs": [
        {
          "output_type": "stream",
          "text": [
            "[1, 2, 3, 4, 5]\n"
          ],
          "name": "stdout"
        }
      ]
    },
    {
      "cell_type": "markdown",
      "metadata": {
        "id": "kepTzd2czQ2o",
        "colab_type": "text"
      },
      "source": [
        "## Binary search"
      ]
    },
    {
      "cell_type": "code",
      "metadata": {
        "scrolled": true,
        "id": "WxajEvx4zQ2p",
        "colab_type": "code",
        "colab": {},
        "outputId": "88969a63-78b4-4eea-a5b4-59fa7723c4d8"
      },
      "source": [
        "def binary_search(items, key):\n",
        "    if not items:\n",
        "        return None\n",
        "    i = int(len(items) / 2)\n",
        "    if key == items[i]:\n",
        "        return (i, key)\n",
        "    if key > items[i]:\n",
        "        sliced = items[i + 1 :]\n",
        "    else:\n",
        "        sliced = items[:i]\n",
        "    return binary_search(sliced, key)\n",
        "\n",
        "\n",
        "print(binary_search([1, 2, 3, 4, 5, 6, 7, 8, 9], 3))"
      ],
      "execution_count": null,
      "outputs": [
        {
          "output_type": "stream",
          "text": [
            "(2, 3)\n"
          ],
          "name": "stdout"
        }
      ]
    },
    {
      "cell_type": "code",
      "metadata": {
        "id": "JYvcvvFTzQ2q",
        "colab_type": "code",
        "colab": {}
      },
      "source": [
        "import numpy as np"
      ],
      "execution_count": null,
      "outputs": []
    },
    {
      "cell_type": "markdown",
      "metadata": {
        "id": "W_wSD8V60NMA",
        "colab_type": "text"
      },
      "source": [
        "# Graph"
      ]
    },
    {
      "cell_type": "code",
      "metadata": {
        "id": "culc44Ti0bWw",
        "colab_type": "code",
        "colab": {
          "base_uri": "https://localhost:8080/",
          "height": 243
        },
        "outputId": "b38b0fbe-d814-48f2-bc21-5263dd850d2f"
      },
      "source": [
        "class Node():\n",
        "  def __init__(self, key, connected_nodes=None):\n",
        "    self.key = key\n",
        "    self.connected_nodes = connected_nodes\n",
        "\n",
        "  def __repr__(self):\n",
        "    if self.connected_nodes:\n",
        "      keys = map(lambda x : str(x.key), self.connected_nodes)\n",
        "      children = ', '.join(keys)\n",
        "    else:\n",
        "      children = '_'\n",
        "    \n",
        "    return f\"Key: {self.key}, Children: {children}\\n\"\n",
        "\n",
        "edges = {\n",
        "    1: [2,3],\n",
        "    2: [4,5],\n",
        "    3: [6,7],\n",
        "    4: [8,9,10],\n",
        "    5: [11],\n",
        "    6: [12],\n",
        "    7: None,\n",
        "    8: None,\n",
        "    9: None,\n",
        "    10: None,\n",
        "    11: None,\n",
        "    12: None\n",
        "}\n",
        "graph = {}\n",
        "\n",
        "for key in edges:\n",
        "  graph[key] = Node(key)\n",
        "\n",
        "for key, values in edges.items():\n",
        "  if values:\n",
        "    graph[key].connected_nodes = []\n",
        "    for value in values:\n",
        "      graph[key].connected_nodes.append(graph[value])\n",
        "\n",
        "print(graph)"
      ],
      "execution_count": null,
      "outputs": [
        {
          "output_type": "stream",
          "text": [
            "{1: Key: 1, Children: 2, 3\n",
            ", 2: Key: 2, Children: 4, 5\n",
            ", 3: Key: 3, Children: 6, 7\n",
            ", 4: Key: 4, Children: 8, 9, 10\n",
            ", 5: Key: 5, Children: 11\n",
            ", 6: Key: 6, Children: 12\n",
            ", 7: Key: 7, Children: _\n",
            ", 8: Key: 8, Children: _\n",
            ", 9: Key: 9, Children: _\n",
            ", 10: Key: 10, Children: _\n",
            ", 11: Key: 11, Children: _\n",
            ", 12: Key: 12, Children: _\n",
            "}\n"
          ],
          "name": "stdout"
        }
      ]
    },
    {
      "cell_type": "markdown",
      "metadata": {
        "id": "S78zPlXezgAr",
        "colab_type": "text"
      },
      "source": [
        "### DFS"
      ]
    },
    {
      "cell_type": "code",
      "metadata": {
        "id": "eTnkl63Uz9CW",
        "colab_type": "code",
        "colab": {}
      },
      "source": [
        "def DFS(start_node, key):\n",
        "  next_nodes = []\n",
        "  seen_nodes = []\n",
        "\n",
        "  next_nodes.append(start_node)\n",
        "  seen_nodes.append(start_node)\n",
        "\n",
        "  while next_nodes:\n",
        "    node = next_nodes.pop()\n",
        "    print(node.key)\n",
        "    if node.key is key:\n",
        "      return key\n",
        "    elif node.connected_nodes:\n",
        "      for n in node.connected_nodes[::-1]:\n",
        "        if n not in seen_nodes:\n",
        "          next_nodes.append(n)\n",
        "          seen_nodes.append(n)\n",
        "  return None"
      ],
      "execution_count": null,
      "outputs": []
    },
    {
      "cell_type": "markdown",
      "metadata": {
        "id": "ENQC3qkJ0wQh",
        "colab_type": "text"
      },
      "source": [
        "## BFS"
      ]
    },
    {
      "cell_type": "code",
      "metadata": {
        "id": "18FCjlWb0zbB",
        "colab_type": "code",
        "colab": {}
      },
      "source": [
        "def BFS(start_node, key):\n",
        "  next_nodes = []\n",
        "  seen_nodes = []\n",
        "\n",
        "  next_nodes.append(start_node)\n",
        "  seen_nodes.append(start_node)\n",
        "\n",
        "  while next_nodes:\n",
        "    node = next_nodes.pop(0)\n",
        "    print(node.key)\n",
        "    if node.key is key:\n",
        "      return key\n",
        "    elif node.connected_nodes:\n",
        "      for n in node.connected_nodes:\n",
        "        if n not in seen_nodes:\n",
        "          next_nodes.append(n)\n",
        "          seen_nodes.append(n)\n",
        "  return None\n",
        "  "
      ],
      "execution_count": null,
      "outputs": []
    },
    {
      "cell_type": "markdown",
      "metadata": {
        "id": "LqqWSC1owdtr",
        "colab_type": "text"
      },
      "source": [
        "## Test Search"
      ]
    },
    {
      "cell_type": "code",
      "metadata": {
        "id": "7Wa03ivInqZy",
        "colab_type": "code",
        "colab": {
          "base_uri": "https://localhost:8080/",
          "height": 225
        },
        "outputId": "0c5cf2be-b029-49f1-db4e-69ea7306bf7b"
      },
      "source": [
        "DFS(graph[1], 12)"
      ],
      "execution_count": null,
      "outputs": [
        {
          "output_type": "stream",
          "text": [
            "1\n",
            "2\n",
            "4\n",
            "8\n",
            "9\n",
            "10\n",
            "5\n",
            "11\n",
            "3\n",
            "6\n",
            "12\n"
          ],
          "name": "stdout"
        },
        {
          "output_type": "execute_result",
          "data": {
            "text/plain": [
              "12"
            ]
          },
          "metadata": {
            "tags": []
          },
          "execution_count": 56
        }
      ]
    },
    {
      "cell_type": "code",
      "metadata": {
        "id": "0AQar_0bn-GG",
        "colab_type": "code",
        "colab": {
          "base_uri": "https://localhost:8080/",
          "height": 243
        },
        "outputId": "59c680a8-f514-4576-c191-d28ab4d9c9a2"
      },
      "source": [
        "BFS(graph[1], 12)"
      ],
      "execution_count": null,
      "outputs": [
        {
          "output_type": "stream",
          "text": [
            "1\n",
            "2\n",
            "3\n",
            "4\n",
            "5\n",
            "6\n",
            "7\n",
            "8\n",
            "9\n",
            "10\n",
            "11\n",
            "12\n"
          ],
          "name": "stdout"
        },
        {
          "output_type": "execute_result",
          "data": {
            "text/plain": [
              "12"
            ]
          },
          "metadata": {
            "tags": []
          },
          "execution_count": 50
        }
      ]
    }
  ]
}