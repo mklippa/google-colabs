{
  "nbformat": 4,
  "nbformat_minor": 0,
  "metadata": {
    "colab": {
      "name": "grokking_algorithms.ipynb",
      "provenance": [],
      "collapsed_sections": [],
      "include_colab_link": true
    },
    "kernelspec": {
      "name": "python3",
      "display_name": "Python 3"
    }
  },
  "cells": [
    {
      "cell_type": "markdown",
      "metadata": {
        "id": "view-in-github",
        "colab_type": "text"
      },
      "source": [
        "<a href=\"https://colab.research.google.com/github/mklippa/google-colabs/blob/master/grokking_algorithms.ipynb\" target=\"_parent\"><img src=\"https://colab.research.google.com/assets/colab-badge.svg\" alt=\"Open In Colab\"/></a>"
      ]
    },
    {
      "cell_type": "code",
      "metadata": {
        "id": "MbmurTV_LVOV",
        "colab_type": "code",
        "colab": {
          "base_uri": "https://localhost:8080/",
          "height": 34
        },
        "outputId": "218deddd-68aa-4fac-fe2f-480f8f9fd8a7"
      },
      "source": [
        "def summing(arr):\n",
        "  if len(arr) is 0:\n",
        "    return 0\n",
        "  if len(arr) is 1:\n",
        "    return arr[0]\n",
        "  return arr[0] + summing(arr[1:])\n",
        "\n",
        "summing([1,2,3,4,5])"
      ],
      "execution_count": null,
      "outputs": [
        {
          "output_type": "execute_result",
          "data": {
            "text/plain": [
              "15"
            ]
          },
          "metadata": {
            "tags": []
          },
          "execution_count": 1
        }
      ]
    },
    {
      "cell_type": "code",
      "metadata": {
        "id": "BxE3jUxKMT3p",
        "colab_type": "code",
        "colab": {
          "base_uri": "https://localhost:8080/",
          "height": 34
        },
        "outputId": "1e3b5f5c-892f-4052-cce8-5edfbd35841e"
      },
      "source": [
        "def count(arr):\n",
        "  if len(arr) is 0:\n",
        "    return 0\n",
        "  if len(arr) is 1:\n",
        "    return 1\n",
        "  return 1 + count(arr[1:])\n",
        "\n",
        "count([1,2,3,4,5])"
      ],
      "execution_count": null,
      "outputs": [
        {
          "output_type": "execute_result",
          "data": {
            "text/plain": [
              "5"
            ]
          },
          "metadata": {
            "tags": []
          },
          "execution_count": 23
        }
      ]
    },
    {
      "cell_type": "code",
      "metadata": {
        "id": "eeZdgOy8P5pG",
        "colab_type": "code",
        "colab": {
          "base_uri": "https://localhost:8080/",
          "height": 34
        },
        "outputId": "32ed19ca-5cef-4e3f-9967-b3b69cbf3391"
      },
      "source": [
        "def huge(arr, label = \"l\"):\n",
        "  # print(f'{label}: {arr}')\n",
        "  if len(arr) is 0:\n",
        "    return None\n",
        "  if len(arr) is 1:\n",
        "    return arr[0]\n",
        "  \n",
        "  mid = int(len(arr) / 2)\n",
        "  \n",
        "  left = huge(arr[:mid], \"l\")\n",
        "  right = huge(arr[mid:], \"r\")\n",
        "\n",
        "  return left if left > right else right\n",
        "  \n",
        "huge([3,2,6,1,5,4])"
      ],
      "execution_count": null,
      "outputs": [
        {
          "output_type": "execute_result",
          "data": {
            "text/plain": [
              "6"
            ]
          },
          "metadata": {
            "tags": []
          },
          "execution_count": 56
        }
      ]
    },
    {
      "cell_type": "code",
      "metadata": {
        "id": "nfHznoS8T4IA",
        "colab_type": "code",
        "colab": {
          "base_uri": "https://localhost:8080/",
          "height": 34
        },
        "outputId": "4b37624d-62dc-45ba-a5c1-119f4aff54a9"
      },
      "source": [
        "# Бинарный поиск\n",
        "\n",
        "def binary_search(arr, key):\n",
        "  if len(arr) is 0:\n",
        "    return None\n",
        "  if len(arr) is 1:\n",
        "    return key if arr[0] is key else None  \n",
        "  \n",
        "  mid = int(len(arr)/2)\n",
        "  left = arr[:mid]\n",
        "  right = arr[mid:]\n",
        "  if key < right[0]:\n",
        "    return binary_search(left, key)\n",
        "  else:\n",
        "    return binary_search(right, key)\n",
        "\n",
        "\n",
        "binary_search([1,2,3,4,5], 3)"
      ],
      "execution_count": null,
      "outputs": [
        {
          "output_type": "execute_result",
          "data": {
            "text/plain": [
              "3"
            ]
          },
          "metadata": {
            "tags": []
          },
          "execution_count": 57
        }
      ]
    },
    {
      "cell_type": "code",
      "metadata": {
        "id": "cf6ZwGI7IRfl",
        "colab_type": "code",
        "colab": {
          "base_uri": "https://localhost:8080/",
          "height": 35
        },
        "outputId": "a05bb1dd-c703-40a5-e4e0-c240b208c8f3"
      },
      "source": [
        "# Быстрая сортировка\n",
        "\n",
        "def quick_sort(arr):\n",
        "  if len(arr) < 2:\n",
        "    return arr\n",
        "  else:\n",
        "    pivot = arr[0]\n",
        "    less = [i for i in arr[1:] if i <= pivot]\n",
        "    greater = [i for i in arr[1:] if i > pivot]\n",
        "    return quick_sort(less) + [pivot] + quick_sort(greater)\n",
        "\n",
        "quick_sort([10, 5, 2, 3])"
      ],
      "execution_count": null,
      "outputs": [
        {
          "output_type": "execute_result",
          "data": {
            "text/plain": [
              "[2, 3, 5, 10]"
            ]
          },
          "metadata": {
            "tags": []
          },
          "execution_count": 4
        }
      ]
    },
    {
      "cell_type": "code",
      "metadata": {
        "id": "ilmFQrUdPKPk",
        "colab_type": "code",
        "colab": {
          "base_uri": "https://localhost:8080/",
          "height": 35
        },
        "outputId": "d98011a0-f9d6-470c-b35e-fa5d58725c09"
      },
      "source": [
        "# Поиск в ширину\n",
        "\n",
        "graph = {}\n",
        "graph['you'] = ['alice', 'bob', 'claire']\n",
        "graph['bob'] = ['anuj', 'peggy']\n",
        "graph['alice'] = ['peggy']\n",
        "graph['claire'] = ['thom', 'jonny']\n",
        "graph['anuj'] = []\n",
        "graph['peggy'] = []\n",
        "graph['thom'] = []\n",
        "graph['jonny'] = []\n",
        "\n",
        "from collections import deque\n",
        "\n",
        "def person_is_seller(name):\n",
        "  return name[-1] is 'z'\n",
        "\n",
        "def search(name):\n",
        "  search_queue = deque()\n",
        "  search_queue += graph[name]\n",
        "  searched = []\n",
        "  while search_queue:\n",
        "    person = search_queue.popleft()\n",
        "    if not person in searched:\n",
        "      if person_is_seller(person):\n",
        "        return True\n",
        "      else:\n",
        "        search_queue += graph[person]\n",
        "        searched.append(person)\n",
        "  return False\n",
        "\n",
        "search('you')"
      ],
      "execution_count": null,
      "outputs": [
        {
          "output_type": "execute_result",
          "data": {
            "text/plain": [
              "False"
            ]
          },
          "metadata": {
            "tags": []
          },
          "execution_count": 1
        }
      ]
    },
    {
      "cell_type": "code",
      "metadata": {
        "id": "mM1b9LZDDkgt",
        "colab_type": "code",
        "colab": {
          "base_uri": "https://localhost:8080/",
          "height": 35
        },
        "outputId": "8674e251-ae93-4150-ae56-78dc501b3606"
      },
      "source": [
        "# Алгоритм Дейкстры\n",
        "\n",
        "graph = {}\n",
        "graph[\"a\"] = {}\n",
        "graph[\"a\"][\"fin\"] = 1\n",
        "graph[\"b\"] = {}\n",
        "graph[\"b\"][\"a\"] = 3\n",
        "graph[\"b\"][\"fin\"] = 5\n",
        "graph[\"fin\"] = {}\n",
        "\n",
        "infinity = float(\"inf\")\n",
        "costs = {}\n",
        "costs[\"a\"] = 6\n",
        "costs[\"b\"] = 2\n",
        "costs[\"fin\"] = infinity\n",
        "\n",
        "parents = {}\n",
        "parents[\"a\"] = \"start\"\n",
        "parents[\"b\"] = \"start\"\n",
        "parents[\"in\"] = None\n",
        "\n",
        "processed = []\n",
        "\n",
        "def find_lowest_cost_node(costs):\n",
        "  lowest_cost = float(\"inf\")\n",
        "  lowest_cost_node = None\n",
        "  for node in costs:\n",
        "    cost = costs[node]\n",
        "    if cost < lowest_cost and node not in processed:\n",
        "      lowest_cost = cost\n",
        "      lowest_cost_node = node\n",
        "  return lowest_cost_node\n",
        "\n",
        "node = find_lowest_cost_node(costs)\n",
        "while node is not None:\n",
        "  cost = costs[node]\n",
        "  neighbors = graph[node]\n",
        "  for n in neighbors.keys():\n",
        "    new_cost = cost + neighbors[n]\n",
        "    if costs[n] > new_cost:\n",
        "      costs[n] = new_cost\n",
        "      parents[n] = node\n",
        "  processed.append(node)\n",
        "  node = find_lowest_cost_node(costs)\n",
        "\n",
        "processed"
      ],
      "execution_count": null,
      "outputs": [
        {
          "output_type": "execute_result",
          "data": {
            "text/plain": [
              "['b', 'a', 'fin']"
            ]
          },
          "metadata": {
            "tags": []
          },
          "execution_count": 6
        }
      ]
    },
    {
      "cell_type": "code",
      "metadata": {
        "id": "MgR5ftg5ISV2",
        "colab_type": "code",
        "colab": {
          "base_uri": "https://localhost:8080/",
          "height": 34
        },
        "outputId": "43fe770f-6c3e-4f36-e34a-21c527940ba3"
      },
      "source": [
        "# Задача о покрытии множества\n",
        "\n",
        "states_needed = set([\"mt\", \"wa\", \"or\", \"id\", \"nv\", \"ut\", \"ca\", \"az\"])\n",
        "\n",
        "stations = {}\n",
        "stations[\"kone\"] = set([\"id\", \"nv\", \"ut\"])\n",
        "stations[\"ktwo\"] = set([\"wa\", \"id\", \"mt\"])\n",
        "stations[\"kthree\"] = set([\"or\", \"nv\", \"ca\"])\n",
        "stations[\"kfour\"] = set([\"nv\", \"ut\"])\n",
        "stations[\"kfive\"] = set([\"ca\", \"az\"])\n",
        "\n",
        "final_stations = set()\n",
        "\n",
        "while states_needed:\n",
        "  best_station = None\n",
        "  states_covered = set()\n",
        "  for station, states in stations.items():\n",
        "    covered = states_needed & states\n",
        "    if len(covered) > len(states_covered):\n",
        "      best_station = station\n",
        "      states_covered = covered\n",
        "  states_needed -= states_covered\n",
        "  final_stations.add(best_station)\n",
        "\n",
        "final_stations"
      ],
      "execution_count": null,
      "outputs": [
        {
          "output_type": "execute_result",
          "data": {
            "text/plain": [
              "{'kfive', 'kone', 'kthree', 'ktwo'}"
            ]
          },
          "metadata": {
            "tags": []
          },
          "execution_count": 1
        }
      ]
    }
  ]
}